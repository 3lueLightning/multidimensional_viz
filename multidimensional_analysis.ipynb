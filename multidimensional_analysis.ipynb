{
  "nbformat": 4,
  "nbformat_minor": 0,
  "metadata": {
    "colab": {
      "provenance": [],
      "include_colab_link": true
    },
    "kernelspec": {
      "name": "python3",
      "display_name": "Python 3"
    },
    "language_info": {
      "name": "python"
    }
  },
  "cells": [
    {
      "cell_type": "markdown",
      "metadata": {
        "id": "view-in-github",
        "colab_type": "text"
      },
      "source": [
        "<a href=\"https://colab.research.google.com/github/3lueLightning/multidimensional_viz/blob/main/multidimensional_analysis.ipynb\" target=\"_parent\"><img src=\"https://colab.research.google.com/assets/colab-badge.svg\" alt=\"Open In Colab\"/></a>"
      ]
    },
    {
      "cell_type": "markdown",
      "source": [
        "read: https://distill.pub/2016/misread-tsne/"
      ],
      "metadata": {
        "id": "0SqR18kNKnMI"
      }
    },
    {
      "cell_type": "markdown",
      "source": [
        "# Multidimensional analysis using TSNE\n",
        "\n",
        "In this notebook we will apply multidimensional data visualization techincs to perform EDA. To a understand how TSNE working and can help us we will be applying it to a modified version of the famous Iris dataset, which contains a series of measurements regarding 3 speicies of Iris flowers. Or goal is to predict to which species each flower belongs to based on the various measurements. "
      ],
      "metadata": {
        "id": "nqxDq1r6onuZ"
      }
    },
    {
      "cell_type": "code",
      "source": [
        "import numpy as np\n",
        "import pandas as pd\n",
        "import plotly.express as px\n",
        "import plotly.graph_objects as go\n",
        "\n",
        "from sklearn.manifold import TSNE\n",
        "from sklearn.cluster import KMeans"
      ],
      "metadata": {
        "id": "YS1lLDqTcdVt"
      },
      "execution_count": 16,
      "outputs": []
    },
    {
      "cell_type": "markdown",
      "source": [
        "# Load the data\n",
        "The original data has 4 features: 'sepal_length', 'sepal_width', 'petal_length', 'petal_width' and the target variable 'species'. To that we add 3 random variables. "
      ],
      "metadata": {
        "id": "Wmpob8o0ns2N"
      }
    },
    {
      "cell_type": "code",
      "source": [
        "iris = px.data.iris()\n",
        "ORGINAL_FEATURES = iris.columns[~iris.columns.isin(['species',\t'species_id'])]\n",
        "np.random.seed(69)\n",
        "iris[\"random_1\"] = np.round(np.random.uniform(0, 5, len(iris)), 1)\n",
        "#iris[\"random_2\"] = np.round(np.random.uniform(-5, 5, len(iris)), 1)"
      ],
      "metadata": {
        "id": "CbUrkmM_eK8J"
      },
      "execution_count": 17,
      "outputs": []
    },
    {
      "cell_type": "markdown",
      "source": [
        "# First look at the data"
      ],
      "metadata": {
        "id": "mcsfZy1XljAK"
      }
    },
    {
      "cell_type": "code",
      "source": [
        "fig = px.scatter_matrix(\n",
        "    iris,\n",
        "    dimensions=iris.columns[~iris.columns.isin(['species',\t'species_id'])],\n",
        "    color=\"species\", \n",
        "    symbol=\"species\",\n",
        "    title=\"Scatter matrix of iris data set\",\n",
        "    labels={col:col.replace('_', ' ') for col in iris.columns},\n",
        "    width=1300,\n",
        "    height=1000\n",
        ")\n",
        "fig.show()"
      ],
      "metadata": {
        "id": "xM0jM_1sliN5",
        "outputId": "b4a22558-5392-44bc-ef99-368b8df2a19f",
        "colab": {
          "base_uri": "https://localhost:8080/",
          "height": 1000
        }
      },
      "execution_count": 18,
      "outputs": [
        {
          "output_type": "display_data",
          "data": {
            "text/html": [
              "<html>\n",
              "<head><meta charset=\"utf-8\" /></head>\n",
              "<body>\n",
              "    <div>            <script src=\"https://cdnjs.cloudflare.com/ajax/libs/mathjax/2.7.5/MathJax.js?config=TeX-AMS-MML_SVG\"></script><script type=\"text/javascript\">if (window.MathJax) {MathJax.Hub.Config({SVG: {font: \"STIX-Web\"}});}</script>                <script type=\"text/javascript\">window.PlotlyConfig = {MathJaxConfig: 'local'};</script>\n",
              "        <script src=\"https://cdn.plot.ly/plotly-2.8.3.min.js\"></script>                <div id=\"8bc3778c-baa2-4e95-acc0-809c30b2e4fe\" class=\"plotly-graph-div\" style=\"height:1000px; width:1300px;\"></div>            <script type=\"text/javascript\">                                    window.PLOTLYENV=window.PLOTLYENV || {};                                    if (document.getElementById(\"8bc3778c-baa2-4e95-acc0-809c30b2e4fe\")) {                    Plotly.newPlot(                        \"8bc3778c-baa2-4e95-acc0-809c30b2e4fe\",                        [{\"dimensions\":[{\"axis\":{\"matches\":true},\"label\":\"sepal length\",\"values\":[5.1,4.9,4.7,4.6,5.0,5.4,4.6,5.0,4.4,4.9,5.4,4.8,4.8,4.3,5.8,5.7,5.4,5.1,5.7,5.1,5.4,5.1,4.6,5.1,4.8,5.0,5.0,5.2,5.2,4.7,4.8,5.4,5.2,5.5,4.9,5.0,5.5,4.9,4.4,5.1,5.0,4.5,4.4,5.0,5.1,4.8,5.1,4.6,5.3,5.0]},{\"axis\":{\"matches\":true},\"label\":\"sepal width\",\"values\":[3.5,3.0,3.2,3.1,3.6,3.9,3.4,3.4,2.9,3.1,3.7,3.4,3.0,3.0,4.0,4.4,3.9,3.5,3.8,3.8,3.4,3.7,3.6,3.3,3.4,3.0,3.4,3.5,3.4,3.2,3.1,3.4,4.1,4.2,3.1,3.2,3.5,3.1,3.0,3.4,3.5,2.3,3.2,3.5,3.8,3.0,3.8,3.2,3.7,3.3]},{\"axis\":{\"matches\":true},\"label\":\"petal length\",\"values\":[1.4,1.4,1.3,1.5,1.4,1.7,1.4,1.5,1.4,1.5,1.5,1.6,1.4,1.1,1.2,1.5,1.3,1.4,1.7,1.5,1.7,1.5,1.0,1.7,1.9,1.6,1.6,1.5,1.4,1.6,1.6,1.5,1.5,1.4,1.5,1.2,1.3,1.5,1.3,1.5,1.3,1.3,1.3,1.6,1.9,1.4,1.6,1.4,1.5,1.4]},{\"axis\":{\"matches\":true},\"label\":\"petal width\",\"values\":[0.2,0.2,0.2,0.2,0.2,0.4,0.3,0.2,0.2,0.1,0.2,0.2,0.1,0.1,0.2,0.4,0.4,0.3,0.3,0.3,0.2,0.4,0.2,0.5,0.2,0.2,0.4,0.2,0.2,0.2,0.2,0.4,0.1,0.2,0.1,0.2,0.2,0.1,0.2,0.2,0.3,0.3,0.2,0.6,0.4,0.3,0.2,0.2,0.2,0.2]},{\"axis\":{\"matches\":true},\"label\":\"random 1\",\"values\":[1.5,4.0,1.8,3.9,2.8,1.3,0.5,0.3,3.4,3.5,3.7,3.9,0.4,1.6,3.7,1.6,2.4,0.9,1.6,2.3,2.6,1.5,1.4,3.4,1.2,3.4,2.2,1.9,1.7,2.6,4.9,2.7,3.4,2.0,0.6,3.5,2.1,2.3,1.7,0.5,2.3,4.0,1.0,2.3,1.0,0.4,0.2,0.8,1.3,0.3]}],\"hovertemplate\":\"species=setosa<br>%{xaxis.title.text}=%{x}<br>%{yaxis.title.text}=%{y}<extra></extra>\",\"legendgroup\":\"setosa\",\"marker\":{\"color\":\"#636efa\",\"symbol\":\"circle\"},\"name\":\"setosa\",\"showlegend\":true,\"type\":\"splom\"},{\"dimensions\":[{\"axis\":{\"matches\":true},\"label\":\"sepal length\",\"values\":[7.0,6.4,6.9,5.5,6.5,5.7,6.3,4.9,6.6,5.2,5.0,5.9,6.0,6.1,5.6,6.7,5.6,5.8,6.2,5.6,5.9,6.1,6.3,6.1,6.4,6.6,6.8,6.7,6.0,5.7,5.5,5.5,5.8,6.0,5.4,6.0,6.7,6.3,5.6,5.5,5.5,6.1,5.8,5.0,5.6,5.7,5.7,6.2,5.1,5.7]},{\"axis\":{\"matches\":true},\"label\":\"sepal width\",\"values\":[3.2,3.2,3.1,2.3,2.8,2.8,3.3,2.4,2.9,2.7,2.0,3.0,2.2,2.9,2.9,3.1,3.0,2.7,2.2,2.5,3.2,2.8,2.5,2.8,2.9,3.0,2.8,3.0,2.9,2.6,2.4,2.4,2.7,2.7,3.0,3.4,3.1,2.3,3.0,2.5,2.6,3.0,2.6,2.3,2.7,3.0,2.9,2.9,2.5,2.8]},{\"axis\":{\"matches\":true},\"label\":\"petal length\",\"values\":[4.7,4.5,4.9,4.0,4.6,4.5,4.7,3.3,4.6,3.9,3.5,4.2,4.0,4.7,3.6,4.4,4.5,4.1,4.5,3.9,4.8,4.0,4.9,4.7,4.3,4.4,4.8,5.0,4.5,3.5,3.8,3.7,3.9,5.1,4.5,4.5,4.7,4.4,4.1,4.0,4.4,4.6,4.0,3.3,4.2,4.2,4.2,4.3,3.0,4.1]},{\"axis\":{\"matches\":true},\"label\":\"petal width\",\"values\":[1.4,1.5,1.5,1.3,1.5,1.3,1.6,1.0,1.3,1.4,1.0,1.5,1.0,1.4,1.3,1.4,1.5,1.0,1.5,1.1,1.8,1.3,1.5,1.2,1.3,1.4,1.4,1.7,1.5,1.0,1.1,1.0,1.2,1.6,1.5,1.6,1.5,1.3,1.3,1.3,1.2,1.4,1.2,1.0,1.3,1.2,1.3,1.3,1.1,1.3]},{\"axis\":{\"matches\":true},\"label\":\"random 1\",\"values\":[4.6,2.7,4.8,4.5,2.0,1.9,3.3,4.3,2.2,2.7,0.8,2.8,0.6,4.7,4.9,1.5,3.8,1.6,4.9,1.4,3.4,2.2,2.0,2.9,3.0,0.3,2.1,3.5,0.1,3.5,1.3,2.6,2.7,1.8,2.0,0.3,1.1,0.0,1.0,0.6,2.1,3.8,3.6,3.1,1.3,3.4,0.9,3.6,3.1,3.0]}],\"hovertemplate\":\"species=versicolor<br>%{xaxis.title.text}=%{x}<br>%{yaxis.title.text}=%{y}<extra></extra>\",\"legendgroup\":\"versicolor\",\"marker\":{\"color\":\"#EF553B\",\"symbol\":\"diamond\"},\"name\":\"versicolor\",\"showlegend\":true,\"type\":\"splom\"},{\"dimensions\":[{\"axis\":{\"matches\":true},\"label\":\"sepal length\",\"values\":[6.3,5.8,7.1,6.3,6.5,7.6,4.9,7.3,6.7,7.2,6.5,6.4,6.8,5.7,5.8,6.4,6.5,7.7,7.7,6.0,6.9,5.6,7.7,6.3,6.7,7.2,6.2,6.1,6.4,7.2,7.4,7.9,6.4,6.3,6.1,7.7,6.3,6.4,6.0,6.9,6.7,6.9,5.8,6.8,6.7,6.7,6.3,6.5,6.2,5.9]},{\"axis\":{\"matches\":true},\"label\":\"sepal width\",\"values\":[3.3,2.7,3.0,2.9,3.0,3.0,2.5,2.9,2.5,3.6,3.2,2.7,3.0,2.5,2.8,3.2,3.0,3.8,2.6,2.2,3.2,2.8,2.8,2.7,3.3,3.2,2.8,3.0,2.8,3.0,2.8,3.8,2.8,2.8,2.6,3.0,3.4,3.1,3.0,3.1,3.1,3.1,2.7,3.2,3.3,3.0,2.5,3.0,3.4,3.0]},{\"axis\":{\"matches\":true},\"label\":\"petal length\",\"values\":[6.0,5.1,5.9,5.6,5.8,6.6,4.5,6.3,5.8,6.1,5.1,5.3,5.5,5.0,5.1,5.3,5.5,6.7,6.9,5.0,5.7,4.9,6.7,4.9,5.7,6.0,4.8,4.9,5.6,5.8,6.1,6.4,5.6,5.1,5.6,6.1,5.6,5.5,4.8,5.4,5.6,5.1,5.1,5.9,5.7,5.2,5.0,5.2,5.4,5.1]},{\"axis\":{\"matches\":true},\"label\":\"petal width\",\"values\":[2.5,1.9,2.1,1.8,2.2,2.1,1.7,1.8,1.8,2.5,2.0,1.9,2.1,2.0,2.4,2.3,1.8,2.2,2.3,1.5,2.3,2.0,2.0,1.8,2.1,1.8,1.8,1.8,2.1,1.6,1.9,2.0,2.2,1.5,1.4,2.3,2.4,1.8,1.8,2.1,2.4,2.3,1.9,2.3,2.5,2.3,1.9,2.0,2.3,1.8]},{\"axis\":{\"matches\":true},\"label\":\"random 1\",\"values\":[3.5,2.7,2.9,3.0,1.5,4.3,0.3,4.2,2.8,1.1,4.5,2.9,0.3,4.1,4.5,2.1,2.8,3.1,4.8,3.3,2.2,1.1,4.4,1.3,0.5,3.4,0.2,1.7,2.2,4.4,2.2,3.6,2.1,2.3,3.7,1.4,2.9,3.2,3.4,0.4,2.5,1.9,2.2,2.0,1.0,4.3,2.3,4.0,3.0,1.8]}],\"hovertemplate\":\"species=virginica<br>%{xaxis.title.text}=%{x}<br>%{yaxis.title.text}=%{y}<extra></extra>\",\"legendgroup\":\"virginica\",\"marker\":{\"color\":\"#00cc96\",\"symbol\":\"square\"},\"name\":\"virginica\",\"showlegend\":true,\"type\":\"splom\"}],                        {\"template\":{\"data\":{\"bar\":[{\"error_x\":{\"color\":\"#2a3f5f\"},\"error_y\":{\"color\":\"#2a3f5f\"},\"marker\":{\"line\":{\"color\":\"#E5ECF6\",\"width\":0.5},\"pattern\":{\"fillmode\":\"overlay\",\"size\":10,\"solidity\":0.2}},\"type\":\"bar\"}],\"barpolar\":[{\"marker\":{\"line\":{\"color\":\"#E5ECF6\",\"width\":0.5},\"pattern\":{\"fillmode\":\"overlay\",\"size\":10,\"solidity\":0.2}},\"type\":\"barpolar\"}],\"carpet\":[{\"aaxis\":{\"endlinecolor\":\"#2a3f5f\",\"gridcolor\":\"white\",\"linecolor\":\"white\",\"minorgridcolor\":\"white\",\"startlinecolor\":\"#2a3f5f\"},\"baxis\":{\"endlinecolor\":\"#2a3f5f\",\"gridcolor\":\"white\",\"linecolor\":\"white\",\"minorgridcolor\":\"white\",\"startlinecolor\":\"#2a3f5f\"},\"type\":\"carpet\"}],\"choropleth\":[{\"colorbar\":{\"outlinewidth\":0,\"ticks\":\"\"},\"type\":\"choropleth\"}],\"contour\":[{\"colorbar\":{\"outlinewidth\":0,\"ticks\":\"\"},\"colorscale\":[[0.0,\"#0d0887\"],[0.1111111111111111,\"#46039f\"],[0.2222222222222222,\"#7201a8\"],[0.3333333333333333,\"#9c179e\"],[0.4444444444444444,\"#bd3786\"],[0.5555555555555556,\"#d8576b\"],[0.6666666666666666,\"#ed7953\"],[0.7777777777777778,\"#fb9f3a\"],[0.8888888888888888,\"#fdca26\"],[1.0,\"#f0f921\"]],\"type\":\"contour\"}],\"contourcarpet\":[{\"colorbar\":{\"outlinewidth\":0,\"ticks\":\"\"},\"type\":\"contourcarpet\"}],\"heatmap\":[{\"colorbar\":{\"outlinewidth\":0,\"ticks\":\"\"},\"colorscale\":[[0.0,\"#0d0887\"],[0.1111111111111111,\"#46039f\"],[0.2222222222222222,\"#7201a8\"],[0.3333333333333333,\"#9c179e\"],[0.4444444444444444,\"#bd3786\"],[0.5555555555555556,\"#d8576b\"],[0.6666666666666666,\"#ed7953\"],[0.7777777777777778,\"#fb9f3a\"],[0.8888888888888888,\"#fdca26\"],[1.0,\"#f0f921\"]],\"type\":\"heatmap\"}],\"heatmapgl\":[{\"colorbar\":{\"outlinewidth\":0,\"ticks\":\"\"},\"colorscale\":[[0.0,\"#0d0887\"],[0.1111111111111111,\"#46039f\"],[0.2222222222222222,\"#7201a8\"],[0.3333333333333333,\"#9c179e\"],[0.4444444444444444,\"#bd3786\"],[0.5555555555555556,\"#d8576b\"],[0.6666666666666666,\"#ed7953\"],[0.7777777777777778,\"#fb9f3a\"],[0.8888888888888888,\"#fdca26\"],[1.0,\"#f0f921\"]],\"type\":\"heatmapgl\"}],\"histogram\":[{\"marker\":{\"pattern\":{\"fillmode\":\"overlay\",\"size\":10,\"solidity\":0.2}},\"type\":\"histogram\"}],\"histogram2d\":[{\"colorbar\":{\"outlinewidth\":0,\"ticks\":\"\"},\"colorscale\":[[0.0,\"#0d0887\"],[0.1111111111111111,\"#46039f\"],[0.2222222222222222,\"#7201a8\"],[0.3333333333333333,\"#9c179e\"],[0.4444444444444444,\"#bd3786\"],[0.5555555555555556,\"#d8576b\"],[0.6666666666666666,\"#ed7953\"],[0.7777777777777778,\"#fb9f3a\"],[0.8888888888888888,\"#fdca26\"],[1.0,\"#f0f921\"]],\"type\":\"histogram2d\"}],\"histogram2dcontour\":[{\"colorbar\":{\"outlinewidth\":0,\"ticks\":\"\"},\"colorscale\":[[0.0,\"#0d0887\"],[0.1111111111111111,\"#46039f\"],[0.2222222222222222,\"#7201a8\"],[0.3333333333333333,\"#9c179e\"],[0.4444444444444444,\"#bd3786\"],[0.5555555555555556,\"#d8576b\"],[0.6666666666666666,\"#ed7953\"],[0.7777777777777778,\"#fb9f3a\"],[0.8888888888888888,\"#fdca26\"],[1.0,\"#f0f921\"]],\"type\":\"histogram2dcontour\"}],\"mesh3d\":[{\"colorbar\":{\"outlinewidth\":0,\"ticks\":\"\"},\"type\":\"mesh3d\"}],\"parcoords\":[{\"line\":{\"colorbar\":{\"outlinewidth\":0,\"ticks\":\"\"}},\"type\":\"parcoords\"}],\"pie\":[{\"automargin\":true,\"type\":\"pie\"}],\"scatter\":[{\"marker\":{\"colorbar\":{\"outlinewidth\":0,\"ticks\":\"\"}},\"type\":\"scatter\"}],\"scatter3d\":[{\"line\":{\"colorbar\":{\"outlinewidth\":0,\"ticks\":\"\"}},\"marker\":{\"colorbar\":{\"outlinewidth\":0,\"ticks\":\"\"}},\"type\":\"scatter3d\"}],\"scattercarpet\":[{\"marker\":{\"colorbar\":{\"outlinewidth\":0,\"ticks\":\"\"}},\"type\":\"scattercarpet\"}],\"scattergeo\":[{\"marker\":{\"colorbar\":{\"outlinewidth\":0,\"ticks\":\"\"}},\"type\":\"scattergeo\"}],\"scattergl\":[{\"marker\":{\"colorbar\":{\"outlinewidth\":0,\"ticks\":\"\"}},\"type\":\"scattergl\"}],\"scattermapbox\":[{\"marker\":{\"colorbar\":{\"outlinewidth\":0,\"ticks\":\"\"}},\"type\":\"scattermapbox\"}],\"scatterpolar\":[{\"marker\":{\"colorbar\":{\"outlinewidth\":0,\"ticks\":\"\"}},\"type\":\"scatterpolar\"}],\"scatterpolargl\":[{\"marker\":{\"colorbar\":{\"outlinewidth\":0,\"ticks\":\"\"}},\"type\":\"scatterpolargl\"}],\"scatterternary\":[{\"marker\":{\"colorbar\":{\"outlinewidth\":0,\"ticks\":\"\"}},\"type\":\"scatterternary\"}],\"surface\":[{\"colorbar\":{\"outlinewidth\":0,\"ticks\":\"\"},\"colorscale\":[[0.0,\"#0d0887\"],[0.1111111111111111,\"#46039f\"],[0.2222222222222222,\"#7201a8\"],[0.3333333333333333,\"#9c179e\"],[0.4444444444444444,\"#bd3786\"],[0.5555555555555556,\"#d8576b\"],[0.6666666666666666,\"#ed7953\"],[0.7777777777777778,\"#fb9f3a\"],[0.8888888888888888,\"#fdca26\"],[1.0,\"#f0f921\"]],\"type\":\"surface\"}],\"table\":[{\"cells\":{\"fill\":{\"color\":\"#EBF0F8\"},\"line\":{\"color\":\"white\"}},\"header\":{\"fill\":{\"color\":\"#C8D4E3\"},\"line\":{\"color\":\"white\"}},\"type\":\"table\"}]},\"layout\":{\"annotationdefaults\":{\"arrowcolor\":\"#2a3f5f\",\"arrowhead\":0,\"arrowwidth\":1},\"autotypenumbers\":\"strict\",\"coloraxis\":{\"colorbar\":{\"outlinewidth\":0,\"ticks\":\"\"}},\"colorscale\":{\"diverging\":[[0,\"#8e0152\"],[0.1,\"#c51b7d\"],[0.2,\"#de77ae\"],[0.3,\"#f1b6da\"],[0.4,\"#fde0ef\"],[0.5,\"#f7f7f7\"],[0.6,\"#e6f5d0\"],[0.7,\"#b8e186\"],[0.8,\"#7fbc41\"],[0.9,\"#4d9221\"],[1,\"#276419\"]],\"sequential\":[[0.0,\"#0d0887\"],[0.1111111111111111,\"#46039f\"],[0.2222222222222222,\"#7201a8\"],[0.3333333333333333,\"#9c179e\"],[0.4444444444444444,\"#bd3786\"],[0.5555555555555556,\"#d8576b\"],[0.6666666666666666,\"#ed7953\"],[0.7777777777777778,\"#fb9f3a\"],[0.8888888888888888,\"#fdca26\"],[1.0,\"#f0f921\"]],\"sequentialminus\":[[0.0,\"#0d0887\"],[0.1111111111111111,\"#46039f\"],[0.2222222222222222,\"#7201a8\"],[0.3333333333333333,\"#9c179e\"],[0.4444444444444444,\"#bd3786\"],[0.5555555555555556,\"#d8576b\"],[0.6666666666666666,\"#ed7953\"],[0.7777777777777778,\"#fb9f3a\"],[0.8888888888888888,\"#fdca26\"],[1.0,\"#f0f921\"]]},\"colorway\":[\"#636efa\",\"#EF553B\",\"#00cc96\",\"#ab63fa\",\"#FFA15A\",\"#19d3f3\",\"#FF6692\",\"#B6E880\",\"#FF97FF\",\"#FECB52\"],\"font\":{\"color\":\"#2a3f5f\"},\"geo\":{\"bgcolor\":\"white\",\"lakecolor\":\"white\",\"landcolor\":\"#E5ECF6\",\"showlakes\":true,\"showland\":true,\"subunitcolor\":\"white\"},\"hoverlabel\":{\"align\":\"left\"},\"hovermode\":\"closest\",\"mapbox\":{\"style\":\"light\"},\"paper_bgcolor\":\"white\",\"plot_bgcolor\":\"#E5ECF6\",\"polar\":{\"angularaxis\":{\"gridcolor\":\"white\",\"linecolor\":\"white\",\"ticks\":\"\"},\"bgcolor\":\"#E5ECF6\",\"radialaxis\":{\"gridcolor\":\"white\",\"linecolor\":\"white\",\"ticks\":\"\"}},\"scene\":{\"xaxis\":{\"backgroundcolor\":\"#E5ECF6\",\"gridcolor\":\"white\",\"gridwidth\":2,\"linecolor\":\"white\",\"showbackground\":true,\"ticks\":\"\",\"zerolinecolor\":\"white\"},\"yaxis\":{\"backgroundcolor\":\"#E5ECF6\",\"gridcolor\":\"white\",\"gridwidth\":2,\"linecolor\":\"white\",\"showbackground\":true,\"ticks\":\"\",\"zerolinecolor\":\"white\"},\"zaxis\":{\"backgroundcolor\":\"#E5ECF6\",\"gridcolor\":\"white\",\"gridwidth\":2,\"linecolor\":\"white\",\"showbackground\":true,\"ticks\":\"\",\"zerolinecolor\":\"white\"}},\"shapedefaults\":{\"line\":{\"color\":\"#2a3f5f\"}},\"ternary\":{\"aaxis\":{\"gridcolor\":\"white\",\"linecolor\":\"white\",\"ticks\":\"\"},\"baxis\":{\"gridcolor\":\"white\",\"linecolor\":\"white\",\"ticks\":\"\"},\"bgcolor\":\"#E5ECF6\",\"caxis\":{\"gridcolor\":\"white\",\"linecolor\":\"white\",\"ticks\":\"\"}},\"title\":{\"x\":0.05},\"xaxis\":{\"automargin\":true,\"gridcolor\":\"white\",\"linecolor\":\"white\",\"ticks\":\"\",\"title\":{\"standoff\":15},\"zerolinecolor\":\"white\",\"zerolinewidth\":2},\"yaxis\":{\"automargin\":true,\"gridcolor\":\"white\",\"linecolor\":\"white\",\"ticks\":\"\",\"title\":{\"standoff\":15},\"zerolinecolor\":\"white\",\"zerolinewidth\":2}}},\"legend\":{\"title\":{\"text\":\"species\"},\"tracegroupgap\":0},\"title\":{\"text\":\"Scatter matrix of iris data set\"},\"dragmode\":\"select\",\"height\":1000,\"width\":1300},                        {\"responsive\": true}                    ).then(function(){\n",
              "                            \n",
              "var gd = document.getElementById('8bc3778c-baa2-4e95-acc0-809c30b2e4fe');\n",
              "var x = new MutationObserver(function (mutations, observer) {{\n",
              "        var display = window.getComputedStyle(gd).display;\n",
              "        if (!display || display === 'none') {{\n",
              "            console.log([gd, 'removed!']);\n",
              "            Plotly.purge(gd);\n",
              "            observer.disconnect();\n",
              "        }}\n",
              "}});\n",
              "\n",
              "// Listen for the removal of the full notebook cells\n",
              "var notebookContainer = gd.closest('#notebook-container');\n",
              "if (notebookContainer) {{\n",
              "    x.observe(notebookContainer, {childList: true});\n",
              "}}\n",
              "\n",
              "// Listen for the clearing of the current output cell\n",
              "var outputEl = gd.closest('.output');\n",
              "if (outputEl) {{\n",
              "    x.observe(outputEl, {childList: true});\n",
              "}}\n",
              "\n",
              "                        })                };                            </script>        </div>\n",
              "</body>\n",
              "</html>"
            ]
          },
          "metadata": {}
        }
      ]
    },
    {
      "cell_type": "markdown",
      "source": [
        "# Inutition behind TSNE \n",
        "TSNE allows us to map $N$ dimensions to $M$, where $M \\leq N$. Therefore it is possible to map 2 dimensions to 2 dimensions to understand what kind of transformations are taking place and get an intituition for what is happening at higher dimensionality. TSNE tries to maintain clusters present in higher dimensions in the lower dimensional space."
      ],
      "metadata": {
        "id": "1xLnnvspfhcj"
      }
    },
    {
      "cell_type": "code",
      "source": [
        "from plotly.subplots import make_subplots\n",
        "import plotly.graph_objects as go\n",
        "\n",
        "\n",
        "COLORS = px.colors.qualitative.Plotly\n",
        "\n",
        "X = iris[['sepal_length', 'sepal_width']]\n",
        "X_tsne = TSNE(\n",
        "    n_components=2,\n",
        "    learning_rate='auto',\n",
        "    init='pca',\n",
        "    perplexity=20\n",
        ").fit_transform(X)\n",
        "iris_tsne = pd.DataFrame(X_tsne, columns=['x_1', 'x_2'])\n",
        "iris_tsne['species'] = iris['species']\n",
        "\n",
        "subplot_titles = [\"Original measurements\", \"TSNE\"]\n",
        "fig = make_subplots(\n",
        "    rows=1,\n",
        "    cols=2,\n",
        "    subplot_titles=subplot_titles,\n",
        ")\n",
        "iris_species = iris[\"species\"].unique()\n",
        "\n",
        "for i, species in enumerate(iris_species):\n",
        "  fig.append_trace(\n",
        "      go.Scatter(\n",
        "          x=iris.loc[iris['species'] == species, 'sepal_length'],\n",
        "          y=iris.loc[iris['species'] == species, 'sepal_width'],\n",
        "          mode=\"markers\",\n",
        "          marker=dict(color=COLORS[i]),\n",
        "          showlegend=False,\n",
        "      ),\n",
        "      row=1, col=1\n",
        "  )\n",
        "\n",
        "  fig.append_trace(\n",
        "      go.Scatter(\n",
        "            x=iris_tsne.loc[iris['species'] == species, 'x_1'],\n",
        "            y=iris_tsne.loc[iris['species'] == species, 'x_2'],\n",
        "            mode=\"markers\",\n",
        "            marker=dict(color=COLORS[i]),\n",
        "            name=species,\n",
        "      ),\n",
        "      row=1, col=2\n",
        "  )\n",
        "\n",
        "# edit axis labels\n",
        "fig['layout']['xaxis']['title']='sepal_length'\n",
        "fig['layout']['xaxis2']['title']='x_1'\n",
        "fig['layout']['yaxis']['title']='sepal_width'\n",
        "fig['layout']['yaxis2']['title']='x_2'\n",
        "\n",
        "fig.update_layout(height=600, width=1300, title_text=\"Impact of TSNE, 2D -> 2D mapping\")\n",
        "fig.show()"
      ],
      "metadata": {
        "id": "mYWQyQNcqFu3",
        "outputId": "af072a62-7af4-4cd7-b144-dd911ef7ca81",
        "colab": {
          "base_uri": "https://localhost:8080/",
          "height": 686
        }
      },
      "execution_count": 19,
      "outputs": [
        {
          "output_type": "stream",
          "name": "stderr",
          "text": [
            "/usr/local/lib/python3.8/dist-packages/sklearn/manifold/_t_sne.py:982: FutureWarning:\n",
            "\n",
            "The PCA initialization in TSNE will change to have the standard deviation of PC1 equal to 1e-4 in 1.2. This will ensure better convergence.\n",
            "\n"
          ]
        },
        {
          "output_type": "display_data",
          "data": {
            "text/html": [
              "<html>\n",
              "<head><meta charset=\"utf-8\" /></head>\n",
              "<body>\n",
              "    <div>            <script src=\"https://cdnjs.cloudflare.com/ajax/libs/mathjax/2.7.5/MathJax.js?config=TeX-AMS-MML_SVG\"></script><script type=\"text/javascript\">if (window.MathJax) {MathJax.Hub.Config({SVG: {font: \"STIX-Web\"}});}</script>                <script type=\"text/javascript\">window.PlotlyConfig = {MathJaxConfig: 'local'};</script>\n",
              "        <script src=\"https://cdn.plot.ly/plotly-2.8.3.min.js\"></script>                <div id=\"5303950c-9aba-4a9a-98e8-e063933444e1\" class=\"plotly-graph-div\" style=\"height:600px; width:1300px;\"></div>            <script type=\"text/javascript\">                                    window.PLOTLYENV=window.PLOTLYENV || {};                                    if (document.getElementById(\"5303950c-9aba-4a9a-98e8-e063933444e1\")) {                    Plotly.newPlot(                        \"5303950c-9aba-4a9a-98e8-e063933444e1\",                        [{\"marker\":{\"color\":\"#636EFA\"},\"mode\":\"markers\",\"showlegend\":false,\"x\":[5.1,4.9,4.7,4.6,5.0,5.4,4.6,5.0,4.4,4.9,5.4,4.8,4.8,4.3,5.8,5.7,5.4,5.1,5.7,5.1,5.4,5.1,4.6,5.1,4.8,5.0,5.0,5.2,5.2,4.7,4.8,5.4,5.2,5.5,4.9,5.0,5.5,4.9,4.4,5.1,5.0,4.5,4.4,5.0,5.1,4.8,5.1,4.6,5.3,5.0],\"y\":[3.5,3.0,3.2,3.1,3.6,3.9,3.4,3.4,2.9,3.1,3.7,3.4,3.0,3.0,4.0,4.4,3.9,3.5,3.8,3.8,3.4,3.7,3.6,3.3,3.4,3.0,3.4,3.5,3.4,3.2,3.1,3.4,4.1,4.2,3.1,3.2,3.5,3.1,3.0,3.4,3.5,2.3,3.2,3.5,3.8,3.0,3.8,3.2,3.7,3.3],\"type\":\"scatter\",\"xaxis\":\"x\",\"yaxis\":\"y\"},{\"marker\":{\"color\":\"#636EFA\"},\"mode\":\"markers\",\"name\":\"setosa\",\"x\":[-83.14714050292969,-50.75004959106445,-55.506248474121094,-50.324092864990234,-86.5992431640625,-102.1360855102539,-63.00722122192383,-74.78426361083984,-43.64882278442383,-57.424468994140625,-97.05035400390625,-68.69754791259766,-47.60898208618164,-45.64788055419922,-108.47891235351562,-112.95247650146484,-102.1360855102539,-83.14714050292969,-103.61797332763672,-96.42405700683594,-88.35274505615234,-90.7018814086914,-68.63227844238281,-72.77902221679688,-68.69754791259766,-54.129486083984375,-74.78426361083984,-86.49205017089844,-81.25015258789062,-60.231143951416016,-57.6428108215332,-86.68574523925781,-104.61444854736328,-108.7508316040039,-57.424468994140625,-64.39005279541016,-92.82654571533203,-57.424468994140625,-48.60736846923828,-77.97425842285156,-80.10218048095703,-37.2016487121582,-52.76951217651367,-80.10218048095703,-96.42405700683594,-52.304710388183594,-96.42405700683594,-56.157772064208984,-94.83228302001953,-69.25787353515625],\"y\":[15.351848602294922,12.370462417602539,24.533958435058594,25.332128524780273,21.938159942626953,10.90429973602295,31.21059226989746,17.442981719970703,28.861454010009766,13.581636428833008,6.5369391441345215,24.81957244873047,17.347734451293945,34.84145736694336,5.348045349121094,9.23687744140625,10.90429973602295,15.351848602294922,3.5629324913024902,19.104398727416992,4.375929355621338,17.112272262573242,32.784725189208984,9.622029304504395,24.81957244873047,7.7132182121276855,17.442981719970703,10.404480934143066,7.2692484855651855,24.990840911865234,19.57961082458496,0.19689221680164337,17.501222610473633,12.308245658874512,13.581636428833008,11.400266647338867,1.4000600576400757,13.581636428833008,30.747346878051758,11.978815078735352,21.344728469848633,0.3431668281555176,34.72832107543945,21.344728469848633,19.104398727416992,18.366527557373047,19.104398727416992,29.723066329956055,11.384505271911621,14.751313209533691],\"type\":\"scatter\",\"xaxis\":\"x2\",\"yaxis\":\"y2\"},{\"marker\":{\"color\":\"#EF553B\"},\"mode\":\"markers\",\"showlegend\":false,\"x\":[7.0,6.4,6.9,5.5,6.5,5.7,6.3,4.9,6.6,5.2,5.0,5.9,6.0,6.1,5.6,6.7,5.6,5.8,6.2,5.6,5.9,6.1,6.3,6.1,6.4,6.6,6.8,6.7,6.0,5.7,5.5,5.5,5.8,6.0,5.4,6.0,6.7,6.3,5.6,5.5,5.5,6.1,5.8,5.0,5.6,5.7,5.7,6.2,5.1,5.7],\"y\":[3.2,3.2,3.1,2.3,2.8,2.8,3.3,2.4,2.9,2.7,2.0,3.0,2.2,2.9,2.9,3.1,3.0,2.7,2.2,2.5,3.2,2.8,2.5,2.8,2.9,3.0,2.8,3.0,2.9,2.6,2.4,2.4,2.7,2.7,3.0,3.4,3.1,2.3,3.0,2.5,2.6,3.0,2.6,2.3,2.7,3.0,2.9,2.9,2.5,2.8],\"type\":\"scatter\",\"xaxis\":\"x\",\"yaxis\":\"y\"},{\"marker\":{\"color\":\"#EF553B\"},\"mode\":\"markers\",\"name\":\"versicolor\",\"x\":[90.71886444091797,59.32179260253906,84.71391296386719,-17.88554573059082,52.22462463378906,5.872206211090088,52.416385650634766,-32.74525833129883,61.70388412475586,-21.127561569213867,-32.130157470703125,20.20473289489746,19.34994888305664,30.667510986328125,1.752342939376831,75.47640991210938,4.922476768493652,8.45227336883545,23.593597412109375,-9.074118614196777,28.826791763305664,28.02877426147461,30.783720016479492,28.02877426147461,49.57807540893555,65.5949478149414,66.73635864257812,69.42398071289062,24.458690643310547,-2.910534620285034,-13.260101318359375,-18.074520111083984,4.038625240325928,20.708097457885742,-1.6350021362304688,41.9333381652832,75.47640991210938,28.510690689086914,4.922476768493652,-14.062058448791504,-10.863469123840332,30.373300552368164,1.7546478509902954,-28.704591751098633,-4.481139183044434,11.002579689025879,7.570700645446777,36.41267013549805,-25.626712799072266,1.2737847566604614],\"y\":[-14.389663696289062,4.257565975189209,-12.936227798461914,-17.34511947631836,-20.65086555480957,-1.7376538515090942,6.202236175537109,-3.433690071105957,-17.912416458129883,0.1357811540365219,-9.997893333435059,1.1007616519927979,-35.40567398071289,-6.828841686248779,5.013406753540039,-15.958142280578613,9.99022388458252,-12.675544738769531,-32.13102340698242,-11.454257011413574,8.61860466003418,-12.317489624023438,-26.861053466796875,-12.317489624023438,-13.493372917175293,-12.818330764770508,-23.64022445678711,-17.074899673461914,-4.68129825592041,-10.771355628967285,-15.102936744689941,-11.986578941345215,-9.005468368530273,-14.748029708862305,11.429369926452637,10.927329063415527,-15.958142280578613,-32.95761489868164,9.99022388458252,-8.98968505859375,-4.9335432052612305,-1.3998521566390991,-15.373043060302734,-6.109042644500732,-4.409383773803711,7.749855995178223,3.2321436405181885,-9.198887825012207,-2.0407509803771973,-2.11733078956604],\"type\":\"scatter\",\"xaxis\":\"x2\",\"yaxis\":\"y2\"},{\"marker\":{\"color\":\"#00CC96\"},\"mode\":\"markers\",\"showlegend\":false,\"x\":[6.3,5.8,7.1,6.3,6.5,7.6,4.9,7.3,6.7,7.2,6.5,6.4,6.8,5.7,5.8,6.4,6.5,7.7,7.7,6.0,6.9,5.6,7.7,6.3,6.7,7.2,6.2,6.1,6.4,7.2,7.4,7.9,6.4,6.3,6.1,7.7,6.3,6.4,6.0,6.9,6.7,6.9,5.8,6.8,6.7,6.7,6.3,6.5,6.2,5.9],\"y\":[3.3,2.7,3.0,2.9,3.0,3.0,2.5,2.9,2.5,3.6,3.2,2.7,3.0,2.5,2.8,3.2,3.0,3.8,2.6,2.2,3.2,2.8,2.8,2.7,3.3,3.2,2.8,3.0,2.8,3.0,2.8,3.8,2.8,2.8,2.6,3.0,3.4,3.1,3.0,3.1,3.1,3.1,2.7,3.2,3.3,3.0,2.5,3.0,3.4,3.0],\"type\":\"scatter\",\"xaxis\":\"x\",\"yaxis\":\"y\"},{\"marker\":{\"color\":\"#00CC96\"},\"mode\":\"markers\",\"name\":\"virginica\",\"x\":[52.416385650634766,4.038625240325928,91.30645751953125,42.84038543701172,60.25498580932617,103.1362533569336,-30.32475471496582,96.79186248779297,51.75999069213867,96.35050201416016,62.14409255981445,42.814247131347656,77.76950073242188,-5.588327407836914,10.09280776977539,55.788543701171875,56.852474212646484,102.89020538330078,106.23128509521484,18.172365188598633,87.51807403564453,-2.7911934852600098,107.70221710205078,37.17878341674805,79.91141510009766,96.4447021484375,34.052490234375,34.9208869934082,45.902042388916016,96.37537384033203,101.72087097167969,106.17056274414062,45.902042388916016,39.911285400390625,25.720136642456055,107.91433715820312,53.71644592285156,55.78041458129883,26.297767639160156,84.71391296386719,75.47640991210938,84.16053009033203,4.038625240325928,81.95703887939453,79.91141510009766,71.29338836669922,34.43928909301758,60.25498580932617,48.04243850708008,22.036039352416992],\"y\":[6.202236175537109,-9.005468368530273,-7.458550930023193,-11.591588020324707,-9.597832679748535,-9.019769668579102,0.6262784004211426,-3.3096699714660645,-29.714818954467773,-20.88202476501465,-1.073144793510437,-24.621627807617188,-9.53414249420166,-16.201828002929688,-5.424148082733154,0.9495272636413574,-13.449106216430664,-21.5621337890625,-0.3755762577056885,-31.07905387878418,-19.080297470092773,1.7263593673706055,-5.1547746658325195,-22.062353134155273,-23.862218856811523,-14.041242599487305,-15.002829551696777,-1.7618310451507568,-19.08628273010254,-8.573277473449707,-3.718372106552124,-18.886638641357422,-19.08628273010254,-16.785079956054688,-20.486812591552734,-10.317337036132812,11.652200698852539,-4.234587669372559,1.5158246755599976,-12.936227798461914,-15.958142280578613,-7.532010078430176,-9.005468368530273,-18.269460678100586,-23.862218856811523,-10.945491790771484,-29.841224670410156,-9.597832679748535,10.58203411102295,5.624942302703857],\"type\":\"scatter\",\"xaxis\":\"x2\",\"yaxis\":\"y2\"}],                        {\"template\":{\"data\":{\"bar\":[{\"error_x\":{\"color\":\"#2a3f5f\"},\"error_y\":{\"color\":\"#2a3f5f\"},\"marker\":{\"line\":{\"color\":\"#E5ECF6\",\"width\":0.5},\"pattern\":{\"fillmode\":\"overlay\",\"size\":10,\"solidity\":0.2}},\"type\":\"bar\"}],\"barpolar\":[{\"marker\":{\"line\":{\"color\":\"#E5ECF6\",\"width\":0.5},\"pattern\":{\"fillmode\":\"overlay\",\"size\":10,\"solidity\":0.2}},\"type\":\"barpolar\"}],\"carpet\":[{\"aaxis\":{\"endlinecolor\":\"#2a3f5f\",\"gridcolor\":\"white\",\"linecolor\":\"white\",\"minorgridcolor\":\"white\",\"startlinecolor\":\"#2a3f5f\"},\"baxis\":{\"endlinecolor\":\"#2a3f5f\",\"gridcolor\":\"white\",\"linecolor\":\"white\",\"minorgridcolor\":\"white\",\"startlinecolor\":\"#2a3f5f\"},\"type\":\"carpet\"}],\"choropleth\":[{\"colorbar\":{\"outlinewidth\":0,\"ticks\":\"\"},\"type\":\"choropleth\"}],\"contour\":[{\"colorbar\":{\"outlinewidth\":0,\"ticks\":\"\"},\"colorscale\":[[0.0,\"#0d0887\"],[0.1111111111111111,\"#46039f\"],[0.2222222222222222,\"#7201a8\"],[0.3333333333333333,\"#9c179e\"],[0.4444444444444444,\"#bd3786\"],[0.5555555555555556,\"#d8576b\"],[0.6666666666666666,\"#ed7953\"],[0.7777777777777778,\"#fb9f3a\"],[0.8888888888888888,\"#fdca26\"],[1.0,\"#f0f921\"]],\"type\":\"contour\"}],\"contourcarpet\":[{\"colorbar\":{\"outlinewidth\":0,\"ticks\":\"\"},\"type\":\"contourcarpet\"}],\"heatmap\":[{\"colorbar\":{\"outlinewidth\":0,\"ticks\":\"\"},\"colorscale\":[[0.0,\"#0d0887\"],[0.1111111111111111,\"#46039f\"],[0.2222222222222222,\"#7201a8\"],[0.3333333333333333,\"#9c179e\"],[0.4444444444444444,\"#bd3786\"],[0.5555555555555556,\"#d8576b\"],[0.6666666666666666,\"#ed7953\"],[0.7777777777777778,\"#fb9f3a\"],[0.8888888888888888,\"#fdca26\"],[1.0,\"#f0f921\"]],\"type\":\"heatmap\"}],\"heatmapgl\":[{\"colorbar\":{\"outlinewidth\":0,\"ticks\":\"\"},\"colorscale\":[[0.0,\"#0d0887\"],[0.1111111111111111,\"#46039f\"],[0.2222222222222222,\"#7201a8\"],[0.3333333333333333,\"#9c179e\"],[0.4444444444444444,\"#bd3786\"],[0.5555555555555556,\"#d8576b\"],[0.6666666666666666,\"#ed7953\"],[0.7777777777777778,\"#fb9f3a\"],[0.8888888888888888,\"#fdca26\"],[1.0,\"#f0f921\"]],\"type\":\"heatmapgl\"}],\"histogram\":[{\"marker\":{\"pattern\":{\"fillmode\":\"overlay\",\"size\":10,\"solidity\":0.2}},\"type\":\"histogram\"}],\"histogram2d\":[{\"colorbar\":{\"outlinewidth\":0,\"ticks\":\"\"},\"colorscale\":[[0.0,\"#0d0887\"],[0.1111111111111111,\"#46039f\"],[0.2222222222222222,\"#7201a8\"],[0.3333333333333333,\"#9c179e\"],[0.4444444444444444,\"#bd3786\"],[0.5555555555555556,\"#d8576b\"],[0.6666666666666666,\"#ed7953\"],[0.7777777777777778,\"#fb9f3a\"],[0.8888888888888888,\"#fdca26\"],[1.0,\"#f0f921\"]],\"type\":\"histogram2d\"}],\"histogram2dcontour\":[{\"colorbar\":{\"outlinewidth\":0,\"ticks\":\"\"},\"colorscale\":[[0.0,\"#0d0887\"],[0.1111111111111111,\"#46039f\"],[0.2222222222222222,\"#7201a8\"],[0.3333333333333333,\"#9c179e\"],[0.4444444444444444,\"#bd3786\"],[0.5555555555555556,\"#d8576b\"],[0.6666666666666666,\"#ed7953\"],[0.7777777777777778,\"#fb9f3a\"],[0.8888888888888888,\"#fdca26\"],[1.0,\"#f0f921\"]],\"type\":\"histogram2dcontour\"}],\"mesh3d\":[{\"colorbar\":{\"outlinewidth\":0,\"ticks\":\"\"},\"type\":\"mesh3d\"}],\"parcoords\":[{\"line\":{\"colorbar\":{\"outlinewidth\":0,\"ticks\":\"\"}},\"type\":\"parcoords\"}],\"pie\":[{\"automargin\":true,\"type\":\"pie\"}],\"scatter\":[{\"marker\":{\"colorbar\":{\"outlinewidth\":0,\"ticks\":\"\"}},\"type\":\"scatter\"}],\"scatter3d\":[{\"line\":{\"colorbar\":{\"outlinewidth\":0,\"ticks\":\"\"}},\"marker\":{\"colorbar\":{\"outlinewidth\":0,\"ticks\":\"\"}},\"type\":\"scatter3d\"}],\"scattercarpet\":[{\"marker\":{\"colorbar\":{\"outlinewidth\":0,\"ticks\":\"\"}},\"type\":\"scattercarpet\"}],\"scattergeo\":[{\"marker\":{\"colorbar\":{\"outlinewidth\":0,\"ticks\":\"\"}},\"type\":\"scattergeo\"}],\"scattergl\":[{\"marker\":{\"colorbar\":{\"outlinewidth\":0,\"ticks\":\"\"}},\"type\":\"scattergl\"}],\"scattermapbox\":[{\"marker\":{\"colorbar\":{\"outlinewidth\":0,\"ticks\":\"\"}},\"type\":\"scattermapbox\"}],\"scatterpolar\":[{\"marker\":{\"colorbar\":{\"outlinewidth\":0,\"ticks\":\"\"}},\"type\":\"scatterpolar\"}],\"scatterpolargl\":[{\"marker\":{\"colorbar\":{\"outlinewidth\":0,\"ticks\":\"\"}},\"type\":\"scatterpolargl\"}],\"scatterternary\":[{\"marker\":{\"colorbar\":{\"outlinewidth\":0,\"ticks\":\"\"}},\"type\":\"scatterternary\"}],\"surface\":[{\"colorbar\":{\"outlinewidth\":0,\"ticks\":\"\"},\"colorscale\":[[0.0,\"#0d0887\"],[0.1111111111111111,\"#46039f\"],[0.2222222222222222,\"#7201a8\"],[0.3333333333333333,\"#9c179e\"],[0.4444444444444444,\"#bd3786\"],[0.5555555555555556,\"#d8576b\"],[0.6666666666666666,\"#ed7953\"],[0.7777777777777778,\"#fb9f3a\"],[0.8888888888888888,\"#fdca26\"],[1.0,\"#f0f921\"]],\"type\":\"surface\"}],\"table\":[{\"cells\":{\"fill\":{\"color\":\"#EBF0F8\"},\"line\":{\"color\":\"white\"}},\"header\":{\"fill\":{\"color\":\"#C8D4E3\"},\"line\":{\"color\":\"white\"}},\"type\":\"table\"}]},\"layout\":{\"annotationdefaults\":{\"arrowcolor\":\"#2a3f5f\",\"arrowhead\":0,\"arrowwidth\":1},\"autotypenumbers\":\"strict\",\"coloraxis\":{\"colorbar\":{\"outlinewidth\":0,\"ticks\":\"\"}},\"colorscale\":{\"diverging\":[[0,\"#8e0152\"],[0.1,\"#c51b7d\"],[0.2,\"#de77ae\"],[0.3,\"#f1b6da\"],[0.4,\"#fde0ef\"],[0.5,\"#f7f7f7\"],[0.6,\"#e6f5d0\"],[0.7,\"#b8e186\"],[0.8,\"#7fbc41\"],[0.9,\"#4d9221\"],[1,\"#276419\"]],\"sequential\":[[0.0,\"#0d0887\"],[0.1111111111111111,\"#46039f\"],[0.2222222222222222,\"#7201a8\"],[0.3333333333333333,\"#9c179e\"],[0.4444444444444444,\"#bd3786\"],[0.5555555555555556,\"#d8576b\"],[0.6666666666666666,\"#ed7953\"],[0.7777777777777778,\"#fb9f3a\"],[0.8888888888888888,\"#fdca26\"],[1.0,\"#f0f921\"]],\"sequentialminus\":[[0.0,\"#0d0887\"],[0.1111111111111111,\"#46039f\"],[0.2222222222222222,\"#7201a8\"],[0.3333333333333333,\"#9c179e\"],[0.4444444444444444,\"#bd3786\"],[0.5555555555555556,\"#d8576b\"],[0.6666666666666666,\"#ed7953\"],[0.7777777777777778,\"#fb9f3a\"],[0.8888888888888888,\"#fdca26\"],[1.0,\"#f0f921\"]]},\"colorway\":[\"#636efa\",\"#EF553B\",\"#00cc96\",\"#ab63fa\",\"#FFA15A\",\"#19d3f3\",\"#FF6692\",\"#B6E880\",\"#FF97FF\",\"#FECB52\"],\"font\":{\"color\":\"#2a3f5f\"},\"geo\":{\"bgcolor\":\"white\",\"lakecolor\":\"white\",\"landcolor\":\"#E5ECF6\",\"showlakes\":true,\"showland\":true,\"subunitcolor\":\"white\"},\"hoverlabel\":{\"align\":\"left\"},\"hovermode\":\"closest\",\"mapbox\":{\"style\":\"light\"},\"paper_bgcolor\":\"white\",\"plot_bgcolor\":\"#E5ECF6\",\"polar\":{\"angularaxis\":{\"gridcolor\":\"white\",\"linecolor\":\"white\",\"ticks\":\"\"},\"bgcolor\":\"#E5ECF6\",\"radialaxis\":{\"gridcolor\":\"white\",\"linecolor\":\"white\",\"ticks\":\"\"}},\"scene\":{\"xaxis\":{\"backgroundcolor\":\"#E5ECF6\",\"gridcolor\":\"white\",\"gridwidth\":2,\"linecolor\":\"white\",\"showbackground\":true,\"ticks\":\"\",\"zerolinecolor\":\"white\"},\"yaxis\":{\"backgroundcolor\":\"#E5ECF6\",\"gridcolor\":\"white\",\"gridwidth\":2,\"linecolor\":\"white\",\"showbackground\":true,\"ticks\":\"\",\"zerolinecolor\":\"white\"},\"zaxis\":{\"backgroundcolor\":\"#E5ECF6\",\"gridcolor\":\"white\",\"gridwidth\":2,\"linecolor\":\"white\",\"showbackground\":true,\"ticks\":\"\",\"zerolinecolor\":\"white\"}},\"shapedefaults\":{\"line\":{\"color\":\"#2a3f5f\"}},\"ternary\":{\"aaxis\":{\"gridcolor\":\"white\",\"linecolor\":\"white\",\"ticks\":\"\"},\"baxis\":{\"gridcolor\":\"white\",\"linecolor\":\"white\",\"ticks\":\"\"},\"bgcolor\":\"#E5ECF6\",\"caxis\":{\"gridcolor\":\"white\",\"linecolor\":\"white\",\"ticks\":\"\"}},\"title\":{\"x\":0.05},\"xaxis\":{\"automargin\":true,\"gridcolor\":\"white\",\"linecolor\":\"white\",\"ticks\":\"\",\"title\":{\"standoff\":15},\"zerolinecolor\":\"white\",\"zerolinewidth\":2},\"yaxis\":{\"automargin\":true,\"gridcolor\":\"white\",\"linecolor\":\"white\",\"ticks\":\"\",\"title\":{\"standoff\":15},\"zerolinecolor\":\"white\",\"zerolinewidth\":2}}},\"xaxis\":{\"anchor\":\"y\",\"domain\":[0.0,0.45],\"title\":{\"text\":\"sepal_length\"}},\"yaxis\":{\"anchor\":\"x\",\"domain\":[0.0,1.0],\"title\":{\"text\":\"sepal_width\"}},\"xaxis2\":{\"anchor\":\"y2\",\"domain\":[0.55,1.0],\"title\":{\"text\":\"x_1\"}},\"yaxis2\":{\"anchor\":\"x2\",\"domain\":[0.0,1.0],\"title\":{\"text\":\"x_2\"}},\"annotations\":[{\"font\":{\"size\":16},\"showarrow\":false,\"text\":\"Original measurements\",\"x\":0.225,\"xanchor\":\"center\",\"xref\":\"paper\",\"y\":1.0,\"yanchor\":\"bottom\",\"yref\":\"paper\"},{\"font\":{\"size\":16},\"showarrow\":false,\"text\":\"TSNE\",\"x\":0.775,\"xanchor\":\"center\",\"xref\":\"paper\",\"y\":1.0,\"yanchor\":\"bottom\",\"yref\":\"paper\"}],\"title\":{\"text\":\"Impact of TSNE, 2D -> 2D mapping\"},\"height\":600,\"width\":1300},                        {\"responsive\": true}                    ).then(function(){\n",
              "                            \n",
              "var gd = document.getElementById('5303950c-9aba-4a9a-98e8-e063933444e1');\n",
              "var x = new MutationObserver(function (mutations, observer) {{\n",
              "        var display = window.getComputedStyle(gd).display;\n",
              "        if (!display || display === 'none') {{\n",
              "            console.log([gd, 'removed!']);\n",
              "            Plotly.purge(gd);\n",
              "            observer.disconnect();\n",
              "        }}\n",
              "}});\n",
              "\n",
              "// Listen for the removal of the full notebook cells\n",
              "var notebookContainer = gd.closest('#notebook-container');\n",
              "if (notebookContainer) {{\n",
              "    x.observe(notebookContainer, {childList: true});\n",
              "}}\n",
              "\n",
              "// Listen for the clearing of the current output cell\n",
              "var outputEl = gd.closest('.output');\n",
              "if (outputEl) {{\n",
              "    x.observe(outputEl, {childList: true});\n",
              "}}\n",
              "\n",
              "                        })                };                            </script>        </div>\n",
              "</body>\n",
              "</html>"
            ]
          },
          "metadata": {}
        }
      ]
    },
    {
      "cell_type": "markdown",
      "source": [
        "# Understanding TSNE representation"
      ],
      "metadata": {
        "id": "WkUGjcXm9iOh"
      }
    },
    {
      "cell_type": "code",
      "source": [
        "X = iris.loc[:, ~iris.columns.isin(['species',\t'species_id'])]\n",
        "X_tsne = TSNE(\n",
        "    n_components=2,\n",
        "    learning_rate='auto',\n",
        "    init='pca',\n",
        "    perplexity=20\n",
        ").fit_transform(X)\n",
        "iris_tsne = pd.concat(\n",
        "    [\n",
        "        pd.DataFrame(X_tsne, columns=['x_1', 'x_2'])\n",
        "        , X\n",
        "        , iris[[\"species\"]]\n",
        "     ]\n",
        "    , axis=\"columns\"\n",
        ")\n",
        "\n",
        "\n",
        "fig = px.scatter(\n",
        "    iris_tsne,\n",
        "    x='x_1',\n",
        "    y='x_2',\n",
        "    color='species',\n",
        "    hover_data={\n",
        "        col: ':.2f' for col in iris_tsne.columns if col != 'species'\n",
        "    },\n",
        "    height=600,\n",
        "    width=800,\n",
        ")\n",
        "fig.show()"
      ],
      "metadata": {
        "id": "JSO3QLdmhzkc",
        "outputId": "2984a439-c958-4b31-c8a2-7360aa28fd12",
        "colab": {
          "base_uri": "https://localhost:8080/",
          "height": 686
        }
      },
      "execution_count": 20,
      "outputs": [
        {
          "output_type": "stream",
          "name": "stderr",
          "text": [
            "/usr/local/lib/python3.8/dist-packages/sklearn/manifold/_t_sne.py:982: FutureWarning:\n",
            "\n",
            "The PCA initialization in TSNE will change to have the standard deviation of PC1 equal to 1e-4 in 1.2. This will ensure better convergence.\n",
            "\n"
          ]
        },
        {
          "output_type": "display_data",
          "data": {
            "text/html": [
              "<html>\n",
              "<head><meta charset=\"utf-8\" /></head>\n",
              "<body>\n",
              "    <div>            <script src=\"https://cdnjs.cloudflare.com/ajax/libs/mathjax/2.7.5/MathJax.js?config=TeX-AMS-MML_SVG\"></script><script type=\"text/javascript\">if (window.MathJax) {MathJax.Hub.Config({SVG: {font: \"STIX-Web\"}});}</script>                <script type=\"text/javascript\">window.PlotlyConfig = {MathJaxConfig: 'local'};</script>\n",
              "        <script src=\"https://cdn.plot.ly/plotly-2.8.3.min.js\"></script>                <div id=\"40fbaf8d-f16c-4b95-8954-e76cece28d2d\" class=\"plotly-graph-div\" style=\"height:600px; width:800px;\"></div>            <script type=\"text/javascript\">                                    window.PLOTLYENV=window.PLOTLYENV || {};                                    if (document.getElementById(\"40fbaf8d-f16c-4b95-8954-e76cece28d2d\")) {                    Plotly.newPlot(                        \"40fbaf8d-f16c-4b95-8954-e76cece28d2d\",                        [{\"customdata\":[[5.1,3.5,1.4,0.2,1.5],[4.9,3.0,1.4,0.2,4.0],[4.7,3.2,1.3,0.2,1.8],[4.6,3.1,1.5,0.2,3.9],[5.0,3.6,1.4,0.2,2.8],[5.4,3.9,1.7,0.4,1.3],[4.6,3.4,1.4,0.3,0.5],[5.0,3.4,1.5,0.2,0.3],[4.4,2.9,1.4,0.2,3.4],[4.9,3.1,1.5,0.1,3.5],[5.4,3.7,1.5,0.2,3.7],[4.8,3.4,1.6,0.2,3.9],[4.8,3.0,1.4,0.1,0.4],[4.3,3.0,1.1,0.1,1.6],[5.8,4.0,1.2,0.2,3.7],[5.7,4.4,1.5,0.4,1.6],[5.4,3.9,1.3,0.4,2.4],[5.1,3.5,1.4,0.3,0.9],[5.7,3.8,1.7,0.3,1.6],[5.1,3.8,1.5,0.3,2.3],[5.4,3.4,1.7,0.2,2.6],[5.1,3.7,1.5,0.4,1.5],[4.6,3.6,1.0,0.2,1.4],[5.1,3.3,1.7,0.5,3.4],[4.8,3.4,1.9,0.2,1.2],[5.0,3.0,1.6,0.2,3.4],[5.0,3.4,1.6,0.4,2.2],[5.2,3.5,1.5,0.2,1.9],[5.2,3.4,1.4,0.2,1.7],[4.7,3.2,1.6,0.2,2.6],[4.8,3.1,1.6,0.2,4.9],[5.4,3.4,1.5,0.4,2.7],[5.2,4.1,1.5,0.1,3.4],[5.5,4.2,1.4,0.2,2.0],[4.9,3.1,1.5,0.1,0.6],[5.0,3.2,1.2,0.2,3.5],[5.5,3.5,1.3,0.2,2.1],[4.9,3.1,1.5,0.1,2.3],[4.4,3.0,1.3,0.2,1.7],[5.1,3.4,1.5,0.2,0.5],[5.0,3.5,1.3,0.3,2.3],[4.5,2.3,1.3,0.3,4.0],[4.4,3.2,1.3,0.2,1.0],[5.0,3.5,1.6,0.6,2.3],[5.1,3.8,1.9,0.4,1.0],[4.8,3.0,1.4,0.3,0.4],[5.1,3.8,1.6,0.2,0.2],[4.6,3.2,1.4,0.2,0.8],[5.3,3.7,1.5,0.2,1.3],[5.0,3.3,1.4,0.2,0.3]],\"hovertemplate\":\"species=setosa<br>x_1=%{x:.2f}<br>x_2=%{y:.2f}<br>sepal_length=%{customdata[0]:.2f}<br>sepal_width=%{customdata[1]:.2f}<br>petal_length=%{customdata[2]:.2f}<br>petal_width=%{customdata[3]:.2f}<br>random_1=%{customdata[4]:.2f}<extra></extra>\",\"legendgroup\":\"setosa\",\"marker\":{\"color\":\"#636efa\",\"symbol\":\"circle\"},\"mode\":\"markers\",\"name\":\"setosa\",\"orientation\":\"v\",\"showlegend\":true,\"x\":[-34.76945877075195,-25.801301956176758,-35.012264251708984,-25.91923713684082,-29.418853759765625,-34.972190856933594,-38.46078109741211,-38.6751708984375,-26.33692169189453,-26.77630043029785,-27.179183959960938,-26.240222930908203,-39.29716873168945,-36.22127914428711,-27.440113067626953,-33.09178924560547,-31.031030654907227,-37.0986213684082,-33.571529388427734,-31.23456573486328,-30.061946868896484,-34.58769607543945,-36.11408233642578,-27.713228225708008,-36.37185287475586,-27.235816955566406,-31.782638549804688,-32.9682731628418,-33.7666130065918,-30.196916580200195,-24.89792251586914,-29.68397331237793,-28.0044002532959,-32.2863883972168,-38.26734924316406,-26.949481964111328,-32.24144744873047,-31.15902328491211,-35.70889663696289,-37.9740104675293,-31.38579559326172,-25.202274322509766,-37.482181549072266,-30.988927841186523,-36.179988861083984,-39.15074157714844,-38.39537048339844,-37.79960250854492,-35.206363677978516,-39.16396713256836],\"xaxis\":\"x\",\"y\":[1.9782309532165527,0.6746001243591309,3.3806400299072266,1.1847847700119019,0.8505303263664246,0.6098247766494751,2.1525468826293945,0.7125798463821411,1.9917235374450684,1.1853677034378052,-0.34930944442749023,0.16002978384494781,1.6219017505645752,4.044059753417969,-1.0704758167266846,3.5246715545654297,2.6276087760925293,1.1164549589157104,2.525304079055786,1.9848382472991943,1.5917704105377197,1.4439189434051514,3.0002267360687256,0.8413803577423096,1.556354284286499,1.5108177661895752,0.8054112195968628,1.385806918144226,1.5475457906723022,0.21151374280452728,0.3187219798564911,1.6853941679000854,-0.43691012263298035,3.16678524017334,1.5343297719955444,0.637306272983551,1.9677637815475464,0.1307530403137207,4.015730857849121,0.7911084890365601,1.3075525760650635,1.6901565790176392,3.0304672718048096,1.0699782371520996,0.537964940071106,2.152331829071045,-0.06239163503050804,2.3214643001556396,1.269839882850647,0.9059963226318359],\"yaxis\":\"y\",\"type\":\"scatter\"},{\"customdata\":[[7.0,3.2,4.7,1.4,4.6],[6.4,3.2,4.5,1.5,2.7],[6.9,3.1,4.9,1.5,4.8],[5.5,2.3,4.0,1.3,4.5],[6.5,2.8,4.6,1.5,2.0],[5.7,2.8,4.5,1.3,1.9],[6.3,3.3,4.7,1.6,3.3],[4.9,2.4,3.3,1.0,4.3],[6.6,2.9,4.6,1.3,2.2],[5.2,2.7,3.9,1.4,2.7],[5.0,2.0,3.5,1.0,0.8],[5.9,3.0,4.2,1.5,2.8],[6.0,2.2,4.0,1.0,0.6],[6.1,2.9,4.7,1.4,4.7],[5.6,2.9,3.6,1.3,4.9],[6.7,3.1,4.4,1.4,1.5],[5.6,3.0,4.5,1.5,3.8],[5.8,2.7,4.1,1.0,1.6],[6.2,2.2,4.5,1.5,4.9],[5.6,2.5,3.9,1.1,1.4],[5.9,3.2,4.8,1.8,3.4],[6.1,2.8,4.0,1.3,2.2],[6.3,2.5,4.9,1.5,2.0],[6.1,2.8,4.7,1.2,2.9],[6.4,2.9,4.3,1.3,3.0],[6.6,3.0,4.4,1.4,0.3],[6.8,2.8,4.8,1.4,2.1],[6.7,3.0,5.0,1.7,3.5],[6.0,2.9,4.5,1.5,0.1],[5.7,2.6,3.5,1.0,3.5],[5.5,2.4,3.8,1.1,1.3],[5.5,2.4,3.7,1.0,2.6],[5.8,2.7,3.9,1.2,2.7],[6.0,2.7,5.1,1.6,1.8],[5.4,3.0,4.5,1.5,2.0],[6.0,3.4,4.5,1.6,0.3],[6.7,3.1,4.7,1.5,1.1],[6.3,2.3,4.4,1.3,0.0],[5.6,3.0,4.1,1.3,1.0],[5.5,2.5,4.0,1.3,0.6],[5.5,2.6,4.4,1.2,2.1],[6.1,3.0,4.6,1.4,3.8],[5.8,2.6,4.0,1.2,3.6],[5.0,2.3,3.3,1.0,3.1],[5.6,2.7,4.2,1.3,1.3],[5.7,3.0,4.2,1.2,3.4],[5.7,2.9,4.2,1.3,0.9],[6.2,2.9,4.3,1.3,3.6],[5.1,2.5,3.0,1.1,3.1],[5.7,2.8,4.1,1.3,3.0]],\"hovertemplate\":\"species=versicolor<br>x_1=%{x:.2f}<br>x_2=%{y:.2f}<br>sepal_length=%{customdata[0]:.2f}<br>sepal_width=%{customdata[1]:.2f}<br>petal_length=%{customdata[2]:.2f}<br>petal_width=%{customdata[3]:.2f}<br>random_1=%{customdata[4]:.2f}<extra></extra>\",\"legendgroup\":\"versicolor\",\"marker\":{\"color\":\"#EF553B\",\"symbol\":\"circle\"},\"mode\":\"markers\",\"name\":\"versicolor\",\"orientation\":\"v\",\"showlegend\":true,\"x\":[4.014222621917725,8.775982856750488,4.242965221405029,3.4306201934814453,14.334962844848633,11.903448104858398,7.348371982574463,3.235743522644043,14.409183502197266,6.563713073730469,14.431199073791504,7.618572235107422,15.771817207336426,3.855525255203247,2.934771776199341,15.718387603759766,5.353788375854492,12.745941162109375,3.440448522567749,13.349251747131348,6.89024543762207,9.622401237487793,13.360259056091309,8.094673156738281,7.743357181549072,17.118478775024414,14.551738739013672,7.349643230438232,16.844989776611328,4.80417013168335,13.74179458618164,6.095212936401367,7.15225076675415,13.027938842773438,11.59333610534668,16.530410766601562,16.094852447509766,17.13031005859375,14.497734069824219,15.143709182739258,11.196189880371094,5.923835754394531,5.190525531768799,4.796754837036133,13.723736763000488,6.006209850311279,14.863064765930176,6.141338348388672,4.547287464141846,6.649055480957031],\"xaxis\":\"x\",\"y\":[-4.641530513763428,1.1262673139572144,-4.683850288391113,-0.06226806715130806,1.1577520370483398,4.69326639175415,-0.7810777425765991,1.3686103820800781,0.6898844838142395,3.717709541320801,7.979663372039795,2.122976303100586,6.657754898071289,-2.9967575073242188,-0.04167281836271286,2.0287561416625977,-0.46485769748687744,6.022262096405029,-2.255537271499634,6.72208833694458,-1.3727614879608154,3.9016780853271484,0.9320801496505737,0.6745356917381287,1.0752087831497192,4.490322589874268,0.4461960792541504,-3.2673890590667725,5.487785339355469,2.3320229053497314,7.114231109619141,3.895268440246582,3.169539213180542,1.7830777168273926,4.3970136642456055,4.908376693725586,2.5713655948638916,6.132036209106445,6.157508373260498,7.025099277496338,4.944335460662842,-0.8906552791595459,1.2989015579223633,3.589221715927124,6.0136590003967285,1.1899073123931885,6.005072593688965,0.16328121721744537,3.5967698097229004,2.3201568126678467],\"yaxis\":\"y\",\"type\":\"scatter\"},{\"customdata\":[[6.3,3.3,6.0,2.5,3.5],[5.8,2.7,5.1,1.9,2.7],[7.1,3.0,5.9,2.1,2.9],[6.3,2.9,5.6,1.8,3.0],[6.5,3.0,5.8,2.2,1.5],[7.6,3.0,6.6,2.1,4.3],[4.9,2.5,4.5,1.7,0.3],[7.3,2.9,6.3,1.8,4.2],[6.7,2.5,5.8,1.8,2.8],[7.2,3.6,6.1,2.5,1.1],[6.5,3.2,5.1,2.0,4.5],[6.4,2.7,5.3,1.9,2.9],[6.8,3.0,5.5,2.1,0.3],[5.7,2.5,5.0,2.0,4.1],[5.8,2.8,5.1,2.4,4.5],[6.4,3.2,5.3,2.3,2.1],[6.5,3.0,5.5,1.8,2.8],[7.7,3.8,6.7,2.2,3.1],[7.7,2.6,6.9,2.3,4.8],[6.0,2.2,5.0,1.5,3.3],[6.9,3.2,5.7,2.3,2.2],[5.6,2.8,4.9,2.0,1.1],[7.7,2.8,6.7,2.0,4.4],[6.3,2.7,4.9,1.8,1.3],[6.7,3.3,5.7,2.1,0.5],[7.2,3.2,6.0,1.8,3.4],[6.2,2.8,4.8,1.8,0.2],[6.1,3.0,4.9,1.8,1.7],[6.4,2.8,5.6,2.1,2.2],[7.2,3.0,5.8,1.6,4.4],[7.4,2.8,6.1,1.9,2.2],[7.9,3.8,6.4,2.0,3.6],[6.4,2.8,5.6,2.2,2.1],[6.3,2.8,5.1,1.5,2.3],[6.1,2.6,5.6,1.4,3.7],[7.7,3.0,6.1,2.3,1.4],[6.3,3.4,5.6,2.4,2.9],[6.4,3.1,5.5,1.8,3.2],[6.0,3.0,4.8,1.8,3.4],[6.9,3.1,5.4,2.1,0.4],[6.7,3.1,5.6,2.4,2.5],[6.9,3.1,5.1,2.3,1.9],[5.8,2.7,5.1,1.9,2.2],[6.8,3.2,5.9,2.3,2.0],[6.7,3.3,5.7,2.5,1.0],[6.7,3.0,5.2,2.3,4.3],[6.3,2.5,5.0,1.9,2.3],[6.5,3.0,5.2,2.0,4.0],[6.2,3.4,5.4,2.3,3.0],[5.9,3.0,5.1,1.8,1.8]],\"hovertemplate\":\"species=virginica<br>x_1=%{x:.2f}<br>x_2=%{y:.2f}<br>sepal_length=%{customdata[0]:.2f}<br>sepal_width=%{customdata[1]:.2f}<br>petal_length=%{customdata[2]:.2f}<br>petal_width=%{customdata[3]:.2f}<br>random_1=%{customdata[4]:.2f}<extra></extra>\",\"legendgroup\":\"virginica\",\"marker\":{\"color\":\"#00cc96\",\"symbol\":\"circle\"},\"mode\":\"markers\",\"name\":\"virginica\",\"orientation\":\"v\",\"showlegend\":true,\"x\":[10.165868759155273,11.218035697937012,12.414013862609863,10.586454391479492,16.10679817199707,7.95958948135376,16.085220336914062,7.655981063842773,12.0018310546875,17.632226943969727,5.242469787597656,10.885683059692383,18.386980056762695,5.333797931671143,5.214205741882324,14.442492485046387,11.213189125061035,9.728404998779297,7.284785747528076,8.637451171875,14.50839614868164,14.449069023132324,7.611509323120117,14.680173873901367,18.17606544494629,9.50614070892334,17.4842529296875,13.728838920593262,13.542242050170898,6.9162116050720215,14.799988746643066,9.239571571350098,13.896896362304688,13.09866714477539,8.472759246826172,17.107738494873047,11.10873031616211,9.985489845275879,7.053031921386719,18.147918701171875,13.496840476989746,15.071805953979492,12.044949531555176,15.151666641235352,17.551897048950195,5.776467800140381,12.653971672058105,6.234777450561523,10.742509841918945,13.075122833251953],\"xaxis\":\"x\",\"y\":[-5.66486120223999,-0.6797329783439636,-5.563965797424316,-3.6322104930877686,-2.905392646789551,-8.127008438110352,7.668055057525635,-7.469466686248779,-3.9460020065307617,-3.0154356956481934,-4.514206886291504,-2.932971477508545,-0.8049881458282471,-2.6403379440307617,-3.314539909362793,-2.8407604694366455,-3.631505250930786,-8.34316635131836,-8.579639434814453,-1.8464370965957642,-4.141433238983154,3.8725595474243164,-8.253263473510742,2.74452805519104,-1.4635645151138306,-7.007900238037109,5.0140156745910645,2.364332914352417,-2.977773904800415,-6.883189678192139,-5.3109450340271,-8.303488731384277,-3.0371155738830566,0.19033533334732056,-3.108177900314331,-3.9494857788085938,-5.171982765197754,-3.9322450160980225,-1.515783667564392,-0.8481847643852234,-4.282032489776611,-2.744612693786621,0.630505383014679,-3.993302345275879,-2.167320728302002,-4.825747013092041,-0.2918590009212494,-4.266621112823486,-4.928127765655518,2.297551393508911],\"yaxis\":\"y\",\"type\":\"scatter\"}],                        {\"template\":{\"data\":{\"bar\":[{\"error_x\":{\"color\":\"#2a3f5f\"},\"error_y\":{\"color\":\"#2a3f5f\"},\"marker\":{\"line\":{\"color\":\"#E5ECF6\",\"width\":0.5},\"pattern\":{\"fillmode\":\"overlay\",\"size\":10,\"solidity\":0.2}},\"type\":\"bar\"}],\"barpolar\":[{\"marker\":{\"line\":{\"color\":\"#E5ECF6\",\"width\":0.5},\"pattern\":{\"fillmode\":\"overlay\",\"size\":10,\"solidity\":0.2}},\"type\":\"barpolar\"}],\"carpet\":[{\"aaxis\":{\"endlinecolor\":\"#2a3f5f\",\"gridcolor\":\"white\",\"linecolor\":\"white\",\"minorgridcolor\":\"white\",\"startlinecolor\":\"#2a3f5f\"},\"baxis\":{\"endlinecolor\":\"#2a3f5f\",\"gridcolor\":\"white\",\"linecolor\":\"white\",\"minorgridcolor\":\"white\",\"startlinecolor\":\"#2a3f5f\"},\"type\":\"carpet\"}],\"choropleth\":[{\"colorbar\":{\"outlinewidth\":0,\"ticks\":\"\"},\"type\":\"choropleth\"}],\"contour\":[{\"colorbar\":{\"outlinewidth\":0,\"ticks\":\"\"},\"colorscale\":[[0.0,\"#0d0887\"],[0.1111111111111111,\"#46039f\"],[0.2222222222222222,\"#7201a8\"],[0.3333333333333333,\"#9c179e\"],[0.4444444444444444,\"#bd3786\"],[0.5555555555555556,\"#d8576b\"],[0.6666666666666666,\"#ed7953\"],[0.7777777777777778,\"#fb9f3a\"],[0.8888888888888888,\"#fdca26\"],[1.0,\"#f0f921\"]],\"type\":\"contour\"}],\"contourcarpet\":[{\"colorbar\":{\"outlinewidth\":0,\"ticks\":\"\"},\"type\":\"contourcarpet\"}],\"heatmap\":[{\"colorbar\":{\"outlinewidth\":0,\"ticks\":\"\"},\"colorscale\":[[0.0,\"#0d0887\"],[0.1111111111111111,\"#46039f\"],[0.2222222222222222,\"#7201a8\"],[0.3333333333333333,\"#9c179e\"],[0.4444444444444444,\"#bd3786\"],[0.5555555555555556,\"#d8576b\"],[0.6666666666666666,\"#ed7953\"],[0.7777777777777778,\"#fb9f3a\"],[0.8888888888888888,\"#fdca26\"],[1.0,\"#f0f921\"]],\"type\":\"heatmap\"}],\"heatmapgl\":[{\"colorbar\":{\"outlinewidth\":0,\"ticks\":\"\"},\"colorscale\":[[0.0,\"#0d0887\"],[0.1111111111111111,\"#46039f\"],[0.2222222222222222,\"#7201a8\"],[0.3333333333333333,\"#9c179e\"],[0.4444444444444444,\"#bd3786\"],[0.5555555555555556,\"#d8576b\"],[0.6666666666666666,\"#ed7953\"],[0.7777777777777778,\"#fb9f3a\"],[0.8888888888888888,\"#fdca26\"],[1.0,\"#f0f921\"]],\"type\":\"heatmapgl\"}],\"histogram\":[{\"marker\":{\"pattern\":{\"fillmode\":\"overlay\",\"size\":10,\"solidity\":0.2}},\"type\":\"histogram\"}],\"histogram2d\":[{\"colorbar\":{\"outlinewidth\":0,\"ticks\":\"\"},\"colorscale\":[[0.0,\"#0d0887\"],[0.1111111111111111,\"#46039f\"],[0.2222222222222222,\"#7201a8\"],[0.3333333333333333,\"#9c179e\"],[0.4444444444444444,\"#bd3786\"],[0.5555555555555556,\"#d8576b\"],[0.6666666666666666,\"#ed7953\"],[0.7777777777777778,\"#fb9f3a\"],[0.8888888888888888,\"#fdca26\"],[1.0,\"#f0f921\"]],\"type\":\"histogram2d\"}],\"histogram2dcontour\":[{\"colorbar\":{\"outlinewidth\":0,\"ticks\":\"\"},\"colorscale\":[[0.0,\"#0d0887\"],[0.1111111111111111,\"#46039f\"],[0.2222222222222222,\"#7201a8\"],[0.3333333333333333,\"#9c179e\"],[0.4444444444444444,\"#bd3786\"],[0.5555555555555556,\"#d8576b\"],[0.6666666666666666,\"#ed7953\"],[0.7777777777777778,\"#fb9f3a\"],[0.8888888888888888,\"#fdca26\"],[1.0,\"#f0f921\"]],\"type\":\"histogram2dcontour\"}],\"mesh3d\":[{\"colorbar\":{\"outlinewidth\":0,\"ticks\":\"\"},\"type\":\"mesh3d\"}],\"parcoords\":[{\"line\":{\"colorbar\":{\"outlinewidth\":0,\"ticks\":\"\"}},\"type\":\"parcoords\"}],\"pie\":[{\"automargin\":true,\"type\":\"pie\"}],\"scatter\":[{\"marker\":{\"colorbar\":{\"outlinewidth\":0,\"ticks\":\"\"}},\"type\":\"scatter\"}],\"scatter3d\":[{\"line\":{\"colorbar\":{\"outlinewidth\":0,\"ticks\":\"\"}},\"marker\":{\"colorbar\":{\"outlinewidth\":0,\"ticks\":\"\"}},\"type\":\"scatter3d\"}],\"scattercarpet\":[{\"marker\":{\"colorbar\":{\"outlinewidth\":0,\"ticks\":\"\"}},\"type\":\"scattercarpet\"}],\"scattergeo\":[{\"marker\":{\"colorbar\":{\"outlinewidth\":0,\"ticks\":\"\"}},\"type\":\"scattergeo\"}],\"scattergl\":[{\"marker\":{\"colorbar\":{\"outlinewidth\":0,\"ticks\":\"\"}},\"type\":\"scattergl\"}],\"scattermapbox\":[{\"marker\":{\"colorbar\":{\"outlinewidth\":0,\"ticks\":\"\"}},\"type\":\"scattermapbox\"}],\"scatterpolar\":[{\"marker\":{\"colorbar\":{\"outlinewidth\":0,\"ticks\":\"\"}},\"type\":\"scatterpolar\"}],\"scatterpolargl\":[{\"marker\":{\"colorbar\":{\"outlinewidth\":0,\"ticks\":\"\"}},\"type\":\"scatterpolargl\"}],\"scatterternary\":[{\"marker\":{\"colorbar\":{\"outlinewidth\":0,\"ticks\":\"\"}},\"type\":\"scatterternary\"}],\"surface\":[{\"colorbar\":{\"outlinewidth\":0,\"ticks\":\"\"},\"colorscale\":[[0.0,\"#0d0887\"],[0.1111111111111111,\"#46039f\"],[0.2222222222222222,\"#7201a8\"],[0.3333333333333333,\"#9c179e\"],[0.4444444444444444,\"#bd3786\"],[0.5555555555555556,\"#d8576b\"],[0.6666666666666666,\"#ed7953\"],[0.7777777777777778,\"#fb9f3a\"],[0.8888888888888888,\"#fdca26\"],[1.0,\"#f0f921\"]],\"type\":\"surface\"}],\"table\":[{\"cells\":{\"fill\":{\"color\":\"#EBF0F8\"},\"line\":{\"color\":\"white\"}},\"header\":{\"fill\":{\"color\":\"#C8D4E3\"},\"line\":{\"color\":\"white\"}},\"type\":\"table\"}]},\"layout\":{\"annotationdefaults\":{\"arrowcolor\":\"#2a3f5f\",\"arrowhead\":0,\"arrowwidth\":1},\"autotypenumbers\":\"strict\",\"coloraxis\":{\"colorbar\":{\"outlinewidth\":0,\"ticks\":\"\"}},\"colorscale\":{\"diverging\":[[0,\"#8e0152\"],[0.1,\"#c51b7d\"],[0.2,\"#de77ae\"],[0.3,\"#f1b6da\"],[0.4,\"#fde0ef\"],[0.5,\"#f7f7f7\"],[0.6,\"#e6f5d0\"],[0.7,\"#b8e186\"],[0.8,\"#7fbc41\"],[0.9,\"#4d9221\"],[1,\"#276419\"]],\"sequential\":[[0.0,\"#0d0887\"],[0.1111111111111111,\"#46039f\"],[0.2222222222222222,\"#7201a8\"],[0.3333333333333333,\"#9c179e\"],[0.4444444444444444,\"#bd3786\"],[0.5555555555555556,\"#d8576b\"],[0.6666666666666666,\"#ed7953\"],[0.7777777777777778,\"#fb9f3a\"],[0.8888888888888888,\"#fdca26\"],[1.0,\"#f0f921\"]],\"sequentialminus\":[[0.0,\"#0d0887\"],[0.1111111111111111,\"#46039f\"],[0.2222222222222222,\"#7201a8\"],[0.3333333333333333,\"#9c179e\"],[0.4444444444444444,\"#bd3786\"],[0.5555555555555556,\"#d8576b\"],[0.6666666666666666,\"#ed7953\"],[0.7777777777777778,\"#fb9f3a\"],[0.8888888888888888,\"#fdca26\"],[1.0,\"#f0f921\"]]},\"colorway\":[\"#636efa\",\"#EF553B\",\"#00cc96\",\"#ab63fa\",\"#FFA15A\",\"#19d3f3\",\"#FF6692\",\"#B6E880\",\"#FF97FF\",\"#FECB52\"],\"font\":{\"color\":\"#2a3f5f\"},\"geo\":{\"bgcolor\":\"white\",\"lakecolor\":\"white\",\"landcolor\":\"#E5ECF6\",\"showlakes\":true,\"showland\":true,\"subunitcolor\":\"white\"},\"hoverlabel\":{\"align\":\"left\"},\"hovermode\":\"closest\",\"mapbox\":{\"style\":\"light\"},\"paper_bgcolor\":\"white\",\"plot_bgcolor\":\"#E5ECF6\",\"polar\":{\"angularaxis\":{\"gridcolor\":\"white\",\"linecolor\":\"white\",\"ticks\":\"\"},\"bgcolor\":\"#E5ECF6\",\"radialaxis\":{\"gridcolor\":\"white\",\"linecolor\":\"white\",\"ticks\":\"\"}},\"scene\":{\"xaxis\":{\"backgroundcolor\":\"#E5ECF6\",\"gridcolor\":\"white\",\"gridwidth\":2,\"linecolor\":\"white\",\"showbackground\":true,\"ticks\":\"\",\"zerolinecolor\":\"white\"},\"yaxis\":{\"backgroundcolor\":\"#E5ECF6\",\"gridcolor\":\"white\",\"gridwidth\":2,\"linecolor\":\"white\",\"showbackground\":true,\"ticks\":\"\",\"zerolinecolor\":\"white\"},\"zaxis\":{\"backgroundcolor\":\"#E5ECF6\",\"gridcolor\":\"white\",\"gridwidth\":2,\"linecolor\":\"white\",\"showbackground\":true,\"ticks\":\"\",\"zerolinecolor\":\"white\"}},\"shapedefaults\":{\"line\":{\"color\":\"#2a3f5f\"}},\"ternary\":{\"aaxis\":{\"gridcolor\":\"white\",\"linecolor\":\"white\",\"ticks\":\"\"},\"baxis\":{\"gridcolor\":\"white\",\"linecolor\":\"white\",\"ticks\":\"\"},\"bgcolor\":\"#E5ECF6\",\"caxis\":{\"gridcolor\":\"white\",\"linecolor\":\"white\",\"ticks\":\"\"}},\"title\":{\"x\":0.05},\"xaxis\":{\"automargin\":true,\"gridcolor\":\"white\",\"linecolor\":\"white\",\"ticks\":\"\",\"title\":{\"standoff\":15},\"zerolinecolor\":\"white\",\"zerolinewidth\":2},\"yaxis\":{\"automargin\":true,\"gridcolor\":\"white\",\"linecolor\":\"white\",\"ticks\":\"\",\"title\":{\"standoff\":15},\"zerolinecolor\":\"white\",\"zerolinewidth\":2}}},\"xaxis\":{\"anchor\":\"y\",\"domain\":[0.0,1.0],\"title\":{\"text\":\"x_1\"}},\"yaxis\":{\"anchor\":\"x\",\"domain\":[0.0,1.0],\"title\":{\"text\":\"x_2\"}},\"legend\":{\"title\":{\"text\":\"species\"},\"tracegroupgap\":0},\"margin\":{\"t\":60},\"height\":600,\"width\":800},                        {\"responsive\": true}                    ).then(function(){\n",
              "                            \n",
              "var gd = document.getElementById('40fbaf8d-f16c-4b95-8954-e76cece28d2d');\n",
              "var x = new MutationObserver(function (mutations, observer) {{\n",
              "        var display = window.getComputedStyle(gd).display;\n",
              "        if (!display || display === 'none') {{\n",
              "            console.log([gd, 'removed!']);\n",
              "            Plotly.purge(gd);\n",
              "            observer.disconnect();\n",
              "        }}\n",
              "}});\n",
              "\n",
              "// Listen for the removal of the full notebook cells\n",
              "var notebookContainer = gd.closest('#notebook-container');\n",
              "if (notebookContainer) {{\n",
              "    x.observe(notebookContainer, {childList: true});\n",
              "}}\n",
              "\n",
              "// Listen for the clearing of the current output cell\n",
              "var outputEl = gd.closest('.output');\n",
              "if (outputEl) {{\n",
              "    x.observe(outputEl, {childList: true});\n",
              "}}\n",
              "\n",
              "                        })                };                            </script>        </div>\n",
              "</body>\n",
              "</html>"
            ]
          },
          "metadata": {}
        }
      ]
    },
    {
      "cell_type": "markdown",
      "source": [
        "## Creating clusters\n",
        "At the risk of overfitting there seems to be 3 clusters present. So set $K=3$ in our Kmeans algorithm. "
      ],
      "metadata": {
        "id": "ZGJOcuseDs7o"
      }
    },
    {
      "cell_type": "code",
      "source": [
        "from plotly.validators.scatter.marker import SymbolValidator\n",
        "from typing import List\n",
        "\n",
        "def get_marker_symbols() -> List[str]:\n",
        "  # get all symbols and metadata\n",
        "  symbols_meta = SymbolValidator().values\n",
        "  # extract symbol names with similar symbols next to each other, ex:\n",
        "  # 'circle', 'circle-open', 'circle-dot', 'circle-open-dot'\n",
        "  symbols = [symbols_meta[3 * (i + 1) - 1] for i in range(int(len(symbols_meta) / 3 - 1))]\n",
        "  # sort symbol names in such a way that similar symbols stay far apart\n",
        "  symbols = sorted(symbols, key=lambda x: x.split(\"-\")[1] if \"-\" in x else \"a\")\n",
        "  return symbols"
      ],
      "metadata": {
        "id": "JkD5hY1YZbju"
      },
      "execution_count": 21,
      "outputs": []
    },
    {
      "cell_type": "code",
      "source": [
        "\"\"\"\n",
        "    init=np.array([\n",
        "        [-33, 1.4],\n",
        "        [9.6, 3.9],\n",
        "        [12, -3.9]\n",
        "    ])\n",
        "    \"\"\""
      ],
      "metadata": {
        "id": "mwvAgMP2Sn8D",
        "outputId": "c75f8185-4789-43d2-8fda-4368b97579f5",
        "colab": {
          "base_uri": "https://localhost:8080/",
          "height": 36
        }
      },
      "execution_count": 22,
      "outputs": [
        {
          "output_type": "execute_result",
          "data": {
            "text/plain": [
              "'\\n    init=np.array([\\n        [-33, 1.4],\\n        [9.6, 3.9],\\n        [12, -3.9]\\n    ])\\n    '"
            ],
            "application/vnd.google.colaboratory.intrinsic+json": {
              "type": "string"
            }
          },
          "metadata": {},
          "execution_count": 22
        }
      ]
    },
    {
      "cell_type": "code",
      "source": [
        "N_CLUSTERS = 3\n",
        "colors = COLORS[3:]\n",
        "\n",
        "kmeans = KMeans(\n",
        "    n_clusters=N_CLUSTERS,\n",
        "    random_state=69,\n",
        ").fit(X_tsne)\n",
        "iris_tsne = pd.concat(\n",
        "    [\n",
        "        pd.DataFrame(X_tsne, columns=['x_1', 'x_2']),\n",
        "        X,\n",
        "        pd.Series(kmeans.labels_, name=\"cluster\"),\n",
        "        iris[[\"species\"]],\n",
        "     ]\n",
        "    , axis=\"columns\"\n",
        ")\n",
        "\n",
        "main_features = iris.columns[\n",
        "    ~iris.columns.isin(['species', \"species_id\"])\n",
        "]\n",
        "subplot_titles = [\"TSNE 2D iris\"] + list(main_features)\n",
        "top_fig_specs = [\n",
        "    [{\"type\": \"scatter\", \"colspan\": 2}, None],\n",
        "]\n",
        "feature_fig_specs =[\n",
        "    [{\"type\": \"scatter\", \"colspan\": 2}, None] for _ in enumerate(main_features)\n",
        "]\n",
        "fig_specs = top_fig_specs + feature_fig_specs\n",
        "\n",
        "fig = make_subplots(\n",
        "    rows= len(main_features) + 1,\n",
        "    cols=2,\n",
        "    subplot_titles=subplot_titles,\n",
        "    specs=fig_specs,\n",
        "    vertical_spacing = 0.03\n",
        ")\n",
        "\n",
        "symbols = get_marker_symbols()\n",
        "for i, species in enumerate(iris_species):\n",
        "  for cluster in range(N_CLUSTERS):\n",
        "    mask = (iris_tsne['species'] == species) & (iris_tsne['cluster'] == cluster)\n",
        "    fig.append_trace(\n",
        "        go.Scatter(\n",
        "              x=iris_tsne.loc[mask, 'x_1'],\n",
        "              y=iris_tsne.loc[mask, 'x_2'],\n",
        "              mode=\"markers\",\n",
        "              marker={\n",
        "                \"color\": colors[cluster],\n",
        "                \"symbol\": symbols[i]\n",
        "              },\n",
        "              name=species,\n",
        "        ),\n",
        "        row=1,\n",
        "        col=1\n",
        "    )\n",
        "\n",
        "  \n",
        "for j, feature in enumerate(main_features):\n",
        "  for cluster in range(N_CLUSTERS):\n",
        "    fig.append_trace(\n",
        "      go.Histogram(\n",
        "          x=iris_tsne.loc[iris_tsne['cluster'] == cluster, feature],\n",
        "          histnorm='probability',\n",
        "          marker={\n",
        "                \"color\": colors[cluster],\n",
        "          },\n",
        "          showlegend = j == 0,\n",
        "          name=f\"cluster {cluster}\"\n",
        "      ),\n",
        "      row=j + len(top_fig_specs) + 1,\n",
        "      col=1,\n",
        "    )\n",
        "# Overlay both histograms\n",
        "fig.update_layout(height=400 * len(fig_specs), width=1300, barmode='overlay')\n",
        "# Reduce opacity to see both histograms\n",
        "fig.update_traces(opacity=0.75)\n",
        "\n",
        "  \n",
        "fig.show()"
      ],
      "metadata": {
        "id": "tXJqfjThCIth",
        "outputId": "822c7187-9919-46ba-d0b4-bd7ae335f5a9",
        "colab": {
          "base_uri": "https://localhost:8080/",
          "height": 1000
        }
      },
      "execution_count": 23,
      "outputs": [
        {
          "output_type": "display_data",
          "data": {
            "text/html": [
              "<html>\n",
              "<head><meta charset=\"utf-8\" /></head>\n",
              "<body>\n",
              "    <div>            <script src=\"https://cdnjs.cloudflare.com/ajax/libs/mathjax/2.7.5/MathJax.js?config=TeX-AMS-MML_SVG\"></script><script type=\"text/javascript\">if (window.MathJax) {MathJax.Hub.Config({SVG: {font: \"STIX-Web\"}});}</script>                <script type=\"text/javascript\">window.PlotlyConfig = {MathJaxConfig: 'local'};</script>\n",
              "        <script src=\"https://cdn.plot.ly/plotly-2.8.3.min.js\"></script>                <div id=\"78e62c15-952e-43c9-a10e-1f8d1e57a68e\" class=\"plotly-graph-div\" style=\"height:2400px; width:1300px;\"></div>            <script type=\"text/javascript\">                                    window.PLOTLYENV=window.PLOTLYENV || {};                                    if (document.getElementById(\"78e62c15-952e-43c9-a10e-1f8d1e57a68e\")) {                    Plotly.newPlot(                        \"78e62c15-952e-43c9-a10e-1f8d1e57a68e\",                        [{\"marker\":{\"color\":\"#AB63FA\",\"symbol\":\"circle\"},\"mode\":\"markers\",\"name\":\"setosa\",\"x\":[],\"y\":[],\"type\":\"scatter\",\"xaxis\":\"x\",\"yaxis\":\"y\",\"opacity\":0.75},{\"marker\":{\"color\":\"#FFA15A\",\"symbol\":\"circle\"},\"mode\":\"markers\",\"name\":\"setosa\",\"x\":[-34.76945877075195,-25.801301956176758,-35.012264251708984,-25.91923713684082,-29.418853759765625,-34.972190856933594,-38.46078109741211,-38.6751708984375,-26.33692169189453,-26.77630043029785,-27.179183959960938,-26.240222930908203,-39.29716873168945,-36.22127914428711,-27.440113067626953,-33.09178924560547,-31.031030654907227,-37.0986213684082,-33.571529388427734,-31.23456573486328,-30.061946868896484,-34.58769607543945,-36.11408233642578,-27.713228225708008,-36.37185287475586,-27.235816955566406,-31.782638549804688,-32.9682731628418,-33.7666130065918,-30.196916580200195,-24.89792251586914,-29.68397331237793,-28.0044002532959,-32.2863883972168,-38.26734924316406,-26.949481964111328,-32.24144744873047,-31.15902328491211,-35.70889663696289,-37.9740104675293,-31.38579559326172,-25.202274322509766,-37.482181549072266,-30.988927841186523,-36.179988861083984,-39.15074157714844,-38.39537048339844,-37.79960250854492,-35.206363677978516,-39.16396713256836],\"y\":[1.9782309532165527,0.6746001243591309,3.3806400299072266,1.1847847700119019,0.8505303263664246,0.6098247766494751,2.1525468826293945,0.7125798463821411,1.9917235374450684,1.1853677034378052,-0.34930944442749023,0.16002978384494781,1.6219017505645752,4.044059753417969,-1.0704758167266846,3.5246715545654297,2.6276087760925293,1.1164549589157104,2.525304079055786,1.9848382472991943,1.5917704105377197,1.4439189434051514,3.0002267360687256,0.8413803577423096,1.556354284286499,1.5108177661895752,0.8054112195968628,1.385806918144226,1.5475457906723022,0.21151374280452728,0.3187219798564911,1.6853941679000854,-0.43691012263298035,3.16678524017334,1.5343297719955444,0.637306272983551,1.9677637815475464,0.1307530403137207,4.015730857849121,0.7911084890365601,1.3075525760650635,1.6901565790176392,3.0304672718048096,1.0699782371520996,0.537964940071106,2.152331829071045,-0.06239163503050804,2.3214643001556396,1.269839882850647,0.9059963226318359],\"type\":\"scatter\",\"xaxis\":\"x\",\"yaxis\":\"y\",\"opacity\":0.75},{\"marker\":{\"color\":\"#19D3F3\",\"symbol\":\"circle\"},\"mode\":\"markers\",\"name\":\"setosa\",\"x\":[],\"y\":[],\"type\":\"scatter\",\"xaxis\":\"x\",\"yaxis\":\"y\",\"opacity\":0.75},{\"marker\":{\"color\":\"#AB63FA\",\"symbol\":\"square\"},\"mode\":\"markers\",\"name\":\"versicolor\",\"x\":[14.334962844848633,11.903448104858398,14.409183502197266,14.431199073791504,15.771817207336426,15.718387603759766,12.745941162109375,13.349251747131348,9.622401237487793,13.360259056091309,17.118478775024414,14.551738739013672,16.844989776611328,13.74179458618164,13.027938842773438,11.59333610534668,16.530410766601562,16.094852447509766,17.13031005859375,14.497734069824219,15.143709182739258,11.196189880371094,13.723736763000488,14.863064765930176],\"y\":[1.1577520370483398,4.69326639175415,0.6898844838142395,7.979663372039795,6.657754898071289,2.0287561416625977,6.022262096405029,6.72208833694458,3.9016780853271484,0.9320801496505737,4.490322589874268,0.4461960792541504,5.487785339355469,7.114231109619141,1.7830777168273926,4.3970136642456055,4.908376693725586,2.5713655948638916,6.132036209106445,6.157508373260498,7.025099277496338,4.944335460662842,6.0136590003967285,6.005072593688965],\"type\":\"scatter\",\"xaxis\":\"x\",\"yaxis\":\"y\",\"opacity\":0.75},{\"marker\":{\"color\":\"#FFA15A\",\"symbol\":\"square\"},\"mode\":\"markers\",\"name\":\"versicolor\",\"x\":[],\"y\":[],\"type\":\"scatter\",\"xaxis\":\"x\",\"yaxis\":\"y\",\"opacity\":0.75},{\"marker\":{\"color\":\"#19D3F3\",\"symbol\":\"square\"},\"mode\":\"markers\",\"name\":\"versicolor\",\"x\":[4.014222621917725,8.775982856750488,4.242965221405029,3.4306201934814453,7.348371982574463,3.235743522644043,6.563713073730469,7.618572235107422,3.855525255203247,2.934771776199341,5.353788375854492,3.440448522567749,6.89024543762207,8.094673156738281,7.743357181549072,7.349643230438232,4.80417013168335,6.095212936401367,7.15225076675415,5.923835754394531,5.190525531768799,4.796754837036133,6.006209850311279,6.141338348388672,4.547287464141846,6.649055480957031],\"y\":[-4.641530513763428,1.1262673139572144,-4.683850288391113,-0.06226806715130806,-0.7810777425765991,1.3686103820800781,3.717709541320801,2.122976303100586,-2.9967575073242188,-0.04167281836271286,-0.46485769748687744,-2.255537271499634,-1.3727614879608154,0.6745356917381287,1.0752087831497192,-3.2673890590667725,2.3320229053497314,3.895268440246582,3.169539213180542,-0.8906552791595459,1.2989015579223633,3.589221715927124,1.1899073123931885,0.16328121721744537,3.5967698097229004,2.3201568126678467],\"type\":\"scatter\",\"xaxis\":\"x\",\"yaxis\":\"y\",\"opacity\":0.75},{\"marker\":{\"color\":\"#AB63FA\",\"symbol\":\"diamond\"},\"mode\":\"markers\",\"name\":\"virginica\",\"x\":[11.218035697937012,16.10679817199707,16.085220336914062,17.632226943969727,18.386980056762695,14.442492485046387,14.50839614868164,14.449069023132324,14.680173873901367,18.17606544494629,17.4842529296875,13.728838920593262,13.542242050170898,14.799988746643066,13.896896362304688,13.09866714477539,17.107738494873047,18.147918701171875,13.496840476989746,15.071805953979492,12.044949531555176,15.151666641235352,17.551897048950195,12.653971672058105,13.075122833251953],\"y\":[-0.6797329783439636,-2.905392646789551,7.668055057525635,-3.0154356956481934,-0.8049881458282471,-2.8407604694366455,-4.141433238983154,3.8725595474243164,2.74452805519104,-1.4635645151138306,5.0140156745910645,2.364332914352417,-2.977773904800415,-5.3109450340271,-3.0371155738830566,0.19033533334732056,-3.9494857788085938,-0.8481847643852234,-4.282032489776611,-2.744612693786621,0.630505383014679,-3.993302345275879,-2.167320728302002,-0.2918590009212494,2.297551393508911],\"type\":\"scatter\",\"xaxis\":\"x\",\"yaxis\":\"y\",\"opacity\":0.75},{\"marker\":{\"color\":\"#FFA15A\",\"symbol\":\"diamond\"},\"mode\":\"markers\",\"name\":\"virginica\",\"x\":[],\"y\":[],\"type\":\"scatter\",\"xaxis\":\"x\",\"yaxis\":\"y\",\"opacity\":0.75},{\"marker\":{\"color\":\"#19D3F3\",\"symbol\":\"diamond\"},\"mode\":\"markers\",\"name\":\"virginica\",\"x\":[10.165868759155273,12.414013862609863,10.586454391479492,7.95958948135376,7.655981063842773,12.0018310546875,5.242469787597656,10.885683059692383,5.333797931671143,5.214205741882324,11.213189125061035,9.728404998779297,7.284785747528076,8.637451171875,7.611509323120117,9.50614070892334,6.9162116050720215,9.239571571350098,8.472759246826172,11.10873031616211,9.985489845275879,7.053031921386719,5.776467800140381,6.234777450561523,10.742509841918945],\"y\":[-5.66486120223999,-5.563965797424316,-3.6322104930877686,-8.127008438110352,-7.469466686248779,-3.9460020065307617,-4.514206886291504,-2.932971477508545,-2.6403379440307617,-3.314539909362793,-3.631505250930786,-8.34316635131836,-8.579639434814453,-1.8464370965957642,-8.253263473510742,-7.007900238037109,-6.883189678192139,-8.303488731384277,-3.108177900314331,-5.171982765197754,-3.9322450160980225,-1.515783667564392,-4.825747013092041,-4.266621112823486,-4.928127765655518],\"type\":\"scatter\",\"xaxis\":\"x\",\"yaxis\":\"y\",\"opacity\":0.75},{\"histnorm\":\"probability\",\"marker\":{\"color\":\"#AB63FA\"},\"name\":\"cluster 0\",\"showlegend\":true,\"x\":[6.5,5.7,6.6,5.0,6.0,6.7,5.8,5.6,6.1,6.3,6.6,6.8,6.0,5.5,6.0,5.4,6.0,6.7,6.3,5.6,5.5,5.5,5.6,5.7,5.8,6.5,4.9,7.2,6.8,6.4,6.9,5.6,6.3,6.7,6.2,6.1,6.4,7.4,6.4,6.3,7.7,6.9,6.7,6.9,5.8,6.8,6.7,6.3,5.9],\"type\":\"histogram\",\"xaxis\":\"x2\",\"yaxis\":\"y2\",\"opacity\":0.75},{\"histnorm\":\"probability\",\"marker\":{\"color\":\"#FFA15A\"},\"name\":\"cluster 1\",\"showlegend\":true,\"x\":[5.1,4.9,4.7,4.6,5.0,5.4,4.6,5.0,4.4,4.9,5.4,4.8,4.8,4.3,5.8,5.7,5.4,5.1,5.7,5.1,5.4,5.1,4.6,5.1,4.8,5.0,5.0,5.2,5.2,4.7,4.8,5.4,5.2,5.5,4.9,5.0,5.5,4.9,4.4,5.1,5.0,4.5,4.4,5.0,5.1,4.8,5.1,4.6,5.3,5.0],\"type\":\"histogram\",\"xaxis\":\"x2\",\"yaxis\":\"y2\",\"opacity\":0.75},{\"histnorm\":\"probability\",\"marker\":{\"color\":\"#19D3F3\"},\"name\":\"cluster 2\",\"showlegend\":true,\"x\":[7.0,6.4,6.9,5.5,6.3,4.9,5.2,5.9,6.1,5.6,5.6,6.2,5.9,6.1,6.4,6.7,5.7,5.5,5.8,6.1,5.8,5.0,5.7,6.2,5.1,5.7,6.3,7.1,6.3,7.6,7.3,6.7,6.5,6.4,5.7,5.8,6.5,7.7,7.7,6.0,7.7,7.2,7.2,7.9,6.1,6.3,6.4,6.0,6.7,6.5,6.2],\"type\":\"histogram\",\"xaxis\":\"x2\",\"yaxis\":\"y2\",\"opacity\":0.75},{\"histnorm\":\"probability\",\"marker\":{\"color\":\"#AB63FA\"},\"name\":\"cluster 0\",\"showlegend\":false,\"x\":[2.8,2.8,2.9,2.0,2.2,3.1,2.7,2.5,2.8,2.5,3.0,2.8,2.9,2.4,2.7,3.0,3.4,3.1,2.3,3.0,2.5,2.6,2.7,2.9,2.7,3.0,2.5,3.6,3.0,3.2,3.2,2.8,2.7,3.3,2.8,3.0,2.8,2.8,2.8,2.8,3.0,3.1,3.1,3.1,2.7,3.2,3.3,2.5,3.0],\"type\":\"histogram\",\"xaxis\":\"x3\",\"yaxis\":\"y3\",\"opacity\":0.75},{\"histnorm\":\"probability\",\"marker\":{\"color\":\"#FFA15A\"},\"name\":\"cluster 1\",\"showlegend\":false,\"x\":[3.5,3.0,3.2,3.1,3.6,3.9,3.4,3.4,2.9,3.1,3.7,3.4,3.0,3.0,4.0,4.4,3.9,3.5,3.8,3.8,3.4,3.7,3.6,3.3,3.4,3.0,3.4,3.5,3.4,3.2,3.1,3.4,4.1,4.2,3.1,3.2,3.5,3.1,3.0,3.4,3.5,2.3,3.2,3.5,3.8,3.0,3.8,3.2,3.7,3.3],\"type\":\"histogram\",\"xaxis\":\"x3\",\"yaxis\":\"y3\",\"opacity\":0.75},{\"histnorm\":\"probability\",\"marker\":{\"color\":\"#19D3F3\"},\"name\":\"cluster 2\",\"showlegend\":false,\"x\":[3.2,3.2,3.1,2.3,3.3,2.4,2.7,3.0,2.9,2.9,3.0,2.2,3.2,2.8,2.9,3.0,2.6,2.4,2.7,3.0,2.6,2.3,3.0,2.9,2.5,2.8,3.3,3.0,2.9,3.0,2.9,2.5,3.2,2.7,2.5,2.8,3.0,3.8,2.6,2.2,2.8,3.2,3.0,3.8,2.6,3.4,3.1,3.0,3.0,3.0,3.4],\"type\":\"histogram\",\"xaxis\":\"x3\",\"yaxis\":\"y3\",\"opacity\":0.75},{\"histnorm\":\"probability\",\"marker\":{\"color\":\"#AB63FA\"},\"name\":\"cluster 0\",\"showlegend\":false,\"x\":[4.6,4.5,4.6,3.5,4.0,4.4,4.1,3.9,4.0,4.9,4.4,4.8,4.5,3.8,5.1,4.5,4.5,4.7,4.4,4.1,4.0,4.4,4.2,4.2,5.1,5.8,4.5,6.1,5.5,5.3,5.7,4.9,4.9,5.7,4.8,4.9,5.6,6.1,5.6,5.1,6.1,5.4,5.6,5.1,5.1,5.9,5.7,5.0,5.1],\"type\":\"histogram\",\"xaxis\":\"x4\",\"yaxis\":\"y4\",\"opacity\":0.75},{\"histnorm\":\"probability\",\"marker\":{\"color\":\"#FFA15A\"},\"name\":\"cluster 1\",\"showlegend\":false,\"x\":[1.4,1.4,1.3,1.5,1.4,1.7,1.4,1.5,1.4,1.5,1.5,1.6,1.4,1.1,1.2,1.5,1.3,1.4,1.7,1.5,1.7,1.5,1.0,1.7,1.9,1.6,1.6,1.5,1.4,1.6,1.6,1.5,1.5,1.4,1.5,1.2,1.3,1.5,1.3,1.5,1.3,1.3,1.3,1.6,1.9,1.4,1.6,1.4,1.5,1.4],\"type\":\"histogram\",\"xaxis\":\"x4\",\"yaxis\":\"y4\",\"opacity\":0.75},{\"histnorm\":\"probability\",\"marker\":{\"color\":\"#19D3F3\"},\"name\":\"cluster 2\",\"showlegend\":false,\"x\":[4.7,4.5,4.9,4.0,4.7,3.3,3.9,4.2,4.7,3.6,4.5,4.5,4.8,4.7,4.3,5.0,3.5,3.7,3.9,4.6,4.0,3.3,4.2,4.3,3.0,4.1,6.0,5.9,5.6,6.6,6.3,5.8,5.1,5.3,5.0,5.1,5.5,6.7,6.9,5.0,6.7,6.0,5.8,6.4,5.6,5.6,5.5,4.8,5.2,5.2,5.4],\"type\":\"histogram\",\"xaxis\":\"x4\",\"yaxis\":\"y4\",\"opacity\":0.75},{\"histnorm\":\"probability\",\"marker\":{\"color\":\"#AB63FA\"},\"name\":\"cluster 0\",\"showlegend\":false,\"x\":[1.5,1.3,1.3,1.0,1.0,1.4,1.0,1.1,1.3,1.5,1.4,1.4,1.5,1.1,1.6,1.5,1.6,1.5,1.3,1.3,1.3,1.2,1.3,1.3,1.9,2.2,1.7,2.5,2.1,2.3,2.3,2.0,1.8,2.1,1.8,1.8,2.1,1.9,2.2,1.5,2.3,2.1,2.4,2.3,1.9,2.3,2.5,1.9,1.8],\"type\":\"histogram\",\"xaxis\":\"x5\",\"yaxis\":\"y5\",\"opacity\":0.75},{\"histnorm\":\"probability\",\"marker\":{\"color\":\"#FFA15A\"},\"name\":\"cluster 1\",\"showlegend\":false,\"x\":[0.2,0.2,0.2,0.2,0.2,0.4,0.3,0.2,0.2,0.1,0.2,0.2,0.1,0.1,0.2,0.4,0.4,0.3,0.3,0.3,0.2,0.4,0.2,0.5,0.2,0.2,0.4,0.2,0.2,0.2,0.2,0.4,0.1,0.2,0.1,0.2,0.2,0.1,0.2,0.2,0.3,0.3,0.2,0.6,0.4,0.3,0.2,0.2,0.2,0.2],\"type\":\"histogram\",\"xaxis\":\"x5\",\"yaxis\":\"y5\",\"opacity\":0.75},{\"histnorm\":\"probability\",\"marker\":{\"color\":\"#19D3F3\"},\"name\":\"cluster 2\",\"showlegend\":false,\"x\":[1.4,1.5,1.5,1.3,1.6,1.0,1.4,1.5,1.4,1.3,1.5,1.5,1.8,1.2,1.3,1.7,1.0,1.0,1.2,1.4,1.2,1.0,1.2,1.3,1.1,1.3,2.5,2.1,1.8,2.1,1.8,1.8,2.0,1.9,2.0,2.4,1.8,2.2,2.3,1.5,2.0,1.8,1.6,2.0,1.4,2.4,1.8,1.8,2.3,2.0,2.3],\"type\":\"histogram\",\"xaxis\":\"x5\",\"yaxis\":\"y5\",\"opacity\":0.75},{\"histnorm\":\"probability\",\"marker\":{\"color\":\"#AB63FA\"},\"name\":\"cluster 0\",\"showlegend\":false,\"x\":[2.0,1.9,2.2,0.8,0.6,1.5,1.6,1.4,2.2,2.0,0.3,2.1,0.1,1.3,1.8,2.0,0.3,1.1,0.0,1.0,0.6,2.1,1.3,0.9,2.7,1.5,0.3,1.1,0.3,2.1,2.2,1.1,1.3,0.5,0.2,1.7,2.2,2.2,2.1,2.3,1.4,0.4,2.5,1.9,2.2,2.0,1.0,2.3,1.8],\"type\":\"histogram\",\"xaxis\":\"x6\",\"yaxis\":\"y6\",\"opacity\":0.75},{\"histnorm\":\"probability\",\"marker\":{\"color\":\"#FFA15A\"},\"name\":\"cluster 1\",\"showlegend\":false,\"x\":[1.5,4.0,1.8,3.9,2.8,1.3,0.5,0.3,3.4,3.5,3.7,3.9,0.4,1.6,3.7,1.6,2.4,0.9,1.6,2.3,2.6,1.5,1.4,3.4,1.2,3.4,2.2,1.9,1.7,2.6,4.9,2.7,3.4,2.0,0.6,3.5,2.1,2.3,1.7,0.5,2.3,4.0,1.0,2.3,1.0,0.4,0.2,0.8,1.3,0.3],\"type\":\"histogram\",\"xaxis\":\"x6\",\"yaxis\":\"y6\",\"opacity\":0.75},{\"histnorm\":\"probability\",\"marker\":{\"color\":\"#19D3F3\"},\"name\":\"cluster 2\",\"showlegend\":false,\"x\":[4.6,2.7,4.8,4.5,3.3,4.3,2.7,2.8,4.7,4.9,3.8,4.9,3.4,2.9,3.0,3.5,3.5,2.6,2.7,3.8,3.6,3.1,3.4,3.6,3.1,3.0,3.5,2.9,3.0,4.3,4.2,2.8,4.5,2.9,4.1,4.5,2.8,3.1,4.8,3.3,4.4,3.4,4.4,3.6,3.7,2.9,3.2,3.4,4.3,4.0,3.0],\"type\":\"histogram\",\"xaxis\":\"x6\",\"yaxis\":\"y6\",\"opacity\":0.75}],                        {\"template\":{\"data\":{\"bar\":[{\"error_x\":{\"color\":\"#2a3f5f\"},\"error_y\":{\"color\":\"#2a3f5f\"},\"marker\":{\"line\":{\"color\":\"#E5ECF6\",\"width\":0.5},\"pattern\":{\"fillmode\":\"overlay\",\"size\":10,\"solidity\":0.2}},\"type\":\"bar\"}],\"barpolar\":[{\"marker\":{\"line\":{\"color\":\"#E5ECF6\",\"width\":0.5},\"pattern\":{\"fillmode\":\"overlay\",\"size\":10,\"solidity\":0.2}},\"type\":\"barpolar\"}],\"carpet\":[{\"aaxis\":{\"endlinecolor\":\"#2a3f5f\",\"gridcolor\":\"white\",\"linecolor\":\"white\",\"minorgridcolor\":\"white\",\"startlinecolor\":\"#2a3f5f\"},\"baxis\":{\"endlinecolor\":\"#2a3f5f\",\"gridcolor\":\"white\",\"linecolor\":\"white\",\"minorgridcolor\":\"white\",\"startlinecolor\":\"#2a3f5f\"},\"type\":\"carpet\"}],\"choropleth\":[{\"colorbar\":{\"outlinewidth\":0,\"ticks\":\"\"},\"type\":\"choropleth\"}],\"contour\":[{\"colorbar\":{\"outlinewidth\":0,\"ticks\":\"\"},\"colorscale\":[[0.0,\"#0d0887\"],[0.1111111111111111,\"#46039f\"],[0.2222222222222222,\"#7201a8\"],[0.3333333333333333,\"#9c179e\"],[0.4444444444444444,\"#bd3786\"],[0.5555555555555556,\"#d8576b\"],[0.6666666666666666,\"#ed7953\"],[0.7777777777777778,\"#fb9f3a\"],[0.8888888888888888,\"#fdca26\"],[1.0,\"#f0f921\"]],\"type\":\"contour\"}],\"contourcarpet\":[{\"colorbar\":{\"outlinewidth\":0,\"ticks\":\"\"},\"type\":\"contourcarpet\"}],\"heatmap\":[{\"colorbar\":{\"outlinewidth\":0,\"ticks\":\"\"},\"colorscale\":[[0.0,\"#0d0887\"],[0.1111111111111111,\"#46039f\"],[0.2222222222222222,\"#7201a8\"],[0.3333333333333333,\"#9c179e\"],[0.4444444444444444,\"#bd3786\"],[0.5555555555555556,\"#d8576b\"],[0.6666666666666666,\"#ed7953\"],[0.7777777777777778,\"#fb9f3a\"],[0.8888888888888888,\"#fdca26\"],[1.0,\"#f0f921\"]],\"type\":\"heatmap\"}],\"heatmapgl\":[{\"colorbar\":{\"outlinewidth\":0,\"ticks\":\"\"},\"colorscale\":[[0.0,\"#0d0887\"],[0.1111111111111111,\"#46039f\"],[0.2222222222222222,\"#7201a8\"],[0.3333333333333333,\"#9c179e\"],[0.4444444444444444,\"#bd3786\"],[0.5555555555555556,\"#d8576b\"],[0.6666666666666666,\"#ed7953\"],[0.7777777777777778,\"#fb9f3a\"],[0.8888888888888888,\"#fdca26\"],[1.0,\"#f0f921\"]],\"type\":\"heatmapgl\"}],\"histogram\":[{\"marker\":{\"pattern\":{\"fillmode\":\"overlay\",\"size\":10,\"solidity\":0.2}},\"type\":\"histogram\"}],\"histogram2d\":[{\"colorbar\":{\"outlinewidth\":0,\"ticks\":\"\"},\"colorscale\":[[0.0,\"#0d0887\"],[0.1111111111111111,\"#46039f\"],[0.2222222222222222,\"#7201a8\"],[0.3333333333333333,\"#9c179e\"],[0.4444444444444444,\"#bd3786\"],[0.5555555555555556,\"#d8576b\"],[0.6666666666666666,\"#ed7953\"],[0.7777777777777778,\"#fb9f3a\"],[0.8888888888888888,\"#fdca26\"],[1.0,\"#f0f921\"]],\"type\":\"histogram2d\"}],\"histogram2dcontour\":[{\"colorbar\":{\"outlinewidth\":0,\"ticks\":\"\"},\"colorscale\":[[0.0,\"#0d0887\"],[0.1111111111111111,\"#46039f\"],[0.2222222222222222,\"#7201a8\"],[0.3333333333333333,\"#9c179e\"],[0.4444444444444444,\"#bd3786\"],[0.5555555555555556,\"#d8576b\"],[0.6666666666666666,\"#ed7953\"],[0.7777777777777778,\"#fb9f3a\"],[0.8888888888888888,\"#fdca26\"],[1.0,\"#f0f921\"]],\"type\":\"histogram2dcontour\"}],\"mesh3d\":[{\"colorbar\":{\"outlinewidth\":0,\"ticks\":\"\"},\"type\":\"mesh3d\"}],\"parcoords\":[{\"line\":{\"colorbar\":{\"outlinewidth\":0,\"ticks\":\"\"}},\"type\":\"parcoords\"}],\"pie\":[{\"automargin\":true,\"type\":\"pie\"}],\"scatter\":[{\"marker\":{\"colorbar\":{\"outlinewidth\":0,\"ticks\":\"\"}},\"type\":\"scatter\"}],\"scatter3d\":[{\"line\":{\"colorbar\":{\"outlinewidth\":0,\"ticks\":\"\"}},\"marker\":{\"colorbar\":{\"outlinewidth\":0,\"ticks\":\"\"}},\"type\":\"scatter3d\"}],\"scattercarpet\":[{\"marker\":{\"colorbar\":{\"outlinewidth\":0,\"ticks\":\"\"}},\"type\":\"scattercarpet\"}],\"scattergeo\":[{\"marker\":{\"colorbar\":{\"outlinewidth\":0,\"ticks\":\"\"}},\"type\":\"scattergeo\"}],\"scattergl\":[{\"marker\":{\"colorbar\":{\"outlinewidth\":0,\"ticks\":\"\"}},\"type\":\"scattergl\"}],\"scattermapbox\":[{\"marker\":{\"colorbar\":{\"outlinewidth\":0,\"ticks\":\"\"}},\"type\":\"scattermapbox\"}],\"scatterpolar\":[{\"marker\":{\"colorbar\":{\"outlinewidth\":0,\"ticks\":\"\"}},\"type\":\"scatterpolar\"}],\"scatterpolargl\":[{\"marker\":{\"colorbar\":{\"outlinewidth\":0,\"ticks\":\"\"}},\"type\":\"scatterpolargl\"}],\"scatterternary\":[{\"marker\":{\"colorbar\":{\"outlinewidth\":0,\"ticks\":\"\"}},\"type\":\"scatterternary\"}],\"surface\":[{\"colorbar\":{\"outlinewidth\":0,\"ticks\":\"\"},\"colorscale\":[[0.0,\"#0d0887\"],[0.1111111111111111,\"#46039f\"],[0.2222222222222222,\"#7201a8\"],[0.3333333333333333,\"#9c179e\"],[0.4444444444444444,\"#bd3786\"],[0.5555555555555556,\"#d8576b\"],[0.6666666666666666,\"#ed7953\"],[0.7777777777777778,\"#fb9f3a\"],[0.8888888888888888,\"#fdca26\"],[1.0,\"#f0f921\"]],\"type\":\"surface\"}],\"table\":[{\"cells\":{\"fill\":{\"color\":\"#EBF0F8\"},\"line\":{\"color\":\"white\"}},\"header\":{\"fill\":{\"color\":\"#C8D4E3\"},\"line\":{\"color\":\"white\"}},\"type\":\"table\"}]},\"layout\":{\"annotationdefaults\":{\"arrowcolor\":\"#2a3f5f\",\"arrowhead\":0,\"arrowwidth\":1},\"autotypenumbers\":\"strict\",\"coloraxis\":{\"colorbar\":{\"outlinewidth\":0,\"ticks\":\"\"}},\"colorscale\":{\"diverging\":[[0,\"#8e0152\"],[0.1,\"#c51b7d\"],[0.2,\"#de77ae\"],[0.3,\"#f1b6da\"],[0.4,\"#fde0ef\"],[0.5,\"#f7f7f7\"],[0.6,\"#e6f5d0\"],[0.7,\"#b8e186\"],[0.8,\"#7fbc41\"],[0.9,\"#4d9221\"],[1,\"#276419\"]],\"sequential\":[[0.0,\"#0d0887\"],[0.1111111111111111,\"#46039f\"],[0.2222222222222222,\"#7201a8\"],[0.3333333333333333,\"#9c179e\"],[0.4444444444444444,\"#bd3786\"],[0.5555555555555556,\"#d8576b\"],[0.6666666666666666,\"#ed7953\"],[0.7777777777777778,\"#fb9f3a\"],[0.8888888888888888,\"#fdca26\"],[1.0,\"#f0f921\"]],\"sequentialminus\":[[0.0,\"#0d0887\"],[0.1111111111111111,\"#46039f\"],[0.2222222222222222,\"#7201a8\"],[0.3333333333333333,\"#9c179e\"],[0.4444444444444444,\"#bd3786\"],[0.5555555555555556,\"#d8576b\"],[0.6666666666666666,\"#ed7953\"],[0.7777777777777778,\"#fb9f3a\"],[0.8888888888888888,\"#fdca26\"],[1.0,\"#f0f921\"]]},\"colorway\":[\"#636efa\",\"#EF553B\",\"#00cc96\",\"#ab63fa\",\"#FFA15A\",\"#19d3f3\",\"#FF6692\",\"#B6E880\",\"#FF97FF\",\"#FECB52\"],\"font\":{\"color\":\"#2a3f5f\"},\"geo\":{\"bgcolor\":\"white\",\"lakecolor\":\"white\",\"landcolor\":\"#E5ECF6\",\"showlakes\":true,\"showland\":true,\"subunitcolor\":\"white\"},\"hoverlabel\":{\"align\":\"left\"},\"hovermode\":\"closest\",\"mapbox\":{\"style\":\"light\"},\"paper_bgcolor\":\"white\",\"plot_bgcolor\":\"#E5ECF6\",\"polar\":{\"angularaxis\":{\"gridcolor\":\"white\",\"linecolor\":\"white\",\"ticks\":\"\"},\"bgcolor\":\"#E5ECF6\",\"radialaxis\":{\"gridcolor\":\"white\",\"linecolor\":\"white\",\"ticks\":\"\"}},\"scene\":{\"xaxis\":{\"backgroundcolor\":\"#E5ECF6\",\"gridcolor\":\"white\",\"gridwidth\":2,\"linecolor\":\"white\",\"showbackground\":true,\"ticks\":\"\",\"zerolinecolor\":\"white\"},\"yaxis\":{\"backgroundcolor\":\"#E5ECF6\",\"gridcolor\":\"white\",\"gridwidth\":2,\"linecolor\":\"white\",\"showbackground\":true,\"ticks\":\"\",\"zerolinecolor\":\"white\"},\"zaxis\":{\"backgroundcolor\":\"#E5ECF6\",\"gridcolor\":\"white\",\"gridwidth\":2,\"linecolor\":\"white\",\"showbackground\":true,\"ticks\":\"\",\"zerolinecolor\":\"white\"}},\"shapedefaults\":{\"line\":{\"color\":\"#2a3f5f\"}},\"ternary\":{\"aaxis\":{\"gridcolor\":\"white\",\"linecolor\":\"white\",\"ticks\":\"\"},\"baxis\":{\"gridcolor\":\"white\",\"linecolor\":\"white\",\"ticks\":\"\"},\"bgcolor\":\"#E5ECF6\",\"caxis\":{\"gridcolor\":\"white\",\"linecolor\":\"white\",\"ticks\":\"\"}},\"title\":{\"x\":0.05},\"xaxis\":{\"automargin\":true,\"gridcolor\":\"white\",\"linecolor\":\"white\",\"ticks\":\"\",\"title\":{\"standoff\":15},\"zerolinecolor\":\"white\",\"zerolinewidth\":2},\"yaxis\":{\"automargin\":true,\"gridcolor\":\"white\",\"linecolor\":\"white\",\"ticks\":\"\",\"title\":{\"standoff\":15},\"zerolinecolor\":\"white\",\"zerolinewidth\":2}}},\"xaxis\":{\"anchor\":\"y\",\"domain\":[0.0,1.0]},\"yaxis\":{\"anchor\":\"x\",\"domain\":[0.8583333333333333,1.0]},\"xaxis2\":{\"anchor\":\"y2\",\"domain\":[0.0,1.0]},\"yaxis2\":{\"anchor\":\"x2\",\"domain\":[0.6866666666666666,0.8283333333333334]},\"xaxis3\":{\"anchor\":\"y3\",\"domain\":[0.0,1.0]},\"yaxis3\":{\"anchor\":\"x3\",\"domain\":[0.515,0.6566666666666667]},\"xaxis4\":{\"anchor\":\"y4\",\"domain\":[0.0,1.0]},\"yaxis4\":{\"anchor\":\"x4\",\"domain\":[0.3433333333333333,0.485]},\"xaxis5\":{\"anchor\":\"y5\",\"domain\":[0.0,1.0]},\"yaxis5\":{\"anchor\":\"x5\",\"domain\":[0.17166666666666666,0.31333333333333335]},\"xaxis6\":{\"anchor\":\"y6\",\"domain\":[0.0,1.0]},\"yaxis6\":{\"anchor\":\"x6\",\"domain\":[0.0,0.14166666666666666]},\"annotations\":[{\"font\":{\"size\":16},\"showarrow\":false,\"text\":\"TSNE 2D iris\",\"x\":0.5,\"xanchor\":\"center\",\"xref\":\"paper\",\"y\":1.0,\"yanchor\":\"bottom\",\"yref\":\"paper\"},{\"font\":{\"size\":16},\"showarrow\":false,\"text\":\"sepal_length\",\"x\":0.5,\"xanchor\":\"center\",\"xref\":\"paper\",\"y\":0.8283333333333334,\"yanchor\":\"bottom\",\"yref\":\"paper\"},{\"font\":{\"size\":16},\"showarrow\":false,\"text\":\"sepal_width\",\"x\":0.5,\"xanchor\":\"center\",\"xref\":\"paper\",\"y\":0.6566666666666667,\"yanchor\":\"bottom\",\"yref\":\"paper\"},{\"font\":{\"size\":16},\"showarrow\":false,\"text\":\"petal_length\",\"x\":0.5,\"xanchor\":\"center\",\"xref\":\"paper\",\"y\":0.485,\"yanchor\":\"bottom\",\"yref\":\"paper\"},{\"font\":{\"size\":16},\"showarrow\":false,\"text\":\"petal_width\",\"x\":0.5,\"xanchor\":\"center\",\"xref\":\"paper\",\"y\":0.31333333333333335,\"yanchor\":\"bottom\",\"yref\":\"paper\"},{\"font\":{\"size\":16},\"showarrow\":false,\"text\":\"random_1\",\"x\":0.5,\"xanchor\":\"center\",\"xref\":\"paper\",\"y\":0.14166666666666666,\"yanchor\":\"bottom\",\"yref\":\"paper\"}],\"height\":2400,\"width\":1300,\"barmode\":\"overlay\"},                        {\"responsive\": true}                    ).then(function(){\n",
              "                            \n",
              "var gd = document.getElementById('78e62c15-952e-43c9-a10e-1f8d1e57a68e');\n",
              "var x = new MutationObserver(function (mutations, observer) {{\n",
              "        var display = window.getComputedStyle(gd).display;\n",
              "        if (!display || display === 'none') {{\n",
              "            console.log([gd, 'removed!']);\n",
              "            Plotly.purge(gd);\n",
              "            observer.disconnect();\n",
              "        }}\n",
              "}});\n",
              "\n",
              "// Listen for the removal of the full notebook cells\n",
              "var notebookContainer = gd.closest('#notebook-container');\n",
              "if (notebookContainer) {{\n",
              "    x.observe(notebookContainer, {childList: true});\n",
              "}}\n",
              "\n",
              "// Listen for the clearing of the current output cell\n",
              "var outputEl = gd.closest('.output');\n",
              "if (outputEl) {{\n",
              "    x.observe(outputEl, {childList: true});\n",
              "}}\n",
              "\n",
              "                        })                };                            </script>        </div>\n",
              "</body>\n",
              "</html>"
            ]
          },
          "metadata": {}
        }
      ]
    },
    {
      "cell_type": "code",
      "source": [
        "fig = px.scatter_matrix(\n",
        "    iris,\n",
        "    dimensions=iris.columns[~iris.columns.isin(['species',\t'species_id'])],\n",
        "    color=\"species\", \n",
        "    symbol=\"species\",\n",
        "    title=\"Scatter matrix of iris data set\",\n",
        "    labels={col:col.replace('_', ' ') for col in iris.columns},\n",
        "    width=1300,\n",
        "    height=1000\n",
        ")\n",
        "fig.show()"
      ],
      "metadata": {
        "id": "u4AP3Yp5s9BS"
      },
      "execution_count": null,
      "outputs": []
    },
    {
      "cell_type": "code",
      "source": [
        "iris_tsne"
      ],
      "metadata": {
        "id": "BLPblorts9IE",
        "outputId": "fcb31b3e-b4f2-4a41-f051-91925c0247ff",
        "colab": {
          "base_uri": "https://localhost:8080/",
          "height": 424
        }
      },
      "execution_count": 42,
      "outputs": [
        {
          "output_type": "execute_result",
          "data": {
            "text/plain": [
              "           x_1       x_2  sepal_length  sepal_width  petal_length  \\\n",
              "0   -34.769459  1.978231           5.1          3.5           1.4   \n",
              "1   -25.801302  0.674600           4.9          3.0           1.4   \n",
              "2   -35.012264  3.380640           4.7          3.2           1.3   \n",
              "3   -25.919237  1.184785           4.6          3.1           1.5   \n",
              "4   -29.418854  0.850530           5.0          3.6           1.4   \n",
              "..         ...       ...           ...          ...           ...   \n",
              "145   5.776468 -4.825747           6.7          3.0           5.2   \n",
              "146  12.653972 -0.291859           6.3          2.5           5.0   \n",
              "147   6.234777 -4.266621           6.5          3.0           5.2   \n",
              "148  10.742510 -4.928128           6.2          3.4           5.4   \n",
              "149  13.075123  2.297551           5.9          3.0           5.1   \n",
              "\n",
              "     petal_width  random_1  cluster    species  \n",
              "0            0.2       1.5        1     setosa  \n",
              "1            0.2       4.0        1     setosa  \n",
              "2            0.2       1.8        1     setosa  \n",
              "3            0.2       3.9        1     setosa  \n",
              "4            0.2       2.8        1     setosa  \n",
              "..           ...       ...      ...        ...  \n",
              "145          2.3       4.3        2  virginica  \n",
              "146          1.9       2.3        0  virginica  \n",
              "147          2.0       4.0        2  virginica  \n",
              "148          2.3       3.0        2  virginica  \n",
              "149          1.8       1.8        0  virginica  \n",
              "\n",
              "[150 rows x 9 columns]"
            ],
            "text/html": [
              "\n",
              "  <div id=\"df-b8ae622c-b59b-41b2-9f81-023b20e79dea\">\n",
              "    <div class=\"colab-df-container\">\n",
              "      <div>\n",
              "<style scoped>\n",
              "    .dataframe tbody tr th:only-of-type {\n",
              "        vertical-align: middle;\n",
              "    }\n",
              "\n",
              "    .dataframe tbody tr th {\n",
              "        vertical-align: top;\n",
              "    }\n",
              "\n",
              "    .dataframe thead th {\n",
              "        text-align: right;\n",
              "    }\n",
              "</style>\n",
              "<table border=\"1\" class=\"dataframe\">\n",
              "  <thead>\n",
              "    <tr style=\"text-align: right;\">\n",
              "      <th></th>\n",
              "      <th>x_1</th>\n",
              "      <th>x_2</th>\n",
              "      <th>sepal_length</th>\n",
              "      <th>sepal_width</th>\n",
              "      <th>petal_length</th>\n",
              "      <th>petal_width</th>\n",
              "      <th>random_1</th>\n",
              "      <th>cluster</th>\n",
              "      <th>species</th>\n",
              "    </tr>\n",
              "  </thead>\n",
              "  <tbody>\n",
              "    <tr>\n",
              "      <th>0</th>\n",
              "      <td>-34.769459</td>\n",
              "      <td>1.978231</td>\n",
              "      <td>5.1</td>\n",
              "      <td>3.5</td>\n",
              "      <td>1.4</td>\n",
              "      <td>0.2</td>\n",
              "      <td>1.5</td>\n",
              "      <td>1</td>\n",
              "      <td>setosa</td>\n",
              "    </tr>\n",
              "    <tr>\n",
              "      <th>1</th>\n",
              "      <td>-25.801302</td>\n",
              "      <td>0.674600</td>\n",
              "      <td>4.9</td>\n",
              "      <td>3.0</td>\n",
              "      <td>1.4</td>\n",
              "      <td>0.2</td>\n",
              "      <td>4.0</td>\n",
              "      <td>1</td>\n",
              "      <td>setosa</td>\n",
              "    </tr>\n",
              "    <tr>\n",
              "      <th>2</th>\n",
              "      <td>-35.012264</td>\n",
              "      <td>3.380640</td>\n",
              "      <td>4.7</td>\n",
              "      <td>3.2</td>\n",
              "      <td>1.3</td>\n",
              "      <td>0.2</td>\n",
              "      <td>1.8</td>\n",
              "      <td>1</td>\n",
              "      <td>setosa</td>\n",
              "    </tr>\n",
              "    <tr>\n",
              "      <th>3</th>\n",
              "      <td>-25.919237</td>\n",
              "      <td>1.184785</td>\n",
              "      <td>4.6</td>\n",
              "      <td>3.1</td>\n",
              "      <td>1.5</td>\n",
              "      <td>0.2</td>\n",
              "      <td>3.9</td>\n",
              "      <td>1</td>\n",
              "      <td>setosa</td>\n",
              "    </tr>\n",
              "    <tr>\n",
              "      <th>4</th>\n",
              "      <td>-29.418854</td>\n",
              "      <td>0.850530</td>\n",
              "      <td>5.0</td>\n",
              "      <td>3.6</td>\n",
              "      <td>1.4</td>\n",
              "      <td>0.2</td>\n",
              "      <td>2.8</td>\n",
              "      <td>1</td>\n",
              "      <td>setosa</td>\n",
              "    </tr>\n",
              "    <tr>\n",
              "      <th>...</th>\n",
              "      <td>...</td>\n",
              "      <td>...</td>\n",
              "      <td>...</td>\n",
              "      <td>...</td>\n",
              "      <td>...</td>\n",
              "      <td>...</td>\n",
              "      <td>...</td>\n",
              "      <td>...</td>\n",
              "      <td>...</td>\n",
              "    </tr>\n",
              "    <tr>\n",
              "      <th>145</th>\n",
              "      <td>5.776468</td>\n",
              "      <td>-4.825747</td>\n",
              "      <td>6.7</td>\n",
              "      <td>3.0</td>\n",
              "      <td>5.2</td>\n",
              "      <td>2.3</td>\n",
              "      <td>4.3</td>\n",
              "      <td>2</td>\n",
              "      <td>virginica</td>\n",
              "    </tr>\n",
              "    <tr>\n",
              "      <th>146</th>\n",
              "      <td>12.653972</td>\n",
              "      <td>-0.291859</td>\n",
              "      <td>6.3</td>\n",
              "      <td>2.5</td>\n",
              "      <td>5.0</td>\n",
              "      <td>1.9</td>\n",
              "      <td>2.3</td>\n",
              "      <td>0</td>\n",
              "      <td>virginica</td>\n",
              "    </tr>\n",
              "    <tr>\n",
              "      <th>147</th>\n",
              "      <td>6.234777</td>\n",
              "      <td>-4.266621</td>\n",
              "      <td>6.5</td>\n",
              "      <td>3.0</td>\n",
              "      <td>5.2</td>\n",
              "      <td>2.0</td>\n",
              "      <td>4.0</td>\n",
              "      <td>2</td>\n",
              "      <td>virginica</td>\n",
              "    </tr>\n",
              "    <tr>\n",
              "      <th>148</th>\n",
              "      <td>10.742510</td>\n",
              "      <td>-4.928128</td>\n",
              "      <td>6.2</td>\n",
              "      <td>3.4</td>\n",
              "      <td>5.4</td>\n",
              "      <td>2.3</td>\n",
              "      <td>3.0</td>\n",
              "      <td>2</td>\n",
              "      <td>virginica</td>\n",
              "    </tr>\n",
              "    <tr>\n",
              "      <th>149</th>\n",
              "      <td>13.075123</td>\n",
              "      <td>2.297551</td>\n",
              "      <td>5.9</td>\n",
              "      <td>3.0</td>\n",
              "      <td>5.1</td>\n",
              "      <td>1.8</td>\n",
              "      <td>1.8</td>\n",
              "      <td>0</td>\n",
              "      <td>virginica</td>\n",
              "    </tr>\n",
              "  </tbody>\n",
              "</table>\n",
              "<p>150 rows × 9 columns</p>\n",
              "</div>\n",
              "      <button class=\"colab-df-convert\" onclick=\"convertToInteractive('df-b8ae622c-b59b-41b2-9f81-023b20e79dea')\"\n",
              "              title=\"Convert this dataframe to an interactive table.\"\n",
              "              style=\"display:none;\">\n",
              "        \n",
              "  <svg xmlns=\"http://www.w3.org/2000/svg\" height=\"24px\"viewBox=\"0 0 24 24\"\n",
              "       width=\"24px\">\n",
              "    <path d=\"M0 0h24v24H0V0z\" fill=\"none\"/>\n",
              "    <path d=\"M18.56 5.44l.94 2.06.94-2.06 2.06-.94-2.06-.94-.94-2.06-.94 2.06-2.06.94zm-11 1L8.5 8.5l.94-2.06 2.06-.94-2.06-.94L8.5 2.5l-.94 2.06-2.06.94zm10 10l.94 2.06.94-2.06 2.06-.94-2.06-.94-.94-2.06-.94 2.06-2.06.94z\"/><path d=\"M17.41 7.96l-1.37-1.37c-.4-.4-.92-.59-1.43-.59-.52 0-1.04.2-1.43.59L10.3 9.45l-7.72 7.72c-.78.78-.78 2.05 0 2.83L4 21.41c.39.39.9.59 1.41.59.51 0 1.02-.2 1.41-.59l7.78-7.78 2.81-2.81c.8-.78.8-2.07 0-2.86zM5.41 20L4 18.59l7.72-7.72 1.47 1.35L5.41 20z\"/>\n",
              "  </svg>\n",
              "      </button>\n",
              "      \n",
              "  <style>\n",
              "    .colab-df-container {\n",
              "      display:flex;\n",
              "      flex-wrap:wrap;\n",
              "      gap: 12px;\n",
              "    }\n",
              "\n",
              "    .colab-df-convert {\n",
              "      background-color: #E8F0FE;\n",
              "      border: none;\n",
              "      border-radius: 50%;\n",
              "      cursor: pointer;\n",
              "      display: none;\n",
              "      fill: #1967D2;\n",
              "      height: 32px;\n",
              "      padding: 0 0 0 0;\n",
              "      width: 32px;\n",
              "    }\n",
              "\n",
              "    .colab-df-convert:hover {\n",
              "      background-color: #E2EBFA;\n",
              "      box-shadow: 0px 1px 2px rgba(60, 64, 67, 0.3), 0px 1px 3px 1px rgba(60, 64, 67, 0.15);\n",
              "      fill: #174EA6;\n",
              "    }\n",
              "\n",
              "    [theme=dark] .colab-df-convert {\n",
              "      background-color: #3B4455;\n",
              "      fill: #D2E3FC;\n",
              "    }\n",
              "\n",
              "    [theme=dark] .colab-df-convert:hover {\n",
              "      background-color: #434B5C;\n",
              "      box-shadow: 0px 1px 3px 1px rgba(0, 0, 0, 0.15);\n",
              "      filter: drop-shadow(0px 1px 2px rgba(0, 0, 0, 0.3));\n",
              "      fill: #FFFFFF;\n",
              "    }\n",
              "  </style>\n",
              "\n",
              "      <script>\n",
              "        const buttonEl =\n",
              "          document.querySelector('#df-b8ae622c-b59b-41b2-9f81-023b20e79dea button.colab-df-convert');\n",
              "        buttonEl.style.display =\n",
              "          google.colab.kernel.accessAllowed ? 'block' : 'none';\n",
              "\n",
              "        async function convertToInteractive(key) {\n",
              "          const element = document.querySelector('#df-b8ae622c-b59b-41b2-9f81-023b20e79dea');\n",
              "          const dataTable =\n",
              "            await google.colab.kernel.invokeFunction('convertToInteractive',\n",
              "                                                     [key], {});\n",
              "          if (!dataTable) return;\n",
              "\n",
              "          const docLinkHtml = 'Like what you see? Visit the ' +\n",
              "            '<a target=\"_blank\" href=https://colab.research.google.com/notebooks/data_table.ipynb>data table notebook</a>'\n",
              "            + ' to learn more about interactive tables.';\n",
              "          element.innerHTML = '';\n",
              "          dataTable['output_type'] = 'display_data';\n",
              "          await google.colab.output.renderOutput(dataTable, element);\n",
              "          const docLink = document.createElement('div');\n",
              "          docLink.innerHTML = docLinkHtml;\n",
              "          element.appendChild(docLink);\n",
              "        }\n",
              "      </script>\n",
              "    </div>\n",
              "  </div>\n",
              "  "
            ]
          },
          "metadata": {},
          "execution_count": 42
        }
      ]
    },
    {
      "cell_type": "code",
      "source": [
        "#from scipy.stats import spearmanr\n",
        "\n",
        "def corr_plot(df1: pd.DataFrame, df2: pd.DataFrame, targets: pd.Series, clusters: pd.Series):\n",
        "  fig = make_subplots(\n",
        "    rows=df1.shape[1],\n",
        "    cols=df2.shape[1],\n",
        "    vertical_spacing = 0.03,\n",
        "    horizontal_spacing = 0.03,\n",
        "  )\n",
        "  for i, col1 in enumerate(df1.columns, start=1):\n",
        "    for j, col2 in enumerate(df2.columns, start=1): \n",
        "      for c, cluster_name in enumerate(clusters.unique()):\n",
        "        for t, label in enumerate(targets.unique()):\n",
        "          mask = (clusters == cluster_name) & (targets == label)\n",
        "          fig.append_trace(\n",
        "              go.Scatter(\n",
        "                  x=df1.loc[mask, col1],\n",
        "                  y=df2.loc[mask, col2],\n",
        "                  mode=\"markers\",\n",
        "                  marker={\n",
        "                    \"color\": colors[c],\n",
        "                    \"symbol\": symbols[t]\n",
        "                  },\n",
        "              ),\n",
        "              row=i,\n",
        "              col=j\n",
        "          )\n",
        "  fig.update_layout(height=300 * df1.shape[1], width=1300)\n",
        "  fig.show()\n",
        "\n",
        "\n",
        "corr_plot(\n",
        "    iris_tsne[[\"sepal_length\",\t\"sepal_width\", \"random_1\"]],\n",
        "    iris_tsne[[\"x_1\", \"x_2\"]],\n",
        "    iris_tsne.species,\n",
        "    iris_tsne.cluster\n",
        ")"
      ],
      "metadata": {
        "id": "ywxmO8r-rEba",
        "outputId": "2ba1af3b-7efb-42c7-aa28-a8ab30a31042",
        "colab": {
          "base_uri": "https://localhost:8080/",
          "height": 1000
        }
      },
      "execution_count": 51,
      "outputs": [
        {
          "output_type": "stream",
          "name": "stdout",
          "text": [
            "sepal_length x_1 1 setosa\n",
            "sepal_length x_1 1 versicolor\n",
            "sepal_length x_1 1 virginica\n",
            "sepal_length x_1 2 setosa\n",
            "sepal_length x_1 2 versicolor\n",
            "sepal_length x_1 2 virginica\n",
            "sepal_length x_1 0 setosa\n",
            "sepal_length x_1 0 versicolor\n",
            "sepal_length x_1 0 virginica\n",
            "sepal_length x_2 1 setosa\n",
            "sepal_length x_2 1 versicolor\n",
            "sepal_length x_2 1 virginica\n",
            "sepal_length x_2 2 setosa\n",
            "sepal_length x_2 2 versicolor\n",
            "sepal_length x_2 2 virginica\n",
            "sepal_length x_2 0 setosa\n",
            "sepal_length x_2 0 versicolor\n",
            "sepal_length x_2 0 virginica\n",
            "sepal_width x_1 1 setosa\n",
            "sepal_width x_1 1 versicolor\n",
            "sepal_width x_1 1 virginica\n",
            "sepal_width x_1 2 setosa\n",
            "sepal_width x_1 2 versicolor\n",
            "sepal_width x_1 2 virginica\n",
            "sepal_width x_1 0 setosa\n",
            "sepal_width x_1 0 versicolor\n",
            "sepal_width x_1 0 virginica\n",
            "sepal_width x_2 1 setosa\n",
            "sepal_width x_2 1 versicolor\n",
            "sepal_width x_2 1 virginica\n",
            "sepal_width x_2 2 setosa\n",
            "sepal_width x_2 2 versicolor\n",
            "sepal_width x_2 2 virginica\n",
            "sepal_width x_2 0 setosa\n",
            "sepal_width x_2 0 versicolor\n",
            "sepal_width x_2 0 virginica\n",
            "random_1 x_1 1 setosa\n",
            "random_1 x_1 1 versicolor\n",
            "random_1 x_1 1 virginica\n",
            "random_1 x_1 2 setosa\n",
            "random_1 x_1 2 versicolor\n",
            "random_1 x_1 2 virginica\n",
            "random_1 x_1 0 setosa\n",
            "random_1 x_1 0 versicolor\n",
            "random_1 x_1 0 virginica\n",
            "random_1 x_2 1 setosa\n",
            "random_1 x_2 1 versicolor\n",
            "random_1 x_2 1 virginica\n",
            "random_1 x_2 2 setosa\n",
            "random_1 x_2 2 versicolor\n",
            "random_1 x_2 2 virginica\n",
            "random_1 x_2 0 setosa\n",
            "random_1 x_2 0 versicolor\n",
            "random_1 x_2 0 virginica\n"
          ]
        },
        {
          "output_type": "display_data",
          "data": {
            "text/html": [
              "<html>\n",
              "<head><meta charset=\"utf-8\" /></head>\n",
              "<body>\n",
              "    <div>            <script src=\"https://cdnjs.cloudflare.com/ajax/libs/mathjax/2.7.5/MathJax.js?config=TeX-AMS-MML_SVG\"></script><script type=\"text/javascript\">if (window.MathJax) {MathJax.Hub.Config({SVG: {font: \"STIX-Web\"}});}</script>                <script type=\"text/javascript\">window.PlotlyConfig = {MathJaxConfig: 'local'};</script>\n",
              "        <script src=\"https://cdn.plot.ly/plotly-2.8.3.min.js\"></script>                <div id=\"f9d16a09-b52a-443c-93ae-a7f7c106be40\" class=\"plotly-graph-div\" style=\"height:900px; width:1300px;\"></div>            <script type=\"text/javascript\">                                    window.PLOTLYENV=window.PLOTLYENV || {};                                    if (document.getElementById(\"f9d16a09-b52a-443c-93ae-a7f7c106be40\")) {                    Plotly.newPlot(                        \"f9d16a09-b52a-443c-93ae-a7f7c106be40\",                        [{\"marker\":{\"color\":\"#AB63FA\",\"symbol\":\"circle\"},\"mode\":\"markers\",\"x\":[5.1,4.9,4.7,4.6,5.0,5.4,4.6,5.0,4.4,4.9,5.4,4.8,4.8,4.3,5.8,5.7,5.4,5.1,5.7,5.1,5.4,5.1,4.6,5.1,4.8,5.0,5.0,5.2,5.2,4.7,4.8,5.4,5.2,5.5,4.9,5.0,5.5,4.9,4.4,5.1,5.0,4.5,4.4,5.0,5.1,4.8,5.1,4.6,5.3,5.0],\"y\":[-34.76945877075195,-25.801301956176758,-35.012264251708984,-25.91923713684082,-29.418853759765625,-34.972190856933594,-38.46078109741211,-38.6751708984375,-26.33692169189453,-26.77630043029785,-27.179183959960938,-26.240222930908203,-39.29716873168945,-36.22127914428711,-27.440113067626953,-33.09178924560547,-31.031030654907227,-37.0986213684082,-33.571529388427734,-31.23456573486328,-30.061946868896484,-34.58769607543945,-36.11408233642578,-27.713228225708008,-36.37185287475586,-27.235816955566406,-31.782638549804688,-32.9682731628418,-33.7666130065918,-30.196916580200195,-24.89792251586914,-29.68397331237793,-28.0044002532959,-32.2863883972168,-38.26734924316406,-26.949481964111328,-32.24144744873047,-31.15902328491211,-35.70889663696289,-37.9740104675293,-31.38579559326172,-25.202274322509766,-37.482181549072266,-30.988927841186523,-36.179988861083984,-39.15074157714844,-38.39537048339844,-37.79960250854492,-35.206363677978516,-39.16396713256836],\"type\":\"scatter\",\"xaxis\":\"x\",\"yaxis\":\"y\"},{\"marker\":{\"color\":\"#AB63FA\",\"symbol\":\"square\"},\"mode\":\"markers\",\"x\":[],\"y\":[],\"type\":\"scatter\",\"xaxis\":\"x\",\"yaxis\":\"y\"},{\"marker\":{\"color\":\"#AB63FA\",\"symbol\":\"diamond\"},\"mode\":\"markers\",\"x\":[],\"y\":[],\"type\":\"scatter\",\"xaxis\":\"x\",\"yaxis\":\"y\"},{\"marker\":{\"color\":\"#FFA15A\",\"symbol\":\"circle\"},\"mode\":\"markers\",\"x\":[],\"y\":[],\"type\":\"scatter\",\"xaxis\":\"x\",\"yaxis\":\"y\"},{\"marker\":{\"color\":\"#FFA15A\",\"symbol\":\"square\"},\"mode\":\"markers\",\"x\":[7.0,6.4,6.9,5.5,6.3,4.9,5.2,5.9,6.1,5.6,5.6,6.2,5.9,6.1,6.4,6.7,5.7,5.5,5.8,6.1,5.8,5.0,5.7,6.2,5.1,5.7],\"y\":[4.014222621917725,8.775982856750488,4.242965221405029,3.4306201934814453,7.348371982574463,3.235743522644043,6.563713073730469,7.618572235107422,3.855525255203247,2.934771776199341,5.353788375854492,3.440448522567749,6.89024543762207,8.094673156738281,7.743357181549072,7.349643230438232,4.80417013168335,6.095212936401367,7.15225076675415,5.923835754394531,5.190525531768799,4.796754837036133,6.006209850311279,6.141338348388672,4.547287464141846,6.649055480957031],\"type\":\"scatter\",\"xaxis\":\"x\",\"yaxis\":\"y\"},{\"marker\":{\"color\":\"#FFA15A\",\"symbol\":\"diamond\"},\"mode\":\"markers\",\"x\":[6.3,7.1,6.3,7.6,7.3,6.7,6.5,6.4,5.7,5.8,6.5,7.7,7.7,6.0,7.7,7.2,7.2,7.9,6.1,6.3,6.4,6.0,6.7,6.5,6.2],\"y\":[10.165868759155273,12.414013862609863,10.586454391479492,7.95958948135376,7.655981063842773,12.0018310546875,5.242469787597656,10.885683059692383,5.333797931671143,5.214205741882324,11.213189125061035,9.728404998779297,7.284785747528076,8.637451171875,7.611509323120117,9.50614070892334,6.9162116050720215,9.239571571350098,8.472759246826172,11.10873031616211,9.985489845275879,7.053031921386719,5.776467800140381,6.234777450561523,10.742509841918945],\"type\":\"scatter\",\"xaxis\":\"x\",\"yaxis\":\"y\"},{\"marker\":{\"color\":\"#19D3F3\",\"symbol\":\"circle\"},\"mode\":\"markers\",\"x\":[],\"y\":[],\"type\":\"scatter\",\"xaxis\":\"x\",\"yaxis\":\"y\"},{\"marker\":{\"color\":\"#19D3F3\",\"symbol\":\"square\"},\"mode\":\"markers\",\"x\":[6.5,5.7,6.6,5.0,6.0,6.7,5.8,5.6,6.1,6.3,6.6,6.8,6.0,5.5,6.0,5.4,6.0,6.7,6.3,5.6,5.5,5.5,5.6,5.7],\"y\":[14.334962844848633,11.903448104858398,14.409183502197266,14.431199073791504,15.771817207336426,15.718387603759766,12.745941162109375,13.349251747131348,9.622401237487793,13.360259056091309,17.118478775024414,14.551738739013672,16.844989776611328,13.74179458618164,13.027938842773438,11.59333610534668,16.530410766601562,16.094852447509766,17.13031005859375,14.497734069824219,15.143709182739258,11.196189880371094,13.723736763000488,14.863064765930176],\"type\":\"scatter\",\"xaxis\":\"x\",\"yaxis\":\"y\"},{\"marker\":{\"color\":\"#19D3F3\",\"symbol\":\"diamond\"},\"mode\":\"markers\",\"x\":[5.8,6.5,4.9,7.2,6.8,6.4,6.9,5.6,6.3,6.7,6.2,6.1,6.4,7.4,6.4,6.3,7.7,6.9,6.7,6.9,5.8,6.8,6.7,6.3,5.9],\"y\":[11.218035697937012,16.10679817199707,16.085220336914062,17.632226943969727,18.386980056762695,14.442492485046387,14.50839614868164,14.449069023132324,14.680173873901367,18.17606544494629,17.4842529296875,13.728838920593262,13.542242050170898,14.799988746643066,13.896896362304688,13.09866714477539,17.107738494873047,18.147918701171875,13.496840476989746,15.071805953979492,12.044949531555176,15.151666641235352,17.551897048950195,12.653971672058105,13.075122833251953],\"type\":\"scatter\",\"xaxis\":\"x\",\"yaxis\":\"y\"},{\"marker\":{\"color\":\"#AB63FA\",\"symbol\":\"circle\"},\"mode\":\"markers\",\"x\":[5.1,4.9,4.7,4.6,5.0,5.4,4.6,5.0,4.4,4.9,5.4,4.8,4.8,4.3,5.8,5.7,5.4,5.1,5.7,5.1,5.4,5.1,4.6,5.1,4.8,5.0,5.0,5.2,5.2,4.7,4.8,5.4,5.2,5.5,4.9,5.0,5.5,4.9,4.4,5.1,5.0,4.5,4.4,5.0,5.1,4.8,5.1,4.6,5.3,5.0],\"y\":[1.9782309532165527,0.6746001243591309,3.3806400299072266,1.1847847700119019,0.8505303263664246,0.6098247766494751,2.1525468826293945,0.7125798463821411,1.9917235374450684,1.1853677034378052,-0.34930944442749023,0.16002978384494781,1.6219017505645752,4.044059753417969,-1.0704758167266846,3.5246715545654297,2.6276087760925293,1.1164549589157104,2.525304079055786,1.9848382472991943,1.5917704105377197,1.4439189434051514,3.0002267360687256,0.8413803577423096,1.556354284286499,1.5108177661895752,0.8054112195968628,1.385806918144226,1.5475457906723022,0.21151374280452728,0.3187219798564911,1.6853941679000854,-0.43691012263298035,3.16678524017334,1.5343297719955444,0.637306272983551,1.9677637815475464,0.1307530403137207,4.015730857849121,0.7911084890365601,1.3075525760650635,1.6901565790176392,3.0304672718048096,1.0699782371520996,0.537964940071106,2.152331829071045,-0.06239163503050804,2.3214643001556396,1.269839882850647,0.9059963226318359],\"type\":\"scatter\",\"xaxis\":\"x2\",\"yaxis\":\"y2\"},{\"marker\":{\"color\":\"#AB63FA\",\"symbol\":\"square\"},\"mode\":\"markers\",\"x\":[],\"y\":[],\"type\":\"scatter\",\"xaxis\":\"x2\",\"yaxis\":\"y2\"},{\"marker\":{\"color\":\"#AB63FA\",\"symbol\":\"diamond\"},\"mode\":\"markers\",\"x\":[],\"y\":[],\"type\":\"scatter\",\"xaxis\":\"x2\",\"yaxis\":\"y2\"},{\"marker\":{\"color\":\"#FFA15A\",\"symbol\":\"circle\"},\"mode\":\"markers\",\"x\":[],\"y\":[],\"type\":\"scatter\",\"xaxis\":\"x2\",\"yaxis\":\"y2\"},{\"marker\":{\"color\":\"#FFA15A\",\"symbol\":\"square\"},\"mode\":\"markers\",\"x\":[7.0,6.4,6.9,5.5,6.3,4.9,5.2,5.9,6.1,5.6,5.6,6.2,5.9,6.1,6.4,6.7,5.7,5.5,5.8,6.1,5.8,5.0,5.7,6.2,5.1,5.7],\"y\":[-4.641530513763428,1.1262673139572144,-4.683850288391113,-0.06226806715130806,-0.7810777425765991,1.3686103820800781,3.717709541320801,2.122976303100586,-2.9967575073242188,-0.04167281836271286,-0.46485769748687744,-2.255537271499634,-1.3727614879608154,0.6745356917381287,1.0752087831497192,-3.2673890590667725,2.3320229053497314,3.895268440246582,3.169539213180542,-0.8906552791595459,1.2989015579223633,3.589221715927124,1.1899073123931885,0.16328121721744537,3.5967698097229004,2.3201568126678467],\"type\":\"scatter\",\"xaxis\":\"x2\",\"yaxis\":\"y2\"},{\"marker\":{\"color\":\"#FFA15A\",\"symbol\":\"diamond\"},\"mode\":\"markers\",\"x\":[6.3,7.1,6.3,7.6,7.3,6.7,6.5,6.4,5.7,5.8,6.5,7.7,7.7,6.0,7.7,7.2,7.2,7.9,6.1,6.3,6.4,6.0,6.7,6.5,6.2],\"y\":[-5.66486120223999,-5.563965797424316,-3.6322104930877686,-8.127008438110352,-7.469466686248779,-3.9460020065307617,-4.514206886291504,-2.932971477508545,-2.6403379440307617,-3.314539909362793,-3.631505250930786,-8.34316635131836,-8.579639434814453,-1.8464370965957642,-8.253263473510742,-7.007900238037109,-6.883189678192139,-8.303488731384277,-3.108177900314331,-5.171982765197754,-3.9322450160980225,-1.515783667564392,-4.825747013092041,-4.266621112823486,-4.928127765655518],\"type\":\"scatter\",\"xaxis\":\"x2\",\"yaxis\":\"y2\"},{\"marker\":{\"color\":\"#19D3F3\",\"symbol\":\"circle\"},\"mode\":\"markers\",\"x\":[],\"y\":[],\"type\":\"scatter\",\"xaxis\":\"x2\",\"yaxis\":\"y2\"},{\"marker\":{\"color\":\"#19D3F3\",\"symbol\":\"square\"},\"mode\":\"markers\",\"x\":[6.5,5.7,6.6,5.0,6.0,6.7,5.8,5.6,6.1,6.3,6.6,6.8,6.0,5.5,6.0,5.4,6.0,6.7,6.3,5.6,5.5,5.5,5.6,5.7],\"y\":[1.1577520370483398,4.69326639175415,0.6898844838142395,7.979663372039795,6.657754898071289,2.0287561416625977,6.022262096405029,6.72208833694458,3.9016780853271484,0.9320801496505737,4.490322589874268,0.4461960792541504,5.487785339355469,7.114231109619141,1.7830777168273926,4.3970136642456055,4.908376693725586,2.5713655948638916,6.132036209106445,6.157508373260498,7.025099277496338,4.944335460662842,6.0136590003967285,6.005072593688965],\"type\":\"scatter\",\"xaxis\":\"x2\",\"yaxis\":\"y2\"},{\"marker\":{\"color\":\"#19D3F3\",\"symbol\":\"diamond\"},\"mode\":\"markers\",\"x\":[5.8,6.5,4.9,7.2,6.8,6.4,6.9,5.6,6.3,6.7,6.2,6.1,6.4,7.4,6.4,6.3,7.7,6.9,6.7,6.9,5.8,6.8,6.7,6.3,5.9],\"y\":[-0.6797329783439636,-2.905392646789551,7.668055057525635,-3.0154356956481934,-0.8049881458282471,-2.8407604694366455,-4.141433238983154,3.8725595474243164,2.74452805519104,-1.4635645151138306,5.0140156745910645,2.364332914352417,-2.977773904800415,-5.3109450340271,-3.0371155738830566,0.19033533334732056,-3.9494857788085938,-0.8481847643852234,-4.282032489776611,-2.744612693786621,0.630505383014679,-3.993302345275879,-2.167320728302002,-0.2918590009212494,2.297551393508911],\"type\":\"scatter\",\"xaxis\":\"x2\",\"yaxis\":\"y2\"},{\"marker\":{\"color\":\"#AB63FA\",\"symbol\":\"circle\"},\"mode\":\"markers\",\"x\":[3.5,3.0,3.2,3.1,3.6,3.9,3.4,3.4,2.9,3.1,3.7,3.4,3.0,3.0,4.0,4.4,3.9,3.5,3.8,3.8,3.4,3.7,3.6,3.3,3.4,3.0,3.4,3.5,3.4,3.2,3.1,3.4,4.1,4.2,3.1,3.2,3.5,3.1,3.0,3.4,3.5,2.3,3.2,3.5,3.8,3.0,3.8,3.2,3.7,3.3],\"y\":[-34.76945877075195,-25.801301956176758,-35.012264251708984,-25.91923713684082,-29.418853759765625,-34.972190856933594,-38.46078109741211,-38.6751708984375,-26.33692169189453,-26.77630043029785,-27.179183959960938,-26.240222930908203,-39.29716873168945,-36.22127914428711,-27.440113067626953,-33.09178924560547,-31.031030654907227,-37.0986213684082,-33.571529388427734,-31.23456573486328,-30.061946868896484,-34.58769607543945,-36.11408233642578,-27.713228225708008,-36.37185287475586,-27.235816955566406,-31.782638549804688,-32.9682731628418,-33.7666130065918,-30.196916580200195,-24.89792251586914,-29.68397331237793,-28.0044002532959,-32.2863883972168,-38.26734924316406,-26.949481964111328,-32.24144744873047,-31.15902328491211,-35.70889663696289,-37.9740104675293,-31.38579559326172,-25.202274322509766,-37.482181549072266,-30.988927841186523,-36.179988861083984,-39.15074157714844,-38.39537048339844,-37.79960250854492,-35.206363677978516,-39.16396713256836],\"type\":\"scatter\",\"xaxis\":\"x3\",\"yaxis\":\"y3\"},{\"marker\":{\"color\":\"#AB63FA\",\"symbol\":\"square\"},\"mode\":\"markers\",\"x\":[],\"y\":[],\"type\":\"scatter\",\"xaxis\":\"x3\",\"yaxis\":\"y3\"},{\"marker\":{\"color\":\"#AB63FA\",\"symbol\":\"diamond\"},\"mode\":\"markers\",\"x\":[],\"y\":[],\"type\":\"scatter\",\"xaxis\":\"x3\",\"yaxis\":\"y3\"},{\"marker\":{\"color\":\"#FFA15A\",\"symbol\":\"circle\"},\"mode\":\"markers\",\"x\":[],\"y\":[],\"type\":\"scatter\",\"xaxis\":\"x3\",\"yaxis\":\"y3\"},{\"marker\":{\"color\":\"#FFA15A\",\"symbol\":\"square\"},\"mode\":\"markers\",\"x\":[3.2,3.2,3.1,2.3,3.3,2.4,2.7,3.0,2.9,2.9,3.0,2.2,3.2,2.8,2.9,3.0,2.6,2.4,2.7,3.0,2.6,2.3,3.0,2.9,2.5,2.8],\"y\":[4.014222621917725,8.775982856750488,4.242965221405029,3.4306201934814453,7.348371982574463,3.235743522644043,6.563713073730469,7.618572235107422,3.855525255203247,2.934771776199341,5.353788375854492,3.440448522567749,6.89024543762207,8.094673156738281,7.743357181549072,7.349643230438232,4.80417013168335,6.095212936401367,7.15225076675415,5.923835754394531,5.190525531768799,4.796754837036133,6.006209850311279,6.141338348388672,4.547287464141846,6.649055480957031],\"type\":\"scatter\",\"xaxis\":\"x3\",\"yaxis\":\"y3\"},{\"marker\":{\"color\":\"#FFA15A\",\"symbol\":\"diamond\"},\"mode\":\"markers\",\"x\":[3.3,3.0,2.9,3.0,2.9,2.5,3.2,2.7,2.5,2.8,3.0,3.8,2.6,2.2,2.8,3.2,3.0,3.8,2.6,3.4,3.1,3.0,3.0,3.0,3.4],\"y\":[10.165868759155273,12.414013862609863,10.586454391479492,7.95958948135376,7.655981063842773,12.0018310546875,5.242469787597656,10.885683059692383,5.333797931671143,5.214205741882324,11.213189125061035,9.728404998779297,7.284785747528076,8.637451171875,7.611509323120117,9.50614070892334,6.9162116050720215,9.239571571350098,8.472759246826172,11.10873031616211,9.985489845275879,7.053031921386719,5.776467800140381,6.234777450561523,10.742509841918945],\"type\":\"scatter\",\"xaxis\":\"x3\",\"yaxis\":\"y3\"},{\"marker\":{\"color\":\"#19D3F3\",\"symbol\":\"circle\"},\"mode\":\"markers\",\"x\":[],\"y\":[],\"type\":\"scatter\",\"xaxis\":\"x3\",\"yaxis\":\"y3\"},{\"marker\":{\"color\":\"#19D3F3\",\"symbol\":\"square\"},\"mode\":\"markers\",\"x\":[2.8,2.8,2.9,2.0,2.2,3.1,2.7,2.5,2.8,2.5,3.0,2.8,2.9,2.4,2.7,3.0,3.4,3.1,2.3,3.0,2.5,2.6,2.7,2.9],\"y\":[14.334962844848633,11.903448104858398,14.409183502197266,14.431199073791504,15.771817207336426,15.718387603759766,12.745941162109375,13.349251747131348,9.622401237487793,13.360259056091309,17.118478775024414,14.551738739013672,16.844989776611328,13.74179458618164,13.027938842773438,11.59333610534668,16.530410766601562,16.094852447509766,17.13031005859375,14.497734069824219,15.143709182739258,11.196189880371094,13.723736763000488,14.863064765930176],\"type\":\"scatter\",\"xaxis\":\"x3\",\"yaxis\":\"y3\"},{\"marker\":{\"color\":\"#19D3F3\",\"symbol\":\"diamond\"},\"mode\":\"markers\",\"x\":[2.7,3.0,2.5,3.6,3.0,3.2,3.2,2.8,2.7,3.3,2.8,3.0,2.8,2.8,2.8,2.8,3.0,3.1,3.1,3.1,2.7,3.2,3.3,2.5,3.0],\"y\":[11.218035697937012,16.10679817199707,16.085220336914062,17.632226943969727,18.386980056762695,14.442492485046387,14.50839614868164,14.449069023132324,14.680173873901367,18.17606544494629,17.4842529296875,13.728838920593262,13.542242050170898,14.799988746643066,13.896896362304688,13.09866714477539,17.107738494873047,18.147918701171875,13.496840476989746,15.071805953979492,12.044949531555176,15.151666641235352,17.551897048950195,12.653971672058105,13.075122833251953],\"type\":\"scatter\",\"xaxis\":\"x3\",\"yaxis\":\"y3\"},{\"marker\":{\"color\":\"#AB63FA\",\"symbol\":\"circle\"},\"mode\":\"markers\",\"x\":[3.5,3.0,3.2,3.1,3.6,3.9,3.4,3.4,2.9,3.1,3.7,3.4,3.0,3.0,4.0,4.4,3.9,3.5,3.8,3.8,3.4,3.7,3.6,3.3,3.4,3.0,3.4,3.5,3.4,3.2,3.1,3.4,4.1,4.2,3.1,3.2,3.5,3.1,3.0,3.4,3.5,2.3,3.2,3.5,3.8,3.0,3.8,3.2,3.7,3.3],\"y\":[1.9782309532165527,0.6746001243591309,3.3806400299072266,1.1847847700119019,0.8505303263664246,0.6098247766494751,2.1525468826293945,0.7125798463821411,1.9917235374450684,1.1853677034378052,-0.34930944442749023,0.16002978384494781,1.6219017505645752,4.044059753417969,-1.0704758167266846,3.5246715545654297,2.6276087760925293,1.1164549589157104,2.525304079055786,1.9848382472991943,1.5917704105377197,1.4439189434051514,3.0002267360687256,0.8413803577423096,1.556354284286499,1.5108177661895752,0.8054112195968628,1.385806918144226,1.5475457906723022,0.21151374280452728,0.3187219798564911,1.6853941679000854,-0.43691012263298035,3.16678524017334,1.5343297719955444,0.637306272983551,1.9677637815475464,0.1307530403137207,4.015730857849121,0.7911084890365601,1.3075525760650635,1.6901565790176392,3.0304672718048096,1.0699782371520996,0.537964940071106,2.152331829071045,-0.06239163503050804,2.3214643001556396,1.269839882850647,0.9059963226318359],\"type\":\"scatter\",\"xaxis\":\"x4\",\"yaxis\":\"y4\"},{\"marker\":{\"color\":\"#AB63FA\",\"symbol\":\"square\"},\"mode\":\"markers\",\"x\":[],\"y\":[],\"type\":\"scatter\",\"xaxis\":\"x4\",\"yaxis\":\"y4\"},{\"marker\":{\"color\":\"#AB63FA\",\"symbol\":\"diamond\"},\"mode\":\"markers\",\"x\":[],\"y\":[],\"type\":\"scatter\",\"xaxis\":\"x4\",\"yaxis\":\"y4\"},{\"marker\":{\"color\":\"#FFA15A\",\"symbol\":\"circle\"},\"mode\":\"markers\",\"x\":[],\"y\":[],\"type\":\"scatter\",\"xaxis\":\"x4\",\"yaxis\":\"y4\"},{\"marker\":{\"color\":\"#FFA15A\",\"symbol\":\"square\"},\"mode\":\"markers\",\"x\":[3.2,3.2,3.1,2.3,3.3,2.4,2.7,3.0,2.9,2.9,3.0,2.2,3.2,2.8,2.9,3.0,2.6,2.4,2.7,3.0,2.6,2.3,3.0,2.9,2.5,2.8],\"y\":[-4.641530513763428,1.1262673139572144,-4.683850288391113,-0.06226806715130806,-0.7810777425765991,1.3686103820800781,3.717709541320801,2.122976303100586,-2.9967575073242188,-0.04167281836271286,-0.46485769748687744,-2.255537271499634,-1.3727614879608154,0.6745356917381287,1.0752087831497192,-3.2673890590667725,2.3320229053497314,3.895268440246582,3.169539213180542,-0.8906552791595459,1.2989015579223633,3.589221715927124,1.1899073123931885,0.16328121721744537,3.5967698097229004,2.3201568126678467],\"type\":\"scatter\",\"xaxis\":\"x4\",\"yaxis\":\"y4\"},{\"marker\":{\"color\":\"#FFA15A\",\"symbol\":\"diamond\"},\"mode\":\"markers\",\"x\":[3.3,3.0,2.9,3.0,2.9,2.5,3.2,2.7,2.5,2.8,3.0,3.8,2.6,2.2,2.8,3.2,3.0,3.8,2.6,3.4,3.1,3.0,3.0,3.0,3.4],\"y\":[-5.66486120223999,-5.563965797424316,-3.6322104930877686,-8.127008438110352,-7.469466686248779,-3.9460020065307617,-4.514206886291504,-2.932971477508545,-2.6403379440307617,-3.314539909362793,-3.631505250930786,-8.34316635131836,-8.579639434814453,-1.8464370965957642,-8.253263473510742,-7.007900238037109,-6.883189678192139,-8.303488731384277,-3.108177900314331,-5.171982765197754,-3.9322450160980225,-1.515783667564392,-4.825747013092041,-4.266621112823486,-4.928127765655518],\"type\":\"scatter\",\"xaxis\":\"x4\",\"yaxis\":\"y4\"},{\"marker\":{\"color\":\"#19D3F3\",\"symbol\":\"circle\"},\"mode\":\"markers\",\"x\":[],\"y\":[],\"type\":\"scatter\",\"xaxis\":\"x4\",\"yaxis\":\"y4\"},{\"marker\":{\"color\":\"#19D3F3\",\"symbol\":\"square\"},\"mode\":\"markers\",\"x\":[2.8,2.8,2.9,2.0,2.2,3.1,2.7,2.5,2.8,2.5,3.0,2.8,2.9,2.4,2.7,3.0,3.4,3.1,2.3,3.0,2.5,2.6,2.7,2.9],\"y\":[1.1577520370483398,4.69326639175415,0.6898844838142395,7.979663372039795,6.657754898071289,2.0287561416625977,6.022262096405029,6.72208833694458,3.9016780853271484,0.9320801496505737,4.490322589874268,0.4461960792541504,5.487785339355469,7.114231109619141,1.7830777168273926,4.3970136642456055,4.908376693725586,2.5713655948638916,6.132036209106445,6.157508373260498,7.025099277496338,4.944335460662842,6.0136590003967285,6.005072593688965],\"type\":\"scatter\",\"xaxis\":\"x4\",\"yaxis\":\"y4\"},{\"marker\":{\"color\":\"#19D3F3\",\"symbol\":\"diamond\"},\"mode\":\"markers\",\"x\":[2.7,3.0,2.5,3.6,3.0,3.2,3.2,2.8,2.7,3.3,2.8,3.0,2.8,2.8,2.8,2.8,3.0,3.1,3.1,3.1,2.7,3.2,3.3,2.5,3.0],\"y\":[-0.6797329783439636,-2.905392646789551,7.668055057525635,-3.0154356956481934,-0.8049881458282471,-2.8407604694366455,-4.141433238983154,3.8725595474243164,2.74452805519104,-1.4635645151138306,5.0140156745910645,2.364332914352417,-2.977773904800415,-5.3109450340271,-3.0371155738830566,0.19033533334732056,-3.9494857788085938,-0.8481847643852234,-4.282032489776611,-2.744612693786621,0.630505383014679,-3.993302345275879,-2.167320728302002,-0.2918590009212494,2.297551393508911],\"type\":\"scatter\",\"xaxis\":\"x4\",\"yaxis\":\"y4\"},{\"marker\":{\"color\":\"#AB63FA\",\"symbol\":\"circle\"},\"mode\":\"markers\",\"x\":[1.5,4.0,1.8,3.9,2.8,1.3,0.5,0.3,3.4,3.5,3.7,3.9,0.4,1.6,3.7,1.6,2.4,0.9,1.6,2.3,2.6,1.5,1.4,3.4,1.2,3.4,2.2,1.9,1.7,2.6,4.9,2.7,3.4,2.0,0.6,3.5,2.1,2.3,1.7,0.5,2.3,4.0,1.0,2.3,1.0,0.4,0.2,0.8,1.3,0.3],\"y\":[-34.76945877075195,-25.801301956176758,-35.012264251708984,-25.91923713684082,-29.418853759765625,-34.972190856933594,-38.46078109741211,-38.6751708984375,-26.33692169189453,-26.77630043029785,-27.179183959960938,-26.240222930908203,-39.29716873168945,-36.22127914428711,-27.440113067626953,-33.09178924560547,-31.031030654907227,-37.0986213684082,-33.571529388427734,-31.23456573486328,-30.061946868896484,-34.58769607543945,-36.11408233642578,-27.713228225708008,-36.37185287475586,-27.235816955566406,-31.782638549804688,-32.9682731628418,-33.7666130065918,-30.196916580200195,-24.89792251586914,-29.68397331237793,-28.0044002532959,-32.2863883972168,-38.26734924316406,-26.949481964111328,-32.24144744873047,-31.15902328491211,-35.70889663696289,-37.9740104675293,-31.38579559326172,-25.202274322509766,-37.482181549072266,-30.988927841186523,-36.179988861083984,-39.15074157714844,-38.39537048339844,-37.79960250854492,-35.206363677978516,-39.16396713256836],\"type\":\"scatter\",\"xaxis\":\"x5\",\"yaxis\":\"y5\"},{\"marker\":{\"color\":\"#AB63FA\",\"symbol\":\"square\"},\"mode\":\"markers\",\"x\":[],\"y\":[],\"type\":\"scatter\",\"xaxis\":\"x5\",\"yaxis\":\"y5\"},{\"marker\":{\"color\":\"#AB63FA\",\"symbol\":\"diamond\"},\"mode\":\"markers\",\"x\":[],\"y\":[],\"type\":\"scatter\",\"xaxis\":\"x5\",\"yaxis\":\"y5\"},{\"marker\":{\"color\":\"#FFA15A\",\"symbol\":\"circle\"},\"mode\":\"markers\",\"x\":[],\"y\":[],\"type\":\"scatter\",\"xaxis\":\"x5\",\"yaxis\":\"y5\"},{\"marker\":{\"color\":\"#FFA15A\",\"symbol\":\"square\"},\"mode\":\"markers\",\"x\":[4.6,2.7,4.8,4.5,3.3,4.3,2.7,2.8,4.7,4.9,3.8,4.9,3.4,2.9,3.0,3.5,3.5,2.6,2.7,3.8,3.6,3.1,3.4,3.6,3.1,3.0],\"y\":[4.014222621917725,8.775982856750488,4.242965221405029,3.4306201934814453,7.348371982574463,3.235743522644043,6.563713073730469,7.618572235107422,3.855525255203247,2.934771776199341,5.353788375854492,3.440448522567749,6.89024543762207,8.094673156738281,7.743357181549072,7.349643230438232,4.80417013168335,6.095212936401367,7.15225076675415,5.923835754394531,5.190525531768799,4.796754837036133,6.006209850311279,6.141338348388672,4.547287464141846,6.649055480957031],\"type\":\"scatter\",\"xaxis\":\"x5\",\"yaxis\":\"y5\"},{\"marker\":{\"color\":\"#FFA15A\",\"symbol\":\"diamond\"},\"mode\":\"markers\",\"x\":[3.5,2.9,3.0,4.3,4.2,2.8,4.5,2.9,4.1,4.5,2.8,3.1,4.8,3.3,4.4,3.4,4.4,3.6,3.7,2.9,3.2,3.4,4.3,4.0,3.0],\"y\":[10.165868759155273,12.414013862609863,10.586454391479492,7.95958948135376,7.655981063842773,12.0018310546875,5.242469787597656,10.885683059692383,5.333797931671143,5.214205741882324,11.213189125061035,9.728404998779297,7.284785747528076,8.637451171875,7.611509323120117,9.50614070892334,6.9162116050720215,9.239571571350098,8.472759246826172,11.10873031616211,9.985489845275879,7.053031921386719,5.776467800140381,6.234777450561523,10.742509841918945],\"type\":\"scatter\",\"xaxis\":\"x5\",\"yaxis\":\"y5\"},{\"marker\":{\"color\":\"#19D3F3\",\"symbol\":\"circle\"},\"mode\":\"markers\",\"x\":[],\"y\":[],\"type\":\"scatter\",\"xaxis\":\"x5\",\"yaxis\":\"y5\"},{\"marker\":{\"color\":\"#19D3F3\",\"symbol\":\"square\"},\"mode\":\"markers\",\"x\":[2.0,1.9,2.2,0.8,0.6,1.5,1.6,1.4,2.2,2.0,0.3,2.1,0.1,1.3,1.8,2.0,0.3,1.1,0.0,1.0,0.6,2.1,1.3,0.9],\"y\":[14.334962844848633,11.903448104858398,14.409183502197266,14.431199073791504,15.771817207336426,15.718387603759766,12.745941162109375,13.349251747131348,9.622401237487793,13.360259056091309,17.118478775024414,14.551738739013672,16.844989776611328,13.74179458618164,13.027938842773438,11.59333610534668,16.530410766601562,16.094852447509766,17.13031005859375,14.497734069824219,15.143709182739258,11.196189880371094,13.723736763000488,14.863064765930176],\"type\":\"scatter\",\"xaxis\":\"x5\",\"yaxis\":\"y5\"},{\"marker\":{\"color\":\"#19D3F3\",\"symbol\":\"diamond\"},\"mode\":\"markers\",\"x\":[2.7,1.5,0.3,1.1,0.3,2.1,2.2,1.1,1.3,0.5,0.2,1.7,2.2,2.2,2.1,2.3,1.4,0.4,2.5,1.9,2.2,2.0,1.0,2.3,1.8],\"y\":[11.218035697937012,16.10679817199707,16.085220336914062,17.632226943969727,18.386980056762695,14.442492485046387,14.50839614868164,14.449069023132324,14.680173873901367,18.17606544494629,17.4842529296875,13.728838920593262,13.542242050170898,14.799988746643066,13.896896362304688,13.09866714477539,17.107738494873047,18.147918701171875,13.496840476989746,15.071805953979492,12.044949531555176,15.151666641235352,17.551897048950195,12.653971672058105,13.075122833251953],\"type\":\"scatter\",\"xaxis\":\"x5\",\"yaxis\":\"y5\"},{\"marker\":{\"color\":\"#AB63FA\",\"symbol\":\"circle\"},\"mode\":\"markers\",\"x\":[1.5,4.0,1.8,3.9,2.8,1.3,0.5,0.3,3.4,3.5,3.7,3.9,0.4,1.6,3.7,1.6,2.4,0.9,1.6,2.3,2.6,1.5,1.4,3.4,1.2,3.4,2.2,1.9,1.7,2.6,4.9,2.7,3.4,2.0,0.6,3.5,2.1,2.3,1.7,0.5,2.3,4.0,1.0,2.3,1.0,0.4,0.2,0.8,1.3,0.3],\"y\":[1.9782309532165527,0.6746001243591309,3.3806400299072266,1.1847847700119019,0.8505303263664246,0.6098247766494751,2.1525468826293945,0.7125798463821411,1.9917235374450684,1.1853677034378052,-0.34930944442749023,0.16002978384494781,1.6219017505645752,4.044059753417969,-1.0704758167266846,3.5246715545654297,2.6276087760925293,1.1164549589157104,2.525304079055786,1.9848382472991943,1.5917704105377197,1.4439189434051514,3.0002267360687256,0.8413803577423096,1.556354284286499,1.5108177661895752,0.8054112195968628,1.385806918144226,1.5475457906723022,0.21151374280452728,0.3187219798564911,1.6853941679000854,-0.43691012263298035,3.16678524017334,1.5343297719955444,0.637306272983551,1.9677637815475464,0.1307530403137207,4.015730857849121,0.7911084890365601,1.3075525760650635,1.6901565790176392,3.0304672718048096,1.0699782371520996,0.537964940071106,2.152331829071045,-0.06239163503050804,2.3214643001556396,1.269839882850647,0.9059963226318359],\"type\":\"scatter\",\"xaxis\":\"x6\",\"yaxis\":\"y6\"},{\"marker\":{\"color\":\"#AB63FA\",\"symbol\":\"square\"},\"mode\":\"markers\",\"x\":[],\"y\":[],\"type\":\"scatter\",\"xaxis\":\"x6\",\"yaxis\":\"y6\"},{\"marker\":{\"color\":\"#AB63FA\",\"symbol\":\"diamond\"},\"mode\":\"markers\",\"x\":[],\"y\":[],\"type\":\"scatter\",\"xaxis\":\"x6\",\"yaxis\":\"y6\"},{\"marker\":{\"color\":\"#FFA15A\",\"symbol\":\"circle\"},\"mode\":\"markers\",\"x\":[],\"y\":[],\"type\":\"scatter\",\"xaxis\":\"x6\",\"yaxis\":\"y6\"},{\"marker\":{\"color\":\"#FFA15A\",\"symbol\":\"square\"},\"mode\":\"markers\",\"x\":[4.6,2.7,4.8,4.5,3.3,4.3,2.7,2.8,4.7,4.9,3.8,4.9,3.4,2.9,3.0,3.5,3.5,2.6,2.7,3.8,3.6,3.1,3.4,3.6,3.1,3.0],\"y\":[-4.641530513763428,1.1262673139572144,-4.683850288391113,-0.06226806715130806,-0.7810777425765991,1.3686103820800781,3.717709541320801,2.122976303100586,-2.9967575073242188,-0.04167281836271286,-0.46485769748687744,-2.255537271499634,-1.3727614879608154,0.6745356917381287,1.0752087831497192,-3.2673890590667725,2.3320229053497314,3.895268440246582,3.169539213180542,-0.8906552791595459,1.2989015579223633,3.589221715927124,1.1899073123931885,0.16328121721744537,3.5967698097229004,2.3201568126678467],\"type\":\"scatter\",\"xaxis\":\"x6\",\"yaxis\":\"y6\"},{\"marker\":{\"color\":\"#FFA15A\",\"symbol\":\"diamond\"},\"mode\":\"markers\",\"x\":[3.5,2.9,3.0,4.3,4.2,2.8,4.5,2.9,4.1,4.5,2.8,3.1,4.8,3.3,4.4,3.4,4.4,3.6,3.7,2.9,3.2,3.4,4.3,4.0,3.0],\"y\":[-5.66486120223999,-5.563965797424316,-3.6322104930877686,-8.127008438110352,-7.469466686248779,-3.9460020065307617,-4.514206886291504,-2.932971477508545,-2.6403379440307617,-3.314539909362793,-3.631505250930786,-8.34316635131836,-8.579639434814453,-1.8464370965957642,-8.253263473510742,-7.007900238037109,-6.883189678192139,-8.303488731384277,-3.108177900314331,-5.171982765197754,-3.9322450160980225,-1.515783667564392,-4.825747013092041,-4.266621112823486,-4.928127765655518],\"type\":\"scatter\",\"xaxis\":\"x6\",\"yaxis\":\"y6\"},{\"marker\":{\"color\":\"#19D3F3\",\"symbol\":\"circle\"},\"mode\":\"markers\",\"x\":[],\"y\":[],\"type\":\"scatter\",\"xaxis\":\"x6\",\"yaxis\":\"y6\"},{\"marker\":{\"color\":\"#19D3F3\",\"symbol\":\"square\"},\"mode\":\"markers\",\"x\":[2.0,1.9,2.2,0.8,0.6,1.5,1.6,1.4,2.2,2.0,0.3,2.1,0.1,1.3,1.8,2.0,0.3,1.1,0.0,1.0,0.6,2.1,1.3,0.9],\"y\":[1.1577520370483398,4.69326639175415,0.6898844838142395,7.979663372039795,6.657754898071289,2.0287561416625977,6.022262096405029,6.72208833694458,3.9016780853271484,0.9320801496505737,4.490322589874268,0.4461960792541504,5.487785339355469,7.114231109619141,1.7830777168273926,4.3970136642456055,4.908376693725586,2.5713655948638916,6.132036209106445,6.157508373260498,7.025099277496338,4.944335460662842,6.0136590003967285,6.005072593688965],\"type\":\"scatter\",\"xaxis\":\"x6\",\"yaxis\":\"y6\"},{\"marker\":{\"color\":\"#19D3F3\",\"symbol\":\"diamond\"},\"mode\":\"markers\",\"x\":[2.7,1.5,0.3,1.1,0.3,2.1,2.2,1.1,1.3,0.5,0.2,1.7,2.2,2.2,2.1,2.3,1.4,0.4,2.5,1.9,2.2,2.0,1.0,2.3,1.8],\"y\":[-0.6797329783439636,-2.905392646789551,7.668055057525635,-3.0154356956481934,-0.8049881458282471,-2.8407604694366455,-4.141433238983154,3.8725595474243164,2.74452805519104,-1.4635645151138306,5.0140156745910645,2.364332914352417,-2.977773904800415,-5.3109450340271,-3.0371155738830566,0.19033533334732056,-3.9494857788085938,-0.8481847643852234,-4.282032489776611,-2.744612693786621,0.630505383014679,-3.993302345275879,-2.167320728302002,-0.2918590009212494,2.297551393508911],\"type\":\"scatter\",\"xaxis\":\"x6\",\"yaxis\":\"y6\"}],                        {\"template\":{\"data\":{\"bar\":[{\"error_x\":{\"color\":\"#2a3f5f\"},\"error_y\":{\"color\":\"#2a3f5f\"},\"marker\":{\"line\":{\"color\":\"#E5ECF6\",\"width\":0.5},\"pattern\":{\"fillmode\":\"overlay\",\"size\":10,\"solidity\":0.2}},\"type\":\"bar\"}],\"barpolar\":[{\"marker\":{\"line\":{\"color\":\"#E5ECF6\",\"width\":0.5},\"pattern\":{\"fillmode\":\"overlay\",\"size\":10,\"solidity\":0.2}},\"type\":\"barpolar\"}],\"carpet\":[{\"aaxis\":{\"endlinecolor\":\"#2a3f5f\",\"gridcolor\":\"white\",\"linecolor\":\"white\",\"minorgridcolor\":\"white\",\"startlinecolor\":\"#2a3f5f\"},\"baxis\":{\"endlinecolor\":\"#2a3f5f\",\"gridcolor\":\"white\",\"linecolor\":\"white\",\"minorgridcolor\":\"white\",\"startlinecolor\":\"#2a3f5f\"},\"type\":\"carpet\"}],\"choropleth\":[{\"colorbar\":{\"outlinewidth\":0,\"ticks\":\"\"},\"type\":\"choropleth\"}],\"contour\":[{\"colorbar\":{\"outlinewidth\":0,\"ticks\":\"\"},\"colorscale\":[[0.0,\"#0d0887\"],[0.1111111111111111,\"#46039f\"],[0.2222222222222222,\"#7201a8\"],[0.3333333333333333,\"#9c179e\"],[0.4444444444444444,\"#bd3786\"],[0.5555555555555556,\"#d8576b\"],[0.6666666666666666,\"#ed7953\"],[0.7777777777777778,\"#fb9f3a\"],[0.8888888888888888,\"#fdca26\"],[1.0,\"#f0f921\"]],\"type\":\"contour\"}],\"contourcarpet\":[{\"colorbar\":{\"outlinewidth\":0,\"ticks\":\"\"},\"type\":\"contourcarpet\"}],\"heatmap\":[{\"colorbar\":{\"outlinewidth\":0,\"ticks\":\"\"},\"colorscale\":[[0.0,\"#0d0887\"],[0.1111111111111111,\"#46039f\"],[0.2222222222222222,\"#7201a8\"],[0.3333333333333333,\"#9c179e\"],[0.4444444444444444,\"#bd3786\"],[0.5555555555555556,\"#d8576b\"],[0.6666666666666666,\"#ed7953\"],[0.7777777777777778,\"#fb9f3a\"],[0.8888888888888888,\"#fdca26\"],[1.0,\"#f0f921\"]],\"type\":\"heatmap\"}],\"heatmapgl\":[{\"colorbar\":{\"outlinewidth\":0,\"ticks\":\"\"},\"colorscale\":[[0.0,\"#0d0887\"],[0.1111111111111111,\"#46039f\"],[0.2222222222222222,\"#7201a8\"],[0.3333333333333333,\"#9c179e\"],[0.4444444444444444,\"#bd3786\"],[0.5555555555555556,\"#d8576b\"],[0.6666666666666666,\"#ed7953\"],[0.7777777777777778,\"#fb9f3a\"],[0.8888888888888888,\"#fdca26\"],[1.0,\"#f0f921\"]],\"type\":\"heatmapgl\"}],\"histogram\":[{\"marker\":{\"pattern\":{\"fillmode\":\"overlay\",\"size\":10,\"solidity\":0.2}},\"type\":\"histogram\"}],\"histogram2d\":[{\"colorbar\":{\"outlinewidth\":0,\"ticks\":\"\"},\"colorscale\":[[0.0,\"#0d0887\"],[0.1111111111111111,\"#46039f\"],[0.2222222222222222,\"#7201a8\"],[0.3333333333333333,\"#9c179e\"],[0.4444444444444444,\"#bd3786\"],[0.5555555555555556,\"#d8576b\"],[0.6666666666666666,\"#ed7953\"],[0.7777777777777778,\"#fb9f3a\"],[0.8888888888888888,\"#fdca26\"],[1.0,\"#f0f921\"]],\"type\":\"histogram2d\"}],\"histogram2dcontour\":[{\"colorbar\":{\"outlinewidth\":0,\"ticks\":\"\"},\"colorscale\":[[0.0,\"#0d0887\"],[0.1111111111111111,\"#46039f\"],[0.2222222222222222,\"#7201a8\"],[0.3333333333333333,\"#9c179e\"],[0.4444444444444444,\"#bd3786\"],[0.5555555555555556,\"#d8576b\"],[0.6666666666666666,\"#ed7953\"],[0.7777777777777778,\"#fb9f3a\"],[0.8888888888888888,\"#fdca26\"],[1.0,\"#f0f921\"]],\"type\":\"histogram2dcontour\"}],\"mesh3d\":[{\"colorbar\":{\"outlinewidth\":0,\"ticks\":\"\"},\"type\":\"mesh3d\"}],\"parcoords\":[{\"line\":{\"colorbar\":{\"outlinewidth\":0,\"ticks\":\"\"}},\"type\":\"parcoords\"}],\"pie\":[{\"automargin\":true,\"type\":\"pie\"}],\"scatter\":[{\"marker\":{\"colorbar\":{\"outlinewidth\":0,\"ticks\":\"\"}},\"type\":\"scatter\"}],\"scatter3d\":[{\"line\":{\"colorbar\":{\"outlinewidth\":0,\"ticks\":\"\"}},\"marker\":{\"colorbar\":{\"outlinewidth\":0,\"ticks\":\"\"}},\"type\":\"scatter3d\"}],\"scattercarpet\":[{\"marker\":{\"colorbar\":{\"outlinewidth\":0,\"ticks\":\"\"}},\"type\":\"scattercarpet\"}],\"scattergeo\":[{\"marker\":{\"colorbar\":{\"outlinewidth\":0,\"ticks\":\"\"}},\"type\":\"scattergeo\"}],\"scattergl\":[{\"marker\":{\"colorbar\":{\"outlinewidth\":0,\"ticks\":\"\"}},\"type\":\"scattergl\"}],\"scattermapbox\":[{\"marker\":{\"colorbar\":{\"outlinewidth\":0,\"ticks\":\"\"}},\"type\":\"scattermapbox\"}],\"scatterpolar\":[{\"marker\":{\"colorbar\":{\"outlinewidth\":0,\"ticks\":\"\"}},\"type\":\"scatterpolar\"}],\"scatterpolargl\":[{\"marker\":{\"colorbar\":{\"outlinewidth\":0,\"ticks\":\"\"}},\"type\":\"scatterpolargl\"}],\"scatterternary\":[{\"marker\":{\"colorbar\":{\"outlinewidth\":0,\"ticks\":\"\"}},\"type\":\"scatterternary\"}],\"surface\":[{\"colorbar\":{\"outlinewidth\":0,\"ticks\":\"\"},\"colorscale\":[[0.0,\"#0d0887\"],[0.1111111111111111,\"#46039f\"],[0.2222222222222222,\"#7201a8\"],[0.3333333333333333,\"#9c179e\"],[0.4444444444444444,\"#bd3786\"],[0.5555555555555556,\"#d8576b\"],[0.6666666666666666,\"#ed7953\"],[0.7777777777777778,\"#fb9f3a\"],[0.8888888888888888,\"#fdca26\"],[1.0,\"#f0f921\"]],\"type\":\"surface\"}],\"table\":[{\"cells\":{\"fill\":{\"color\":\"#EBF0F8\"},\"line\":{\"color\":\"white\"}},\"header\":{\"fill\":{\"color\":\"#C8D4E3\"},\"line\":{\"color\":\"white\"}},\"type\":\"table\"}]},\"layout\":{\"annotationdefaults\":{\"arrowcolor\":\"#2a3f5f\",\"arrowhead\":0,\"arrowwidth\":1},\"autotypenumbers\":\"strict\",\"coloraxis\":{\"colorbar\":{\"outlinewidth\":0,\"ticks\":\"\"}},\"colorscale\":{\"diverging\":[[0,\"#8e0152\"],[0.1,\"#c51b7d\"],[0.2,\"#de77ae\"],[0.3,\"#f1b6da\"],[0.4,\"#fde0ef\"],[0.5,\"#f7f7f7\"],[0.6,\"#e6f5d0\"],[0.7,\"#b8e186\"],[0.8,\"#7fbc41\"],[0.9,\"#4d9221\"],[1,\"#276419\"]],\"sequential\":[[0.0,\"#0d0887\"],[0.1111111111111111,\"#46039f\"],[0.2222222222222222,\"#7201a8\"],[0.3333333333333333,\"#9c179e\"],[0.4444444444444444,\"#bd3786\"],[0.5555555555555556,\"#d8576b\"],[0.6666666666666666,\"#ed7953\"],[0.7777777777777778,\"#fb9f3a\"],[0.8888888888888888,\"#fdca26\"],[1.0,\"#f0f921\"]],\"sequentialminus\":[[0.0,\"#0d0887\"],[0.1111111111111111,\"#46039f\"],[0.2222222222222222,\"#7201a8\"],[0.3333333333333333,\"#9c179e\"],[0.4444444444444444,\"#bd3786\"],[0.5555555555555556,\"#d8576b\"],[0.6666666666666666,\"#ed7953\"],[0.7777777777777778,\"#fb9f3a\"],[0.8888888888888888,\"#fdca26\"],[1.0,\"#f0f921\"]]},\"colorway\":[\"#636efa\",\"#EF553B\",\"#00cc96\",\"#ab63fa\",\"#FFA15A\",\"#19d3f3\",\"#FF6692\",\"#B6E880\",\"#FF97FF\",\"#FECB52\"],\"font\":{\"color\":\"#2a3f5f\"},\"geo\":{\"bgcolor\":\"white\",\"lakecolor\":\"white\",\"landcolor\":\"#E5ECF6\",\"showlakes\":true,\"showland\":true,\"subunitcolor\":\"white\"},\"hoverlabel\":{\"align\":\"left\"},\"hovermode\":\"closest\",\"mapbox\":{\"style\":\"light\"},\"paper_bgcolor\":\"white\",\"plot_bgcolor\":\"#E5ECF6\",\"polar\":{\"angularaxis\":{\"gridcolor\":\"white\",\"linecolor\":\"white\",\"ticks\":\"\"},\"bgcolor\":\"#E5ECF6\",\"radialaxis\":{\"gridcolor\":\"white\",\"linecolor\":\"white\",\"ticks\":\"\"}},\"scene\":{\"xaxis\":{\"backgroundcolor\":\"#E5ECF6\",\"gridcolor\":\"white\",\"gridwidth\":2,\"linecolor\":\"white\",\"showbackground\":true,\"ticks\":\"\",\"zerolinecolor\":\"white\"},\"yaxis\":{\"backgroundcolor\":\"#E5ECF6\",\"gridcolor\":\"white\",\"gridwidth\":2,\"linecolor\":\"white\",\"showbackground\":true,\"ticks\":\"\",\"zerolinecolor\":\"white\"},\"zaxis\":{\"backgroundcolor\":\"#E5ECF6\",\"gridcolor\":\"white\",\"gridwidth\":2,\"linecolor\":\"white\",\"showbackground\":true,\"ticks\":\"\",\"zerolinecolor\":\"white\"}},\"shapedefaults\":{\"line\":{\"color\":\"#2a3f5f\"}},\"ternary\":{\"aaxis\":{\"gridcolor\":\"white\",\"linecolor\":\"white\",\"ticks\":\"\"},\"baxis\":{\"gridcolor\":\"white\",\"linecolor\":\"white\",\"ticks\":\"\"},\"bgcolor\":\"#E5ECF6\",\"caxis\":{\"gridcolor\":\"white\",\"linecolor\":\"white\",\"ticks\":\"\"}},\"title\":{\"x\":0.05},\"xaxis\":{\"automargin\":true,\"gridcolor\":\"white\",\"linecolor\":\"white\",\"ticks\":\"\",\"title\":{\"standoff\":15},\"zerolinecolor\":\"white\",\"zerolinewidth\":2},\"yaxis\":{\"automargin\":true,\"gridcolor\":\"white\",\"linecolor\":\"white\",\"ticks\":\"\",\"title\":{\"standoff\":15},\"zerolinecolor\":\"white\",\"zerolinewidth\":2}}},\"xaxis\":{\"anchor\":\"y\",\"domain\":[0.0,0.485]},\"yaxis\":{\"anchor\":\"x\",\"domain\":[0.6866666666666665,0.9999999999999998]},\"xaxis2\":{\"anchor\":\"y2\",\"domain\":[0.515,1.0]},\"yaxis2\":{\"anchor\":\"x2\",\"domain\":[0.6866666666666665,0.9999999999999998]},\"xaxis3\":{\"anchor\":\"y3\",\"domain\":[0.0,0.485]},\"yaxis3\":{\"anchor\":\"x3\",\"domain\":[0.34333333333333327,0.6566666666666665]},\"xaxis4\":{\"anchor\":\"y4\",\"domain\":[0.515,1.0]},\"yaxis4\":{\"anchor\":\"x4\",\"domain\":[0.34333333333333327,0.6566666666666665]},\"xaxis5\":{\"anchor\":\"y5\",\"domain\":[0.0,0.485]},\"yaxis5\":{\"anchor\":\"x5\",\"domain\":[0.0,0.3133333333333333]},\"xaxis6\":{\"anchor\":\"y6\",\"domain\":[0.515,1.0]},\"yaxis6\":{\"anchor\":\"x6\",\"domain\":[0.0,0.3133333333333333]},\"height\":900,\"width\":1300},                        {\"responsive\": true}                    ).then(function(){\n",
              "                            \n",
              "var gd = document.getElementById('f9d16a09-b52a-443c-93ae-a7f7c106be40');\n",
              "var x = new MutationObserver(function (mutations, observer) {{\n",
              "        var display = window.getComputedStyle(gd).display;\n",
              "        if (!display || display === 'none') {{\n",
              "            console.log([gd, 'removed!']);\n",
              "            Plotly.purge(gd);\n",
              "            observer.disconnect();\n",
              "        }}\n",
              "}});\n",
              "\n",
              "// Listen for the removal of the full notebook cells\n",
              "var notebookContainer = gd.closest('#notebook-container');\n",
              "if (notebookContainer) {{\n",
              "    x.observe(notebookContainer, {childList: true});\n",
              "}}\n",
              "\n",
              "// Listen for the clearing of the current output cell\n",
              "var outputEl = gd.closest('.output');\n",
              "if (outputEl) {{\n",
              "    x.observe(outputEl, {childList: true});\n",
              "}}\n",
              "\n",
              "                        })                };                            </script>        </div>\n",
              "</body>\n",
              "</html>"
            ]
          },
          "metadata": {}
        }
      ]
    },
    {
      "cell_type": "code",
      "source": [
        "X3 = iris[['sepal_length', 'sepal_width', 'petal_length']]\n",
        "X3_embedded = TSNE(\n",
        "    n_components=2,\n",
        "    learning_rate='auto',\n",
        "    init='pca',\n",
        "    perplexity=20\n",
        ").fit_transform(X)\n",
        "iris3_embedded = pd.DataFrame(X3_embedded, columns=['x_1', 'x_2'])\n",
        "iris3_embedded['species'] = iris['species']\n",
        "\n",
        "fig = px.scatter(\n",
        "    iris3_embedded,\n",
        "    x='x_1',\n",
        "    y='x_2',\n",
        "    color='species'\n",
        ")\n",
        "fig.show()"
      ],
      "metadata": {
        "id": "5rlY0BlJaVKX"
      },
      "execution_count": null,
      "outputs": []
    },
    {
      "cell_type": "code",
      "execution_count": null,
      "metadata": {
        "id": "KzcZSj7PJVhM"
      },
      "outputs": [],
      "source": [
        "fig = px.scatter_3d(\n",
        "    iris,\n",
        "    x='sepal_length',\n",
        "    y='sepal_width',\n",
        "    z='petal_width',\n",
        "    color='species'\n",
        ")\n",
        "fig.show()"
      ]
    },
    {
      "cell_type": "code",
      "source": [],
      "metadata": {
        "id": "qDuQk053WF03"
      },
      "execution_count": null,
      "outputs": []
    }
  ]
}